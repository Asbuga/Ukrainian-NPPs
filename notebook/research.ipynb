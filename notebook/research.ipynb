{
 "cells": [
  {
   "cell_type": "markdown",
   "metadata": {
    "id": "-qcZ4rJUYPQn"
   },
   "source": [
    "# 📊 Ukrainian NPPs: Open Data Analysis "
   ]
  },
  {
   "cell_type": "markdown",
   "metadata": {},
   "source": [
    "## Work with API  \n",
    "\n",
    "Create variables according to the API documentation for loading dataset metadata  \n",
    "and exploring them. Takes dataset_id on a dataset page."
   ]
  },
  {
   "cell_type": "code",
   "execution_count": 2,
   "metadata": {},
   "outputs": [],
   "source": [
    "dataset_id = \"4a9d3d56-bd95-4c3e-97e7-1cdc7bcbd445\""
   ]
  },
  {
   "cell_type": "markdown",
   "metadata": {},
   "source": [
    "## Research dataset metadata\n",
    "\n",
    "Download dataset metadata."
   ]
  },
  {
   "cell_type": "code",
   "execution_count": 4,
   "metadata": {},
   "outputs": [
    {
     "name": "stdout",
     "output_type": "stream",
     "text": [
      "Metadata and resources is fetched.\n"
     ]
    },
    {
     "data": {
      "text/plain": [
       "'https://data.gov.ua/api/3/action/package_show?id=4a9d3d56-bd95-4c3e-97e7-1cdc7bcbd445'"
      ]
     },
     "execution_count": 4,
     "metadata": {},
     "output_type": "execute_result"
    }
   ],
   "source": [
    "from client import DataGovUAClient\n",
    "\n",
    "# This script fetches metadata for a specific dataset from the DataGovUA API.\n",
    "sesion = DataGovUAClient(dataset_id)\n",
    "sesion.fetch_metadata()\n",
    "sesion.BASE_URL + sesion.dataset_id"
   ]
  },
  {
   "cell_type": "markdown",
   "metadata": {},
   "source": [
    "You can reseach metadata with call `sesion.metadata`."
   ]
  },
  {
   "cell_type": "markdown",
   "metadata": {},
   "source": [
    "Add an identifier for the dataset passport and dataset. We see them in metadata.  \n",
    "For more details, look carefully at the link"
   ]
  },
  {
   "cell_type": "code",
   "execution_count": 5,
   "metadata": {},
   "outputs": [],
   "source": [
    "dataset_id = \"d55eebcf-4660-4919-96b3-4894be5a6cda\"\n",
    "passport_id = \"afa0c772-2554-4b9a-98b4-980e54b1e21a\""
   ]
  },
  {
   "cell_type": "markdown",
   "metadata": {},
   "source": [
    "Next takes links on resources from metadata via id."
   ]
  },
  {
   "cell_type": "code",
   "execution_count": 6,
   "metadata": {},
   "outputs": [
    {
     "name": "stdout",
     "output_type": "stream",
     "text": [
      "https://data.gov.ua/dataset/c445c6ea-f0c3-4167-abb1-5afb4a0e5499/resource/d55eebcf-4660-4919-96b3-4894be5a6cda/download/nuclear_safety_q1_2025.xlsx\n",
      "https://data.gov.ua/dataset/c445c6ea-f0c3-4167-abb1-5afb4a0e5499/resource/afa0c772-2554-4b9a-98b4-980e54b1e21a/download/pasport-naboru-danikh.xlsx\n"
     ]
    }
   ],
   "source": [
    "dataset_url = sesion.get_resource_url(resource_id=dataset_id)\n",
    "passport_url = sesion.get_resource_url(resource_id=passport_id)\n",
    "\n",
    "print(dataset_url)\n",
    "print(passport_url)"
   ]
  },
  {
   "cell_type": "markdown",
   "metadata": {},
   "source": [
    "## Dataset passport overview\n",
    "\n",
    "Now we have two different dataset: it's passport and dataset with annual  \n",
    "observations. First of all, let\"s see at a pasport  of dataset. Let's put  \n",
    "it in a tabular form."
   ]
  },
  {
   "cell_type": "code",
   "execution_count": 5,
   "metadata": {},
   "outputs": [
    {
     "data": {
      "text/html": [
       "<style type=\"text/css\">\n",
       "#T_27714 th {\n",
       "  text-align: center;\n",
       "}\n",
       "#T_27714 td {\n",
       "  white-space: pre-wrap;\n",
       "  text-align: left;\n",
       "  width: 300px;\n",
       "}\n",
       "</style>\n",
       "<table id=\"T_27714\">\n",
       "  <thead>\n",
       "    <tr>\n",
       "      <th class=\"blank level0\" >&nbsp;</th>\n",
       "      <th id=\"T_27714_level0_col0\" class=\"col_heading level0 col0\" >Назва набору</th>\n",
       "      <th id=\"T_27714_level0_col1\" class=\"col_heading level0 col1\" >Екологічна та радіаційна обстановка в зоні розташування атомних електростанцій</th>\n",
       "      <th id=\"T_27714_level0_col2\" class=\"col_heading level0 col2\" >Примітка</th>\n",
       "    </tr>\n",
       "  </thead>\n",
       "  <tbody>\n",
       "    <tr>\n",
       "      <th id=\"T_27714_level0_row0\" class=\"row_heading level0 row0\" >0</th>\n",
       "      <td id=\"T_27714_row0_col0\" class=\"data row0 col0\" >Формати файлів</td>\n",
       "      <td id=\"T_27714_row0_col1\" class=\"data row0 col1\" >xlsx, csv</td>\n",
       "      <td id=\"T_27714_row0_col2\" class=\"data row0 col2\" ></td>\n",
       "    </tr>\n",
       "    <tr>\n",
       "      <th id=\"T_27714_level0_row1\" class=\"row_heading level0 row1\" >1</th>\n",
       "      <td id=\"T_27714_row1_col0\" class=\"data row1 col0\" >Шаблон назв файлів</td>\n",
       "      <td id=\"T_27714_row1_col1\" class=\"data row1 col1\" >nuclear_safety_QN_РРРР</td>\n",
       "      <td id=\"T_27714_row1_col2\" class=\"data row1 col2\" ></td>\n",
       "    </tr>\n",
       "    <tr>\n",
       "      <th id=\"T_27714_level0_row2\" class=\"row_heading level0 row2\" >2</th>\n",
       "      <td id=\"T_27714_row2_col0\" class=\"data row2 col0\" >Ключові слова</td>\n",
       "      <td id=\"T_27714_row2_col1\" class=\"data row2 col1\" >енергоатом, викид, викиди, скид, скиди, радіоактивність, цезій, кобальт, аес, атомна станція, атомні станції</td>\n",
       "      <td id=\"T_27714_row2_col2\" class=\"data row2 col2\" ></td>\n",
       "    </tr>\n",
       "    <tr>\n",
       "      <th id=\"T_27714_level0_row3\" class=\"row_heading level0 row3\" >3</th>\n",
       "      <td id=\"T_27714_row3_col0\" class=\"data row3 col0\" >Періодичність оприлюднення</td>\n",
       "      <td id=\"T_27714_row3_col1\" class=\"data row3 col1\" >Щоквартально, до 25 числа місяця, наступного за звітнім періодом</td>\n",
       "      <td id=\"T_27714_row3_col2\" class=\"data row3 col2\" ></td>\n",
       "    </tr>\n",
       "    <tr>\n",
       "      <th id=\"T_27714_level0_row4\" class=\"row_heading level0 row4\" >4</th>\n",
       "      <td id=\"T_27714_row4_col0\" class=\"data row4 col0\" >Додаткові уточнення</td>\n",
       "      <td id=\"T_27714_row4_col1\" class=\"data row4 col1\" >У випадку відсутності інформації або наявності значень нижчих за мінімальну активність, що може бути виміряною, залишати комірку пустою</td>\n",
       "      <td id=\"T_27714_row4_col2\" class=\"data row4 col2\" ></td>\n",
       "    </tr>\n",
       "    <tr>\n",
       "      <th id=\"T_27714_level0_row5\" class=\"row_heading level0 row5\" >5</th>\n",
       "      <td id=\"T_27714_row5_col0\" class=\"data row5 col0\" ></td>\n",
       "      <td id=\"T_27714_row5_col1\" class=\"data row5 col1\" ></td>\n",
       "      <td id=\"T_27714_row5_col2\" class=\"data row5 col2\" ></td>\n",
       "    </tr>\n",
       "    <tr>\n",
       "      <th id=\"T_27714_level0_row6\" class=\"row_heading level0 row6\" >6</th>\n",
       "      <td id=\"T_27714_row6_col0\" class=\"data row6 col0\" >Структура набору:</td>\n",
       "      <td id=\"T_27714_row6_col1\" class=\"data row6 col1\" ></td>\n",
       "      <td id=\"T_27714_row6_col2\" class=\"data row6 col2\" ></td>\n",
       "    </tr>\n",
       "    <tr>\n",
       "      <th id=\"T_27714_level0_row7\" class=\"row_heading level0 row7\" >7</th>\n",
       "      <td id=\"T_27714_row7_col0\" class=\"data row7 col0\" >Назва поля</td>\n",
       "      <td id=\"T_27714_row7_col1\" class=\"data row7 col1\" >Переклад на українську</td>\n",
       "      <td id=\"T_27714_row7_col2\" class=\"data row7 col2\" >Опис</td>\n",
       "    </tr>\n",
       "    <tr>\n",
       "      <th id=\"T_27714_level0_row8\" class=\"row_heading level0 row8\" >8</th>\n",
       "      <td id=\"T_27714_row8_col0\" class=\"data row8 col0\" >year</td>\n",
       "      <td id=\"T_27714_row8_col1\" class=\"data row8 col1\" >рік</td>\n",
       "      <td id=\"T_27714_row8_col2\" class=\"data row8 col2\" >Формат РРРР</td>\n",
       "    </tr>\n",
       "    <tr>\n",
       "      <th id=\"T_27714_level0_row9\" class=\"row_heading level0 row9\" >9</th>\n",
       "      <td id=\"T_27714_row9_col0\" class=\"data row9 col0\" >quarter</td>\n",
       "      <td id=\"T_27714_row9_col1\" class=\"data row9 col1\" >квартал</td>\n",
       "      <td id=\"T_27714_row9_col2\" class=\"data row9 col2\" >Число від 1 до 4, де\n",
       "\"1\" означає період січень-березень\n",
       "\"2\" - квітень-червень\n",
       "\"3\" - липень-вересень\n",
       "\"4\" - жовтень-грудень</td>\n",
       "    </tr>\n",
       "    <tr>\n",
       "      <th id=\"T_27714_level0_row10\" class=\"row_heading level0 row10\" >10</th>\n",
       "      <td id=\"T_27714_row10_col0\" class=\"data row10 col0\" >Station</td>\n",
       "      <td id=\"T_27714_row10_col1\" class=\"data row10 col1\" >Назва станції</td>\n",
       "      <td id=\"T_27714_row10_col2\" class=\"data row10 col2\" >Текст\n",
       "Назва без змін</td>\n",
       "    </tr>\n",
       "    <tr>\n",
       "      <th id=\"T_27714_level0_row11\" class=\"row_heading level0 row11\" >11</th>\n",
       "      <td id=\"T_27714_row11_col0\" class=\"data row11 col0\" >Irg</td>\n",
       "      <td id=\"T_27714_row11_col1\" class=\"data row11 col1\" >ІРГ</td>\n",
       "      <td id=\"T_27714_row11_col2\" class=\"data row11 col2\" >Число, ГБк/добу\n",
       "Середньодобове значення радіоактивності газо-аерозольних викидів інертних радіоактивних газів у навколишнє середовище</td>\n",
       "    </tr>\n",
       "    <tr>\n",
       "      <th id=\"T_27714_level0_row12\" class=\"row_heading level0 row12\" >12</th>\n",
       "      <td id=\"T_27714_row12_col0\" class=\"data row12 col0\" >irg_index</td>\n",
       "      <td id=\"T_27714_row12_col1\" class=\"data row12 col1\" >Індекс викидів ІРГ</td>\n",
       "      <td id=\"T_27714_row12_col2\" class=\"data row12 col2\" >Число, %\n",
       "Відсоток від допустимого добового рівня викидів інертних радіоактивних газів у навколишнє середовище</td>\n",
       "    </tr>\n",
       "    <tr>\n",
       "      <th id=\"T_27714_level0_row13\" class=\"row_heading level0 row13\" >13</th>\n",
       "      <td id=\"T_27714_row13_col0\" class=\"data row13 col0\" >iodine_radionuclides</td>\n",
       "      <td id=\"T_27714_row13_col1\" class=\"data row13 col1\" >Радіонуклідів йоду</td>\n",
       "      <td id=\"T_27714_row13_col2\" class=\"data row13 col2\" >Число, кБк/добу\n",
       "Середньодобове значення радіоактивності газо-аерозольних викидів радіонуклідів йоду у навколишнє середовище</td>\n",
       "    </tr>\n",
       "    <tr>\n",
       "      <th id=\"T_27714_level0_row14\" class=\"row_heading level0 row14\" >14</th>\n",
       "      <td id=\"T_27714_row14_col0\" class=\"data row14 col0\" >iodine_radionuclides_index</td>\n",
       "      <td id=\"T_27714_row14_col1\" class=\"data row14 col1\" >Індекс викидів радіонуклідів йоду</td>\n",
       "      <td id=\"T_27714_row14_col2\" class=\"data row14 col2\" >Число, %\n",
       "Відсоток від допустимого добового рівня викидів радіонуклідів йоду у навколишнє середовище</td>\n",
       "    </tr>\n",
       "    <tr>\n",
       "      <th id=\"T_27714_level0_row15\" class=\"row_heading level0 row15\" >15</th>\n",
       "      <td id=\"T_27714_row15_col0\" class=\"data row15 col0\" >stable_radionuclides</td>\n",
       "      <td id=\"T_27714_row15_col1\" class=\"data row15 col1\" >ДІН</td>\n",
       "      <td id=\"T_27714_row15_col2\" class=\"data row15 col2\" >Число, кБк/добу\n",
       "Середньодобове значення радіоактивності газо-аерозольних викидів довгоіснуючих радіонуклідів у навколишнє середовище</td>\n",
       "    </tr>\n",
       "    <tr>\n",
       "      <th id=\"T_27714_level0_row16\" class=\"row_heading level0 row16\" >16</th>\n",
       "      <td id=\"T_27714_row16_col0\" class=\"data row16 col0\" >stable_radionuclides_index</td>\n",
       "      <td id=\"T_27714_row16_col1\" class=\"data row16 col1\" >Індекс викидів ДІН</td>\n",
       "      <td id=\"T_27714_row16_col2\" class=\"data row16 col2\" >Число, %\n",
       "Відсоток від допустимого добового рівня викидів довгоіснуючих радіонуклідів у навколишнє середовище</td>\n",
       "    </tr>\n",
       "    <tr>\n",
       "      <th id=\"T_27714_level0_row17\" class=\"row_heading level0 row17\" >17</th>\n",
       "      <td id=\"T_27714_row17_col0\" class=\"data row17 col0\" >cs_137_emission</td>\n",
       "      <td id=\"T_27714_row17_col1\" class=\"data row17 col1\" >Викид Cs-137</td>\n",
       "      <td id=\"T_27714_row17_col2\" class=\"data row17 col2\" >Число, кБк/місяць\n",
       "Радіоактивність газо-аерозольних викидів реперного радіонукліду Cs-137 у навколишнє середовище</td>\n",
       "    </tr>\n",
       "    <tr>\n",
       "      <th id=\"T_27714_level0_row18\" class=\"row_heading level0 row18\" >18</th>\n",
       "      <td id=\"T_27714_row18_col0\" class=\"data row18 col0\" >co_60_emission</td>\n",
       "      <td id=\"T_27714_row18_col1\" class=\"data row18 col1\" >Викид Co-60</td>\n",
       "      <td id=\"T_27714_row18_col2\" class=\"data row18 col2\" >Число, кБк/місяць\n",
       "Радіоактивність газо-аерозольних викидів реперного радіонукліду Co-60 у навколишнє середовище</td>\n",
       "    </tr>\n",
       "    <tr>\n",
       "      <th id=\"T_27714_level0_row19\" class=\"row_heading level0 row19\" >19</th>\n",
       "      <td id=\"T_27714_row19_col0\" class=\"data row19 col0\" >cs_137_dump</td>\n",
       "      <td id=\"T_27714_row19_col1\" class=\"data row19 col1\" >Скид Cs-137</td>\n",
       "      <td id=\"T_27714_row19_col2\" class=\"data row19 col2\" >Число, кБк/місяць\n",
       "Радіоактивність рідкого (водного) скиду реперного радіонукліду Cs-137 у навколишнє середовище</td>\n",
       "    </tr>\n",
       "    <tr>\n",
       "      <th id=\"T_27714_level0_row20\" class=\"row_heading level0 row20\" >20</th>\n",
       "      <td id=\"T_27714_row20_col0\" class=\"data row20 col0\" >co_60_dump</td>\n",
       "      <td id=\"T_27714_row20_col1\" class=\"data row20 col1\" >Скид Co-60</td>\n",
       "      <td id=\"T_27714_row20_col2\" class=\"data row20 col2\" >Число, кБк/місяць\n",
       "Радіоактивність рідкого (водного) скиду реперного радіонукліду Co-60 у навколишнє середовище</td>\n",
       "    </tr>\n",
       "    <tr>\n",
       "      <th id=\"T_27714_level0_row21\" class=\"row_heading level0 row21\" >21</th>\n",
       "      <td id=\"T_27714_row21_col0\" class=\"data row21 col0\" >volume</td>\n",
       "      <td id=\"T_27714_row21_col1\" class=\"data row21 col1\" >Об'єм</td>\n",
       "      <td id=\"T_27714_row21_col2\" class=\"data row21 col2\" >Число, куб. м\n",
       "Загальний об'єм водних скидів за звітний період</td>\n",
       "    </tr>\n",
       "    <tr>\n",
       "      <th id=\"T_27714_level0_row22\" class=\"row_heading level0 row22\" >22</th>\n",
       "      <td id=\"T_27714_row22_col0\" class=\"data row22 col0\" >index_radioactive _ releas</td>\n",
       "      <td id=\"T_27714_row22_col1\" class=\"data row22 col1\" >Показник радіоактивного викиду</td>\n",
       "      <td id=\"T_27714_row22_col2\" class=\"data row22 col2\" >Число,%\n",
       "Сумарний показник радіоактивних викидів в атмосферу</td>\n",
       "    </tr>\n",
       "    <tr>\n",
       "      <th id=\"T_27714_level0_row23\" class=\"row_heading level0 row23\" >23</th>\n",
       "      <td id=\"T_27714_row23_col0\" class=\"data row23 col0\" >index_dump</td>\n",
       "      <td id=\"T_27714_row23_col1\" class=\"data row23 col1\" >Індекс скиду</td>\n",
       "      <td id=\"T_27714_row23_col2\" class=\"data row23 col2\" >Число, %\n",
       "Сумарний індекс скиду радіоактивних речовин (наростаючим підсумком з початку року)</td>\n",
       "    </tr>\n",
       "  </tbody>\n",
       "</table>\n"
      ],
      "text/plain": [
       "<pandas.io.formats.style.Styler at 0x26dff1506b0>"
      ]
     },
     "execution_count": 5,
     "metadata": {},
     "output_type": "execute_result"
    }
   ],
   "source": [
    "passport_df = sesion.load_dataframe(resource_url=passport_url)\n",
    "\n",
    "# Customizes table styles.\n",
    "columns_rename = list(passport_df.columns[:-1]) + [\"Примітка\"]\n",
    "passport_df.columns = columns_rename\n",
    "\n",
    "(\n",
    "    passport_df.fillna(\"\").style.set_table_styles(\n",
    "        [\n",
    "            {\"selector\": \"th\", \"props\": [(\"text-align\", \"center\")]},\n",
    "            {\n",
    "                \"selector\": \"td\",\n",
    "                \"props\": [\n",
    "                    (\"white-space\", \"pre-wrap\"),\n",
    "                    (\"text-align\", \"left\"),\n",
    "                    (\"width\", \"300px\"),\n",
    "                ],\n",
    "            },\n",
    "        ]\n",
    "    )\n",
    ")"
   ]
  },
  {
   "cell_type": "markdown",
   "metadata": {},
   "source": [
    "For analysis and detailing, we will select indicators under the following \n",
    "indices metrics:"
   ]
  },
  {
   "cell_type": "code",
   "execution_count": 6,
   "metadata": {},
   "outputs": [],
   "source": [
    "metrics = [\n",
    "    \"iodine_ radionuclides\",\n",
    "    \"iodine_ radionuclides_index\",\n",
    "    \"stable_radionuclides\",\n",
    "    \"cs_137_emission\",\n",
    "    \"co_60_ emission\",\n",
    "    \"cs_137_dump\",\n",
    "    \"co_60_dump\",\n",
    "    \"index_radioactive_releas\",\n",
    "    \"index_dump\",\n",
    "]"
   ]
  },
  {
   "cell_type": "markdown",
   "metadata": {
    "id": "eoHwyuEFYPQr"
   },
   "source": [
    "## Dataset acquisition and analysis\n",
    "\n",
    "First, let's download the dataset from the link."
   ]
  },
  {
   "cell_type": "code",
   "execution_count": 7,
   "metadata": {},
   "outputs": [
    {
     "data": {
      "text/html": [
       "<div>\n",
       "<style scoped>\n",
       "    .dataframe tbody tr th:only-of-type {\n",
       "        vertical-align: middle;\n",
       "    }\n",
       "\n",
       "    .dataframe tbody tr th {\n",
       "        vertical-align: top;\n",
       "    }\n",
       "\n",
       "    .dataframe thead th {\n",
       "        text-align: right;\n",
       "    }\n",
       "</style>\n",
       "<table border=\"1\" class=\"dataframe\">\n",
       "  <thead>\n",
       "    <tr style=\"text-align: right;\">\n",
       "      <th></th>\n",
       "      <th>year</th>\n",
       "      <th>quarter</th>\n",
       "      <th>station</th>\n",
       "      <th>irg</th>\n",
       "      <th>irg_index</th>\n",
       "      <th>iodine_ radionuclides</th>\n",
       "      <th>iodine_ radionuclides_index</th>\n",
       "      <th>stable_radionuclides</th>\n",
       "      <th>stable_ radionuclides_index</th>\n",
       "      <th>cs_137_emission</th>\n",
       "      <th>co_60_ emission</th>\n",
       "      <th>cs_137_dump</th>\n",
       "      <th>co_60_dump</th>\n",
       "      <th>volume</th>\n",
       "      <th>index_radioactive_releas</th>\n",
       "      <th>index_dump</th>\n",
       "    </tr>\n",
       "  </thead>\n",
       "  <tbody>\n",
       "    <tr>\n",
       "      <th>0</th>\n",
       "      <td>2018</td>\n",
       "      <td>1</td>\n",
       "      <td>ЗАЕС</td>\n",
       "      <td>89.0</td>\n",
       "      <td>0.13</td>\n",
       "      <td>260.0</td>\n",
       "      <td>&lt;0,01</td>\n",
       "      <td>650.0</td>\n",
       "      <td>0.03</td>\n",
       "      <td>1980.0</td>\n",
       "      <td>1020.0</td>\n",
       "      <td>4330.0</td>\n",
       "      <td>3670.0</td>\n",
       "      <td>833000.0</td>\n",
       "      <td>0.149</td>\n",
       "      <td>0.33</td>\n",
       "    </tr>\n",
       "    <tr>\n",
       "      <th>1</th>\n",
       "      <td>2018</td>\n",
       "      <td>1</td>\n",
       "      <td>РАЕС</td>\n",
       "      <td>105.0</td>\n",
       "      <td>0.16</td>\n",
       "      <td>147.0</td>\n",
       "      <td>&lt;0,01</td>\n",
       "      <td>269.0</td>\n",
       "      <td>0.07</td>\n",
       "      <td>587.0</td>\n",
       "      <td>165.0</td>\n",
       "      <td>4800.0</td>\n",
       "      <td>620.0</td>\n",
       "      <td>2220000.0</td>\n",
       "      <td>0.780</td>\n",
       "      <td>0.096</td>\n",
       "    </tr>\n",
       "    <tr>\n",
       "      <th>2</th>\n",
       "      <td>2018</td>\n",
       "      <td>1</td>\n",
       "      <td>ЮУАЕС</td>\n",
       "      <td>45.0</td>\n",
       "      <td>0.10</td>\n",
       "      <td>76.0</td>\n",
       "      <td>&lt;0,01</td>\n",
       "      <td>116.0</td>\n",
       "      <td>0.02</td>\n",
       "      <td>136.0</td>\n",
       "      <td>373.0</td>\n",
       "      <td>390.0</td>\n",
       "      <td>370.0</td>\n",
       "      <td>14600.0</td>\n",
       "      <td>0.136</td>\n",
       "      <td>0.284</td>\n",
       "    </tr>\n",
       "    <tr>\n",
       "      <th>3</th>\n",
       "      <td>2018</td>\n",
       "      <td>1</td>\n",
       "      <td>ХАЕС</td>\n",
       "      <td>31.0</td>\n",
       "      <td>0.07</td>\n",
       "      <td>26.8</td>\n",
       "      <td>&lt;0,01</td>\n",
       "      <td>37.5</td>\n",
       "      <td>&lt;0,01</td>\n",
       "      <td>29.4</td>\n",
       "      <td>13.8</td>\n",
       "      <td>380.0</td>\n",
       "      <td>NaN</td>\n",
       "      <td>22070.0</td>\n",
       "      <td>0.110</td>\n",
       "      <td>0.03</td>\n",
       "    </tr>\n",
       "    <tr>\n",
       "      <th>4</th>\n",
       "      <td>2018</td>\n",
       "      <td>2</td>\n",
       "      <td>ЗАЕС</td>\n",
       "      <td>84.0</td>\n",
       "      <td>0.12</td>\n",
       "      <td>262.0</td>\n",
       "      <td>&lt;0,01</td>\n",
       "      <td>640.0</td>\n",
       "      <td>0.03</td>\n",
       "      <td>453.0</td>\n",
       "      <td>1003.0</td>\n",
       "      <td>4627.0</td>\n",
       "      <td>3432.0</td>\n",
       "      <td>812667.0</td>\n",
       "      <td>0.115</td>\n",
       "      <td>0.91</td>\n",
       "    </tr>\n",
       "  </tbody>\n",
       "</table>\n",
       "</div>"
      ],
      "text/plain": [
       "   year  quarter station    irg  irg_index  iodine_ radionuclides  \\\n",
       "0  2018        1    ЗАЕС   89.0       0.13                  260.0   \n",
       "1  2018        1    РАЕС  105.0       0.16                  147.0   \n",
       "2  2018        1   ЮУАЕС   45.0       0.10                   76.0   \n",
       "3  2018        1    ХАЕС   31.0       0.07                   26.8   \n",
       "4  2018        2    ЗАЕС   84.0       0.12                  262.0   \n",
       "\n",
       "  iodine_ radionuclides_index  stable_radionuclides  \\\n",
       "0                       <0,01                 650.0   \n",
       "1                       <0,01                 269.0   \n",
       "2                       <0,01                 116.0   \n",
       "3                  <0,01                       37.5   \n",
       "4                       <0,01                 640.0   \n",
       "\n",
       "  stable_ radionuclides_index  cs_137_emission  co_60_ emission  cs_137_dump  \\\n",
       "0                        0.03           1980.0           1020.0       4330.0   \n",
       "1                        0.07            587.0            165.0       4800.0   \n",
       "2                        0.02            136.0            373.0        390.0   \n",
       "3             <0,01                       29.4             13.8        380.0   \n",
       "4                        0.03            453.0           1003.0       4627.0   \n",
       "\n",
       "   co_60_dump     volume  index_radioactive_releas index_dump  \n",
       "0      3670.0   833000.0                     0.149       0.33  \n",
       "1       620.0  2220000.0                     0.780      0.096  \n",
       "2       370.0    14600.0                     0.136      0.284  \n",
       "3         NaN    22070.0                     0.110       0.03  \n",
       "4      3432.0   812667.0                     0.115       0.91  "
      ]
     },
     "execution_count": 7,
     "metadata": {},
     "output_type": "execute_result"
    }
   ],
   "source": [
    "dataset_df = sesion.load_dataframe(resource_url=dataset_url)\n",
    "dataset_df.head()"
   ]
  },
  {
   "cell_type": "markdown",
   "metadata": {
    "id": "BOx7R8dvYPQv"
   },
   "source": [
    "### Format data\n",
    "We will format the quarter and year data as \"DD.MM.YYYY\".  \n",
    "This will be needed for visualization."
   ]
  },
  {
   "cell_type": "code",
   "execution_count": null,
   "metadata": {
    "colab": {
     "base_uri": "https://localhost:8080/"
    },
    "executionInfo": {
     "elapsed": 255,
     "status": "ok",
     "timestamp": 1725016085533,
     "user": {
      "displayName": "Andi",
      "userId": "10349201529472998137"
     },
     "user_tz": -180
    },
    "id": "dgrI4eHuYPQv",
    "outputId": "a1e61ddd-f252-4cd0-e4c9-3c42044c48ad"
   },
   "outputs": [
    {
     "data": {
      "text/html": [
       "<div>\n",
       "<style scoped>\n",
       "    .dataframe tbody tr th:only-of-type {\n",
       "        vertical-align: middle;\n",
       "    }\n",
       "\n",
       "    .dataframe tbody tr th {\n",
       "        vertical-align: top;\n",
       "    }\n",
       "\n",
       "    .dataframe thead th {\n",
       "        text-align: right;\n",
       "    }\n",
       "</style>\n",
       "<table border=\"1\" class=\"dataframe\">\n",
       "  <thead>\n",
       "    <tr style=\"text-align: right;\">\n",
       "      <th></th>\n",
       "      <th>year</th>\n",
       "      <th>quarter</th>\n",
       "      <th>date</th>\n",
       "    </tr>\n",
       "  </thead>\n",
       "  <tbody>\n",
       "    <tr>\n",
       "      <th>0</th>\n",
       "      <td>2018</td>\n",
       "      <td>1</td>\n",
       "      <td>31.03.2018</td>\n",
       "    </tr>\n",
       "    <tr>\n",
       "      <th>1</th>\n",
       "      <td>2018</td>\n",
       "      <td>1</td>\n",
       "      <td>31.03.2018</td>\n",
       "    </tr>\n",
       "    <tr>\n",
       "      <th>2</th>\n",
       "      <td>2018</td>\n",
       "      <td>1</td>\n",
       "      <td>31.03.2018</td>\n",
       "    </tr>\n",
       "    <tr>\n",
       "      <th>3</th>\n",
       "      <td>2018</td>\n",
       "      <td>1</td>\n",
       "      <td>31.03.2018</td>\n",
       "    </tr>\n",
       "    <tr>\n",
       "      <th>4</th>\n",
       "      <td>2018</td>\n",
       "      <td>2</td>\n",
       "      <td>30.06.2018</td>\n",
       "    </tr>\n",
       "  </tbody>\n",
       "</table>\n",
       "</div>"
      ],
      "text/plain": [
       "   year  quarter        date\n",
       "0  2018        1  31.03.2018\n",
       "1  2018        1  31.03.2018\n",
       "2  2018        1  31.03.2018\n",
       "3  2018        1  31.03.2018\n",
       "4  2018        2  30.06.2018"
      ]
     },
     "execution_count": 8,
     "metadata": {},
     "output_type": "execute_result"
    }
   ],
   "source": [
    "from utils.utils import get_date\n",
    "\n",
    "dataset_df[\"date\"] = dataset_df.apply(\n",
    "    lambda row: get_date(year=row[\"year\"], quarter=row[\"quarter\"]), axis=1\n",
    ")\n",
    "dataset_df[[\"year\", \"quarter\", \"date\"]].head()"
   ]
  },
  {
   "cell_type": "markdown",
   "metadata": {},
   "source": [
    "Let's list all nuclear power plants."
   ]
  },
  {
   "cell_type": "code",
   "execution_count": 9,
   "metadata": {},
   "outputs": [
    {
     "data": {
      "text/plain": [
       "('ЗАЕС', 'РАЕС', 'ЮУАЕС', 'ХАЕС', 'ПАЕС')"
      ]
     },
     "execution_count": 9,
     "metadata": {},
     "output_type": "execute_result"
    }
   ],
   "source": [
    "stations = dataset_df[\"station\"].unique()\n",
    "tuple(stations)"
   ]
  },
  {
   "cell_type": "markdown",
   "metadata": {},
   "source": [
    "In April 2022, Energoatom, by its order, approved the change of the name of the  \n",
    "NPP from “South Ukrainian Nuclear Power Plant” to “South Ukrainian Nuclear Power  \n",
    "Plant”. In accordance with the Resolution of the Cabinet of Ministers No. 1061  \n",
    "of September 27, 2022, the government finally approved the renaming of the NPP  \n",
    "from “South Ukrainian Nuclear Power Plant” to “South Ukrainian” \n",
    "[1](https://epravda.com.ua/news/2022/09/29/692034/).\n",
    "\n",
    "Will make station names more readable."
   ]
  },
  {
   "cell_type": "code",
   "execution_count": 10,
   "metadata": {},
   "outputs": [
    {
     "data": {
      "text/html": [
       "<div>\n",
       "<style scoped>\n",
       "    .dataframe tbody tr th:only-of-type {\n",
       "        vertical-align: middle;\n",
       "    }\n",
       "\n",
       "    .dataframe tbody tr th {\n",
       "        vertical-align: top;\n",
       "    }\n",
       "\n",
       "    .dataframe thead th {\n",
       "        text-align: right;\n",
       "    }\n",
       "</style>\n",
       "<table border=\"1\" class=\"dataframe\">\n",
       "  <thead>\n",
       "    <tr style=\"text-align: right;\">\n",
       "      <th></th>\n",
       "      <th>station</th>\n",
       "      <th>station_en</th>\n",
       "    </tr>\n",
       "  </thead>\n",
       "  <tbody>\n",
       "    <tr>\n",
       "      <th>0</th>\n",
       "      <td>ЗАЕС</td>\n",
       "      <td>Zaporizhzhia NPP</td>\n",
       "    </tr>\n",
       "    <tr>\n",
       "      <th>1</th>\n",
       "      <td>РАЕС</td>\n",
       "      <td>Rivne NPP</td>\n",
       "    </tr>\n",
       "    <tr>\n",
       "      <th>2</th>\n",
       "      <td>ЮУАЕС</td>\n",
       "      <td>South Ukrainian NPP</td>\n",
       "    </tr>\n",
       "    <tr>\n",
       "      <th>3</th>\n",
       "      <td>ХАЕС</td>\n",
       "      <td>Khmelnytskyi NPP</td>\n",
       "    </tr>\n",
       "    <tr>\n",
       "      <th>4</th>\n",
       "      <td>ЗАЕС</td>\n",
       "      <td>Zaporizhzhia NPP</td>\n",
       "    </tr>\n",
       "  </tbody>\n",
       "</table>\n",
       "</div>"
      ],
      "text/plain": [
       "  station           station_en\n",
       "0    ЗАЕС     Zaporizhzhia NPP\n",
       "1    РАЕС            Rivne NPP\n",
       "2   ЮУАЕС  South Ukrainian NPP\n",
       "3    ХАЕС     Khmelnytskyi NPP\n",
       "4    ЗАЕС     Zaporizhzhia NPP"
      ]
     },
     "execution_count": 10,
     "metadata": {},
     "output_type": "execute_result"
    }
   ],
   "source": [
    "station_map = {\n",
    "    \"ЗАЕС\": \"Zaporizhzhia NPP\",\n",
    "    \"РАЕС\": \"Rivne NPP\",\n",
    "    \"ПАЕС\": \"South Ukrainian NPP\",\n",
    "    \"ХАЕС\": \"Khmelnytskyi NPP\",\n",
    "    \"ЮУАЕС\": \"South Ukrainian NPP\",\n",
    "}\n",
    "\n",
    "dataset_df[\"station_en\"] = dataset_df[\"station\"].map(station_map)\n",
    "dataset_df[[\"station\", \"station_en\"]].head()"
   ]
  },
  {
   "cell_type": "markdown",
   "metadata": {},
   "source": [
    "As you can see in the result, the replacement was successful."
   ]
  },
  {
   "cell_type": "markdown",
   "metadata": {},
   "source": [
    "## Dataset visualization "
   ]
  },
  {
   "cell_type": "code",
   "execution_count": 11,
   "metadata": {},
   "outputs": [
    {
     "data": {
      "application/vnd.plotly.v1+json": {
       "config": {
        "plotlyServerURL": "https://plot.ly"
       },
       "data": [
        {
         "name": "Khmelnytskyi NPP",
         "type": "scatter",
         "visible": true,
         "x": [
          "31.03.2018",
          "30.06.2018",
          "30.09.2018",
          "31.12.2018",
          "31.03.2019",
          "30.06.2019",
          "30.09.2019",
          "31.12.2019",
          "31.03.2020",
          "30.06.2020",
          "30.09.2020",
          "31.12.2020",
          "31.03.2021",
          "30.06.2021",
          "30.09.2021",
          "31.12.2021",
          "31.03.2022",
          "30.06.2022",
          "30.09.2022",
          "31.12.2022",
          "31.03.2023",
          "30.06.2023",
          "30.09.2023",
          "31.12.2023",
          "31.03.2024",
          "30.06.2024",
          "30.09.2024",
          "31.12.2024",
          "31.03.2025"
         ],
         "y": {
          "bdata": "KVyPwvUovD9xPQrXo3DNPylcj8L1KLw/pHA9CtejwD+kcD0K16PAP7gehetRuL4/MzMzMzMzwz+4HoXrUbi+P7gehetRuL4/w/UoXI/CxT+kcD0K16PAP6RwPQrXo8A/pHA9CtejwD8K16NwPQrHP8P1KFyPwsU/7FG4HoXrwT8pXI/C9Si8P3sUrkfhesQ/uB6F61G4vj/sUbgeheuxP+xRuB6F67E/UrgehetR4D+amZmZmZnhP9ejcD0K19M/KVyPwvUo3D+kcD0K16PgPzMzMzMzM+s/CtejcD0K1z8pXI/C9SjkPw==",
          "dtype": "f8"
         }
        },
        {
         "name": "Rivne NPP",
         "type": "scatter",
         "visible": true,
         "x": [
          "31.03.2018",
          "30.06.2018",
          "30.09.2018",
          "31.12.2018",
          "31.03.2019",
          "30.06.2019",
          "30.09.2019",
          "31.12.2019",
          "31.03.2020",
          "30.06.2020",
          "30.09.2020",
          "31.12.2020",
          "31.03.2021",
          "30.06.2021",
          "30.09.2021",
          "31.12.2021",
          "31.03.2022",
          "30.06.2022",
          "30.09.2022",
          "31.12.2022",
          "31.03.2023",
          "30.06.2023",
          "30.09.2023",
          "31.12.2023",
          "31.03.2024",
          "30.06.2024",
          "30.09.2024",
          "31.12.2024",
          "31.03.2025"
         ],
         "y": {
          "bdata": "9ihcj8L16D9xPQrXo3DtP2ZmZmZmZuY/H4XrUbge5T+amZmZmZnpPx+F61G4Hu0/ZmZmZmZm5j+kcD0K16PoP65H4XoUru8/w/UoXI/C7T+PwvUoXI/qP3sUrkfheuQ/9ihcj8L16D8fhetRuB7lP7gehetRuN4/FK5H4XoU3j+amZmZmZnhPylcj8L1KOQ/4XoUrkfh4j+4HoXrUbjmPzMzMzMzM+M/CtejcD0K5z8zMzMzMzPjPylcj8L1KOQ/cT0K16Nw3T/hehSuR+HiPz0K16NwPdo/4XoUrkfh2j8K16NwPQrXPw==",
          "dtype": "f8"
         }
        },
        {
         "name": "South Ukrainian NPP",
         "type": "scatter",
         "visible": true,
         "x": [
          "31.03.2018",
          "30.06.2018",
          "30.09.2018",
          "31.12.2018",
          "31.03.2019",
          "30.06.2019",
          "30.09.2019",
          "31.12.2019",
          "31.03.2020",
          "30.06.2020",
          "30.09.2020",
          "31.12.2020",
          "31.03.2021",
          "30.06.2021",
          "30.09.2021",
          "31.12.2021",
          "31.03.2022",
          "30.06.2022",
          "30.09.2022",
          "31.12.2022",
          "31.03.2023",
          "30.06.2023",
          "30.09.2023",
          "31.12.2023",
          "31.03.2024",
          "30.06.2024",
          "30.09.2024",
          "31.12.2024",
          "31.03.2025"
         ],
         "y": {
          "bdata": "nMQgsHJowT9SuB6F61HIPwAAAAAAANA/CtejcD0Kxz/8qfHSTWLYP5qZmZmZmck/lkOLbOf7yT+gGi/dJAbBP7gehetRuM4/3SQGgZVDyz/+1HjpJjHIP166SQwCK8c/1XjpJjEIzD+amZmZmZnJP4XrUbgeBRJAzczMzMzMDEDNzMzMzMwOQFK4HoXrUQhA16NwPQrXB0BxPQrXo3ANQAAAAAAAAA5AuB6F61G4EkBI4XoUrkcRQKAaL90kBgxAJQaBlUOLDUCR7Xw/Nd4TQLTIdr6fmhNABFYOLbIdEkCkcD0K16MLQA==",
          "dtype": "f8"
         }
        },
        {
         "name": "Zaporizhzhia NPP",
         "type": "scatter",
         "visible": true,
         "x": [
          "31.03.2018",
          "30.06.2018",
          "30.09.2018",
          "31.12.2018",
          "31.03.2019",
          "30.06.2019",
          "30.09.2019",
          "31.12.2019",
          "31.03.2020",
          "30.06.2020",
          "30.09.2020",
          "31.12.2020",
          "31.03.2021",
          "30.06.2021",
          "30.09.2021",
          "31.12.2021",
          "31.03.2022",
          "30.06.2022",
          "30.09.2022",
          "31.12.2022",
          "31.03.2023",
          "30.06.2023",
          "30.09.2023",
          "31.12.2023",
          "31.03.2024",
          "30.06.2024",
          "30.09.2024",
          "31.12.2024",
          "31.03.2025"
         ],
         "y": {
          "bdata": "30+Nl24Swz9xPQrXo3C9P9ejcD0K1+s/FK5H4XoU7j+PwvUoXI/qPwrXo3A9Cuc/cT0K16Nw7T+uR+F6FK7vPwAAAAAAAOg/rkfhehSu7z9I4XoUrkfxP2ZmZmZmZu4/4XoUrkfh6j8AAAAAAADoP1K4HoXrUeg/j8L1KFyP6j8UrkfhehTuPx+F61G4HvE/4XoUrkfh6j8AAAAAAAD4fwAAAAAAAPh/AAAAAAAA+H8AAAAAAAD4fwAAAAAAAPh/AAAAAAAA+H8AAAAAAAD4fwAAAAAAAPh/AAAAAAAA+H8AAAAAAAD4fw==",
          "dtype": "f8"
         }
        }
       ],
       "layout": {
        "height": 600,
        "legend": {
         "bgcolor": "rgba(0,0,0,0)",
         "borderwidth": 1,
         "font": {
          "color": "white",
          "size": 12
         },
         "itemwidth": 40,
         "orientation": "v",
         "title": {
          "text": "Station"
         },
         "x": 1.02,
         "xanchor": "left",
         "y": 1,
         "yanchor": "top"
        },
        "margin": {
         "r": 150
        },
        "template": {
         "data": {
          "bar": [
           {
            "error_x": {
             "color": "#f2f5fa"
            },
            "error_y": {
             "color": "#f2f5fa"
            },
            "marker": {
             "line": {
              "color": "rgb(17,17,17)",
              "width": 0.5
             },
             "pattern": {
              "fillmode": "overlay",
              "size": 10,
              "solidity": 0.2
             }
            },
            "type": "bar"
           }
          ],
          "barpolar": [
           {
            "marker": {
             "line": {
              "color": "rgb(17,17,17)",
              "width": 0.5
             },
             "pattern": {
              "fillmode": "overlay",
              "size": 10,
              "solidity": 0.2
             }
            },
            "type": "barpolar"
           }
          ],
          "carpet": [
           {
            "aaxis": {
             "endlinecolor": "#A2B1C6",
             "gridcolor": "#506784",
             "linecolor": "#506784",
             "minorgridcolor": "#506784",
             "startlinecolor": "#A2B1C6"
            },
            "baxis": {
             "endlinecolor": "#A2B1C6",
             "gridcolor": "#506784",
             "linecolor": "#506784",
             "minorgridcolor": "#506784",
             "startlinecolor": "#A2B1C6"
            },
            "type": "carpet"
           }
          ],
          "choropleth": [
           {
            "colorbar": {
             "outlinewidth": 0,
             "ticks": ""
            },
            "type": "choropleth"
           }
          ],
          "contour": [
           {
            "colorbar": {
             "outlinewidth": 0,
             "ticks": ""
            },
            "colorscale": [
             [
              0,
              "#0d0887"
             ],
             [
              0.1111111111111111,
              "#46039f"
             ],
             [
              0.2222222222222222,
              "#7201a8"
             ],
             [
              0.3333333333333333,
              "#9c179e"
             ],
             [
              0.4444444444444444,
              "#bd3786"
             ],
             [
              0.5555555555555556,
              "#d8576b"
             ],
             [
              0.6666666666666666,
              "#ed7953"
             ],
             [
              0.7777777777777778,
              "#fb9f3a"
             ],
             [
              0.8888888888888888,
              "#fdca26"
             ],
             [
              1,
              "#f0f921"
             ]
            ],
            "type": "contour"
           }
          ],
          "contourcarpet": [
           {
            "colorbar": {
             "outlinewidth": 0,
             "ticks": ""
            },
            "type": "contourcarpet"
           }
          ],
          "heatmap": [
           {
            "colorbar": {
             "outlinewidth": 0,
             "ticks": ""
            },
            "colorscale": [
             [
              0,
              "#0d0887"
             ],
             [
              0.1111111111111111,
              "#46039f"
             ],
             [
              0.2222222222222222,
              "#7201a8"
             ],
             [
              0.3333333333333333,
              "#9c179e"
             ],
             [
              0.4444444444444444,
              "#bd3786"
             ],
             [
              0.5555555555555556,
              "#d8576b"
             ],
             [
              0.6666666666666666,
              "#ed7953"
             ],
             [
              0.7777777777777778,
              "#fb9f3a"
             ],
             [
              0.8888888888888888,
              "#fdca26"
             ],
             [
              1,
              "#f0f921"
             ]
            ],
            "type": "heatmap"
           }
          ],
          "histogram": [
           {
            "marker": {
             "pattern": {
              "fillmode": "overlay",
              "size": 10,
              "solidity": 0.2
             }
            },
            "type": "histogram"
           }
          ],
          "histogram2d": [
           {
            "colorbar": {
             "outlinewidth": 0,
             "ticks": ""
            },
            "colorscale": [
             [
              0,
              "#0d0887"
             ],
             [
              0.1111111111111111,
              "#46039f"
             ],
             [
              0.2222222222222222,
              "#7201a8"
             ],
             [
              0.3333333333333333,
              "#9c179e"
             ],
             [
              0.4444444444444444,
              "#bd3786"
             ],
             [
              0.5555555555555556,
              "#d8576b"
             ],
             [
              0.6666666666666666,
              "#ed7953"
             ],
             [
              0.7777777777777778,
              "#fb9f3a"
             ],
             [
              0.8888888888888888,
              "#fdca26"
             ],
             [
              1,
              "#f0f921"
             ]
            ],
            "type": "histogram2d"
           }
          ],
          "histogram2dcontour": [
           {
            "colorbar": {
             "outlinewidth": 0,
             "ticks": ""
            },
            "colorscale": [
             [
              0,
              "#0d0887"
             ],
             [
              0.1111111111111111,
              "#46039f"
             ],
             [
              0.2222222222222222,
              "#7201a8"
             ],
             [
              0.3333333333333333,
              "#9c179e"
             ],
             [
              0.4444444444444444,
              "#bd3786"
             ],
             [
              0.5555555555555556,
              "#d8576b"
             ],
             [
              0.6666666666666666,
              "#ed7953"
             ],
             [
              0.7777777777777778,
              "#fb9f3a"
             ],
             [
              0.8888888888888888,
              "#fdca26"
             ],
             [
              1,
              "#f0f921"
             ]
            ],
            "type": "histogram2dcontour"
           }
          ],
          "mesh3d": [
           {
            "colorbar": {
             "outlinewidth": 0,
             "ticks": ""
            },
            "type": "mesh3d"
           }
          ],
          "parcoords": [
           {
            "line": {
             "colorbar": {
              "outlinewidth": 0,
              "ticks": ""
             }
            },
            "type": "parcoords"
           }
          ],
          "pie": [
           {
            "automargin": true,
            "type": "pie"
           }
          ],
          "scatter": [
           {
            "marker": {
             "line": {
              "color": "#283442"
             }
            },
            "type": "scatter"
           }
          ],
          "scatter3d": [
           {
            "line": {
             "colorbar": {
              "outlinewidth": 0,
              "ticks": ""
             }
            },
            "marker": {
             "colorbar": {
              "outlinewidth": 0,
              "ticks": ""
             }
            },
            "type": "scatter3d"
           }
          ],
          "scattercarpet": [
           {
            "marker": {
             "colorbar": {
              "outlinewidth": 0,
              "ticks": ""
             }
            },
            "type": "scattercarpet"
           }
          ],
          "scattergeo": [
           {
            "marker": {
             "colorbar": {
              "outlinewidth": 0,
              "ticks": ""
             }
            },
            "type": "scattergeo"
           }
          ],
          "scattergl": [
           {
            "marker": {
             "line": {
              "color": "#283442"
             }
            },
            "type": "scattergl"
           }
          ],
          "scattermap": [
           {
            "marker": {
             "colorbar": {
              "outlinewidth": 0,
              "ticks": ""
             }
            },
            "type": "scattermap"
           }
          ],
          "scattermapbox": [
           {
            "marker": {
             "colorbar": {
              "outlinewidth": 0,
              "ticks": ""
             }
            },
            "type": "scattermapbox"
           }
          ],
          "scatterpolar": [
           {
            "marker": {
             "colorbar": {
              "outlinewidth": 0,
              "ticks": ""
             }
            },
            "type": "scatterpolar"
           }
          ],
          "scatterpolargl": [
           {
            "marker": {
             "colorbar": {
              "outlinewidth": 0,
              "ticks": ""
             }
            },
            "type": "scatterpolargl"
           }
          ],
          "scatterternary": [
           {
            "marker": {
             "colorbar": {
              "outlinewidth": 0,
              "ticks": ""
             }
            },
            "type": "scatterternary"
           }
          ],
          "surface": [
           {
            "colorbar": {
             "outlinewidth": 0,
             "ticks": ""
            },
            "colorscale": [
             [
              0,
              "#0d0887"
             ],
             [
              0.1111111111111111,
              "#46039f"
             ],
             [
              0.2222222222222222,
              "#7201a8"
             ],
             [
              0.3333333333333333,
              "#9c179e"
             ],
             [
              0.4444444444444444,
              "#bd3786"
             ],
             [
              0.5555555555555556,
              "#d8576b"
             ],
             [
              0.6666666666666666,
              "#ed7953"
             ],
             [
              0.7777777777777778,
              "#fb9f3a"
             ],
             [
              0.8888888888888888,
              "#fdca26"
             ],
             [
              1,
              "#f0f921"
             ]
            ],
            "type": "surface"
           }
          ],
          "table": [
           {
            "cells": {
             "fill": {
              "color": "#506784"
             },
             "line": {
              "color": "rgb(17,17,17)"
             }
            },
            "header": {
             "fill": {
              "color": "#2a3f5f"
             },
             "line": {
              "color": "rgb(17,17,17)"
             }
            },
            "type": "table"
           }
          ]
         },
         "layout": {
          "annotationdefaults": {
           "arrowcolor": "#f2f5fa",
           "arrowhead": 0,
           "arrowwidth": 1
          },
          "autotypenumbers": "strict",
          "coloraxis": {
           "colorbar": {
            "outlinewidth": 0,
            "ticks": ""
           }
          },
          "colorscale": {
           "diverging": [
            [
             0,
             "#8e0152"
            ],
            [
             0.1,
             "#c51b7d"
            ],
            [
             0.2,
             "#de77ae"
            ],
            [
             0.3,
             "#f1b6da"
            ],
            [
             0.4,
             "#fde0ef"
            ],
            [
             0.5,
             "#f7f7f7"
            ],
            [
             0.6,
             "#e6f5d0"
            ],
            [
             0.7,
             "#b8e186"
            ],
            [
             0.8,
             "#7fbc41"
            ],
            [
             0.9,
             "#4d9221"
            ],
            [
             1,
             "#276419"
            ]
           ],
           "sequential": [
            [
             0,
             "#0d0887"
            ],
            [
             0.1111111111111111,
             "#46039f"
            ],
            [
             0.2222222222222222,
             "#7201a8"
            ],
            [
             0.3333333333333333,
             "#9c179e"
            ],
            [
             0.4444444444444444,
             "#bd3786"
            ],
            [
             0.5555555555555556,
             "#d8576b"
            ],
            [
             0.6666666666666666,
             "#ed7953"
            ],
            [
             0.7777777777777778,
             "#fb9f3a"
            ],
            [
             0.8888888888888888,
             "#fdca26"
            ],
            [
             1,
             "#f0f921"
            ]
           ],
           "sequentialminus": [
            [
             0,
             "#0d0887"
            ],
            [
             0.1111111111111111,
             "#46039f"
            ],
            [
             0.2222222222222222,
             "#7201a8"
            ],
            [
             0.3333333333333333,
             "#9c179e"
            ],
            [
             0.4444444444444444,
             "#bd3786"
            ],
            [
             0.5555555555555556,
             "#d8576b"
            ],
            [
             0.6666666666666666,
             "#ed7953"
            ],
            [
             0.7777777777777778,
             "#fb9f3a"
            ],
            [
             0.8888888888888888,
             "#fdca26"
            ],
            [
             1,
             "#f0f921"
            ]
           ]
          },
          "colorway": [
           "#636efa",
           "#EF553B",
           "#00cc96",
           "#ab63fa",
           "#FFA15A",
           "#19d3f3",
           "#FF6692",
           "#B6E880",
           "#FF97FF",
           "#FECB52"
          ],
          "font": {
           "color": "#f2f5fa"
          },
          "geo": {
           "bgcolor": "rgb(17,17,17)",
           "lakecolor": "rgb(17,17,17)",
           "landcolor": "rgb(17,17,17)",
           "showlakes": true,
           "showland": true,
           "subunitcolor": "#506784"
          },
          "hoverlabel": {
           "align": "left"
          },
          "hovermode": "closest",
          "mapbox": {
           "style": "dark"
          },
          "paper_bgcolor": "rgb(17,17,17)",
          "plot_bgcolor": "rgb(17,17,17)",
          "polar": {
           "angularaxis": {
            "gridcolor": "#506784",
            "linecolor": "#506784",
            "ticks": ""
           },
           "bgcolor": "rgb(17,17,17)",
           "radialaxis": {
            "gridcolor": "#506784",
            "linecolor": "#506784",
            "ticks": ""
           }
          },
          "scene": {
           "xaxis": {
            "backgroundcolor": "rgb(17,17,17)",
            "gridcolor": "#506784",
            "gridwidth": 2,
            "linecolor": "#506784",
            "showbackground": true,
            "ticks": "",
            "zerolinecolor": "#C8D4E3"
           },
           "yaxis": {
            "backgroundcolor": "rgb(17,17,17)",
            "gridcolor": "#506784",
            "gridwidth": 2,
            "linecolor": "#506784",
            "showbackground": true,
            "ticks": "",
            "zerolinecolor": "#C8D4E3"
           },
           "zaxis": {
            "backgroundcolor": "rgb(17,17,17)",
            "gridcolor": "#506784",
            "gridwidth": 2,
            "linecolor": "#506784",
            "showbackground": true,
            "ticks": "",
            "zerolinecolor": "#C8D4E3"
           }
          },
          "shapedefaults": {
           "line": {
            "color": "#f2f5fa"
           }
          },
          "sliderdefaults": {
           "bgcolor": "#C8D4E3",
           "bordercolor": "rgb(17,17,17)",
           "borderwidth": 1,
           "tickwidth": 0
          },
          "ternary": {
           "aaxis": {
            "gridcolor": "#506784",
            "linecolor": "#506784",
            "ticks": ""
           },
           "baxis": {
            "gridcolor": "#506784",
            "linecolor": "#506784",
            "ticks": ""
           },
           "bgcolor": "rgb(17,17,17)",
           "caxis": {
            "gridcolor": "#506784",
            "linecolor": "#506784",
            "ticks": ""
           }
          },
          "title": {
           "x": 0.05
          },
          "updatemenudefaults": {
           "bgcolor": "#506784",
           "borderwidth": 0
          },
          "xaxis": {
           "automargin": true,
           "gridcolor": "#283442",
           "linecolor": "#506784",
           "ticks": "",
           "title": {
            "standoff": 15
           },
           "zerolinecolor": "#283442",
           "zerolinewidth": 2
          },
          "yaxis": {
           "automargin": true,
           "gridcolor": "#283442",
           "linecolor": "#506784",
           "ticks": "",
           "title": {
            "standoff": 15
           },
           "zerolinecolor": "#283442",
           "zerolinewidth": 2
          }
         }
        },
        "title": {
         "text": "Radioactive Release — Zaporizhzhia NPP"
        },
        "updatemenus": [
         {
          "active": 0,
          "buttons": [
           {
            "args": [
             {
              "visible": [
               true,
               true,
               true,
               true
              ]
             },
             {
              "title": "Radioactive Release — All Station"
             }
            ],
            "label": "All",
            "method": "update"
           },
           {
            "args": [
             {
              "visible": [
               true,
               false,
               false,
               false
              ]
             },
             {
              "title": "Radioactive Release — Khmelnytskyi NPP"
             }
            ],
            "label": "Khmelnytskyi NPP",
            "method": "update"
           },
           {
            "args": [
             {
              "visible": [
               false,
               true,
               false,
               false
              ]
             },
             {
              "title": "Radioactive Release — Rivne NPP"
             }
            ],
            "label": "Rivne NPP",
            "method": "update"
           },
           {
            "args": [
             {
              "visible": [
               false,
               false,
               true,
               false
              ]
             },
             {
              "title": "Radioactive Release — South Ukrainian NPP"
             }
            ],
            "label": "South Ukrainian NPP",
            "method": "update"
           },
           {
            "args": [
             {
              "visible": [
               false,
               false,
               false,
               true
              ]
             },
             {
              "title": "Radioactive Release — Zaporizhzhia NPP"
             }
            ],
            "label": "Zaporizhzhia NPP",
            "method": "update"
           }
          ],
          "type": "dropdown",
          "x": 1,
          "xanchor": "right",
          "y": 1.2
         }
        ],
        "width": 800,
        "xaxis": {
         "domain": [
          0,
          0.94
         ],
         "showgrid": true,
         "showline": true,
         "tickangle": -45,
         "title": {
          "text": "Date"
         }
        },
        "yaxis": {
         "range": [
          0,
          5.967
         ],
         "title": {
          "text": "Release Index"
         }
        }
       }
      }
     },
     "metadata": {},
     "output_type": "display_data"
    }
   ],
   "source": [
    "import plotly.graph_objects as go\n",
    "\n",
    "stations_en_list = sorted(set(station_map.values()))\n",
    "index_radioactive_max = dataset_df[\"index_radioactive_releas\"].max()\n",
    "\n",
    "fig = go.Figure()\n",
    "\n",
    "# Create a separate graph with data for each station.\n",
    "traces = []\n",
    "for i, station in enumerate(stations_en_list):\n",
    "    df_station = dataset_df[dataset_df[\"station_en\"] == station]\n",
    "\n",
    "    trace = go.Scatter(\n",
    "        x=df_station[\"date\"],\n",
    "        y=df_station[\"index_radioactive_releas\"],\n",
    "        name=station,\n",
    "        visible=True,\n",
    "    )\n",
    "    traces.append(trace)\n",
    "    fig.add_trace(trace)\n",
    "\n",
    "# Customize buttons for selecting stations.\n",
    "buttons = []\n",
    "\n",
    "# Button for selecting all stations.\n",
    "buttons.append(\n",
    "    dict(\n",
    "        label=\"All\",\n",
    "        method=\"update\",\n",
    "        args=[\n",
    "            {\"visible\": [True] * len(traces)},\n",
    "            {\"title\": \"Radioactive Release — All Station\"},\n",
    "        ],\n",
    "    )\n",
    ")\n",
    "\n",
    "# Buttons for selecting separately station.\n",
    "for i, station in enumerate(stations_en_list):\n",
    "    visibility = [False] * len(traces)\n",
    "    visibility[i] = True\n",
    "    buttons.append(\n",
    "        dict(\n",
    "            label=station,\n",
    "            method=\"update\",\n",
    "            args=[\n",
    "                {\"visible\": visibility},\n",
    "                {\"title\": f\"Radioactive Release — {station}\"},\n",
    "            ],\n",
    "        )\n",
    "    )\n",
    "\n",
    "# Add a menu.\n",
    "fig.update_layout(\n",
    "    updatemenus=[\n",
    "        dict(\n",
    "            type=\"dropdown\",\n",
    "            active=0,\n",
    "            buttons=buttons,\n",
    "            xanchor=\"right\",\n",
    "            x=1,\n",
    "            y=1.2,\n",
    "        )\n",
    "    ],\n",
    "    title=f\"Radioactive Release — {station}\",\n",
    "    xaxis_title=\"Date\",\n",
    "    xaxis=dict(tickangle=-45, showgrid=True, showline=True, domain=[0, 0.94]),\n",
    "    yaxis_title=\"Release Index\",\n",
    "    yaxis=dict(range=[0, index_radioactive_max + 1]),\n",
    "    template=\"plotly_dark\",\n",
    "    width=800,\n",
    "    height=600,\n",
    "    legend=dict(\n",
    "        title=\"Station\",\n",
    "        orientation=\"v\",\n",
    "        x=1.02,\n",
    "        y=1,\n",
    "        xanchor=\"left\",\n",
    "        yanchor=\"top\",\n",
    "        bgcolor=\"rgba(0,0,0,0)\",\n",
    "        borderwidth=1,\n",
    "        font=dict(\n",
    "            size=12,\n",
    "            color=\"white\",\n",
    "        ),\n",
    "        itemwidth=40,\n",
    "    ),\n",
    "    margin=dict(r=150),\n",
    ")\n",
    "\n",
    "fig.show()"
   ]
  },
  {
   "cell_type": "code",
   "execution_count": 12,
   "metadata": {},
   "outputs": [
    {
     "ename": "TypeError",
     "evalue": "'>=' not supported between instances of 'str' and 'float'",
     "output_type": "error",
     "traceback": [
      "\u001b[31m---------------------------------------------------------------------------\u001b[39m",
      "\u001b[31mTypeError\u001b[39m                                 Traceback (most recent call last)",
      "\u001b[36mCell\u001b[39m\u001b[36m \u001b[39m\u001b[32mIn[12]\u001b[39m\u001b[32m, line 11\u001b[39m\n\u001b[32m      4\u001b[39m stations_en_list = \u001b[38;5;28msorted\u001b[39m(dataset_df[\u001b[33m\"\u001b[39m\u001b[33mstation_en\u001b[39m\u001b[33m\"\u001b[39m].unique())\n\u001b[32m      7\u001b[39m \u001b[38;5;66;03m# Максимальні значення для масштабування по y\u001b[39;00m\n\u001b[32m      8\u001b[39m max_values = {\n\u001b[32m      9\u001b[39m     metric: (\n\u001b[32m     10\u001b[39m         \u001b[38;5;28mround\u001b[39m(dataset_df[metric].max() + \u001b[32m1\u001b[39m)\n\u001b[32m---> \u001b[39m\u001b[32m11\u001b[39m         \u001b[38;5;28;01mif\u001b[39;00m pd.notnull(\u001b[43mdataset_df\u001b[49m\u001b[43m[\u001b[49m\u001b[43mmetric\u001b[49m\u001b[43m]\u001b[49m\u001b[43m.\u001b[49m\u001b[43mmax\u001b[49m\u001b[43m(\u001b[49m\u001b[43m)\u001b[49m)\n\u001b[32m     12\u001b[39m         \u001b[38;5;28;01melse\u001b[39;00m \u001b[32m1\u001b[39m\n\u001b[32m     13\u001b[39m     )\n\u001b[32m     14\u001b[39m     \u001b[38;5;28;01mfor\u001b[39;00m metric \u001b[38;5;129;01min\u001b[39;00m metrics\n\u001b[32m     15\u001b[39m }\n\u001b[32m     17\u001b[39m fig = go.Figure()\n\u001b[32m     18\u001b[39m traces = []\n",
      "\u001b[36mFile \u001b[39m\u001b[32mc:\\Users\\Smeta6\\AppData\\Local\\pypoetry\\Cache\\virtualenvs\\ukrainian-npps-OxTZId6f-py3.12\\Lib\\site-packages\\pandas\\core\\series.py:6517\u001b[39m, in \u001b[36mSeries.max\u001b[39m\u001b[34m(self, axis, skipna, numeric_only, **kwargs)\u001b[39m\n\u001b[32m   6509\u001b[39m \u001b[38;5;129m@doc\u001b[39m(make_doc(\u001b[33m\"\u001b[39m\u001b[33mmax\u001b[39m\u001b[33m\"\u001b[39m, ndim=\u001b[32m1\u001b[39m))\n\u001b[32m   6510\u001b[39m \u001b[38;5;28;01mdef\u001b[39;00m\u001b[38;5;250m \u001b[39m\u001b[34mmax\u001b[39m(\n\u001b[32m   6511\u001b[39m     \u001b[38;5;28mself\u001b[39m,\n\u001b[32m   (...)\u001b[39m\u001b[32m   6515\u001b[39m     **kwargs,\n\u001b[32m   6516\u001b[39m ):\n\u001b[32m-> \u001b[39m\u001b[32m6517\u001b[39m     \u001b[38;5;28;01mreturn\u001b[39;00m \u001b[43mNDFrame\u001b[49m\u001b[43m.\u001b[49m\u001b[43mmax\u001b[49m\u001b[43m(\u001b[49m\u001b[38;5;28;43mself\u001b[39;49m\u001b[43m,\u001b[49m\u001b[43m \u001b[49m\u001b[43maxis\u001b[49m\u001b[43m,\u001b[49m\u001b[43m \u001b[49m\u001b[43mskipna\u001b[49m\u001b[43m,\u001b[49m\u001b[43m \u001b[49m\u001b[43mnumeric_only\u001b[49m\u001b[43m,\u001b[49m\u001b[43m \u001b[49m\u001b[43m*\u001b[49m\u001b[43m*\u001b[49m\u001b[43mkwargs\u001b[49m\u001b[43m)\u001b[49m\n",
      "\u001b[36mFile \u001b[39m\u001b[32mc:\\Users\\Smeta6\\AppData\\Local\\pypoetry\\Cache\\virtualenvs\\ukrainian-npps-OxTZId6f-py3.12\\Lib\\site-packages\\pandas\\core\\generic.py:12404\u001b[39m, in \u001b[36mNDFrame.max\u001b[39m\u001b[34m(self, axis, skipna, numeric_only, **kwargs)\u001b[39m\n\u001b[32m  12397\u001b[39m \u001b[38;5;28;01mdef\u001b[39;00m\u001b[38;5;250m \u001b[39m\u001b[34mmax\u001b[39m(\n\u001b[32m  12398\u001b[39m     \u001b[38;5;28mself\u001b[39m,\n\u001b[32m  12399\u001b[39m     axis: Axis | \u001b[38;5;28;01mNone\u001b[39;00m = \u001b[32m0\u001b[39m,\n\u001b[32m   (...)\u001b[39m\u001b[32m  12402\u001b[39m     **kwargs,\n\u001b[32m  12403\u001b[39m ):\n\u001b[32m> \u001b[39m\u001b[32m12404\u001b[39m     \u001b[38;5;28;01mreturn\u001b[39;00m \u001b[38;5;28;43mself\u001b[39;49m\u001b[43m.\u001b[49m\u001b[43m_stat_function\u001b[49m\u001b[43m(\u001b[49m\n\u001b[32m  12405\u001b[39m \u001b[43m        \u001b[49m\u001b[33;43m\"\u001b[39;49m\u001b[33;43mmax\u001b[39;49m\u001b[33;43m\"\u001b[39;49m\u001b[43m,\u001b[49m\n\u001b[32m  12406\u001b[39m \u001b[43m        \u001b[49m\u001b[43mnanops\u001b[49m\u001b[43m.\u001b[49m\u001b[43mnanmax\u001b[49m\u001b[43m,\u001b[49m\n\u001b[32m  12407\u001b[39m \u001b[43m        \u001b[49m\u001b[43maxis\u001b[49m\u001b[43m,\u001b[49m\n\u001b[32m  12408\u001b[39m \u001b[43m        \u001b[49m\u001b[43mskipna\u001b[49m\u001b[43m,\u001b[49m\n\u001b[32m  12409\u001b[39m \u001b[43m        \u001b[49m\u001b[43mnumeric_only\u001b[49m\u001b[43m,\u001b[49m\n\u001b[32m  12410\u001b[39m \u001b[43m        \u001b[49m\u001b[43m*\u001b[49m\u001b[43m*\u001b[49m\u001b[43mkwargs\u001b[49m\u001b[43m,\u001b[49m\n\u001b[32m  12411\u001b[39m \u001b[43m    \u001b[49m\u001b[43m)\u001b[49m\n",
      "\u001b[36mFile \u001b[39m\u001b[32mc:\\Users\\Smeta6\\AppData\\Local\\pypoetry\\Cache\\virtualenvs\\ukrainian-npps-OxTZId6f-py3.12\\Lib\\site-packages\\pandas\\core\\generic.py:12377\u001b[39m, in \u001b[36mNDFrame._stat_function\u001b[39m\u001b[34m(self, name, func, axis, skipna, numeric_only, **kwargs)\u001b[39m\n\u001b[32m  12373\u001b[39m nv.validate_func(name, (), kwargs)\n\u001b[32m  12375\u001b[39m validate_bool_kwarg(skipna, \u001b[33m\"\u001b[39m\u001b[33mskipna\u001b[39m\u001b[33m\"\u001b[39m, none_allowed=\u001b[38;5;28;01mFalse\u001b[39;00m)\n\u001b[32m> \u001b[39m\u001b[32m12377\u001b[39m \u001b[38;5;28;01mreturn\u001b[39;00m \u001b[38;5;28;43mself\u001b[39;49m\u001b[43m.\u001b[49m\u001b[43m_reduce\u001b[49m\u001b[43m(\u001b[49m\n\u001b[32m  12378\u001b[39m \u001b[43m    \u001b[49m\u001b[43mfunc\u001b[49m\u001b[43m,\u001b[49m\u001b[43m \u001b[49m\u001b[43mname\u001b[49m\u001b[43m=\u001b[49m\u001b[43mname\u001b[49m\u001b[43m,\u001b[49m\u001b[43m \u001b[49m\u001b[43maxis\u001b[49m\u001b[43m=\u001b[49m\u001b[43maxis\u001b[49m\u001b[43m,\u001b[49m\u001b[43m \u001b[49m\u001b[43mskipna\u001b[49m\u001b[43m=\u001b[49m\u001b[43mskipna\u001b[49m\u001b[43m,\u001b[49m\u001b[43m \u001b[49m\u001b[43mnumeric_only\u001b[49m\u001b[43m=\u001b[49m\u001b[43mnumeric_only\u001b[49m\n\u001b[32m  12379\u001b[39m \u001b[43m\u001b[49m\u001b[43m)\u001b[49m\n",
      "\u001b[36mFile \u001b[39m\u001b[32mc:\\Users\\Smeta6\\AppData\\Local\\pypoetry\\Cache\\virtualenvs\\ukrainian-npps-OxTZId6f-py3.12\\Lib\\site-packages\\pandas\\core\\series.py:6457\u001b[39m, in \u001b[36mSeries._reduce\u001b[39m\u001b[34m(self, op, name, axis, skipna, numeric_only, filter_type, **kwds)\u001b[39m\n\u001b[32m   6452\u001b[39m     \u001b[38;5;66;03m# GH#47500 - change to TypeError to match other methods\u001b[39;00m\n\u001b[32m   6453\u001b[39m     \u001b[38;5;28;01mraise\u001b[39;00m \u001b[38;5;167;01mTypeError\u001b[39;00m(\n\u001b[32m   6454\u001b[39m         \u001b[33mf\u001b[39m\u001b[33m\"\u001b[39m\u001b[33mSeries.\u001b[39m\u001b[38;5;132;01m{\u001b[39;00mname\u001b[38;5;132;01m}\u001b[39;00m\u001b[33m does not allow \u001b[39m\u001b[38;5;132;01m{\u001b[39;00mkwd_name\u001b[38;5;132;01m}\u001b[39;00m\u001b[33m=\u001b[39m\u001b[38;5;132;01m{\u001b[39;00mnumeric_only\u001b[38;5;132;01m}\u001b[39;00m\u001b[33m \u001b[39m\u001b[33m\"\u001b[39m\n\u001b[32m   6455\u001b[39m         \u001b[33m\"\u001b[39m\u001b[33mwith non-numeric dtypes.\u001b[39m\u001b[33m\"\u001b[39m\n\u001b[32m   6456\u001b[39m     )\n\u001b[32m-> \u001b[39m\u001b[32m6457\u001b[39m \u001b[38;5;28;01mreturn\u001b[39;00m \u001b[43mop\u001b[49m\u001b[43m(\u001b[49m\u001b[43mdelegate\u001b[49m\u001b[43m,\u001b[49m\u001b[43m \u001b[49m\u001b[43mskipna\u001b[49m\u001b[43m=\u001b[49m\u001b[43mskipna\u001b[49m\u001b[43m,\u001b[49m\u001b[43m \u001b[49m\u001b[43m*\u001b[49m\u001b[43m*\u001b[49m\u001b[43mkwds\u001b[49m\u001b[43m)\u001b[49m\n",
      "\u001b[36mFile \u001b[39m\u001b[32mc:\\Users\\Smeta6\\AppData\\Local\\pypoetry\\Cache\\virtualenvs\\ukrainian-npps-OxTZId6f-py3.12\\Lib\\site-packages\\pandas\\core\\nanops.py:147\u001b[39m, in \u001b[36mbottleneck_switch.__call__.<locals>.f\u001b[39m\u001b[34m(values, axis, skipna, **kwds)\u001b[39m\n\u001b[32m    145\u001b[39m         result = alt(values, axis=axis, skipna=skipna, **kwds)\n\u001b[32m    146\u001b[39m \u001b[38;5;28;01melse\u001b[39;00m:\n\u001b[32m--> \u001b[39m\u001b[32m147\u001b[39m     result = \u001b[43malt\u001b[49m\u001b[43m(\u001b[49m\u001b[43mvalues\u001b[49m\u001b[43m,\u001b[49m\u001b[43m \u001b[49m\u001b[43maxis\u001b[49m\u001b[43m=\u001b[49m\u001b[43maxis\u001b[49m\u001b[43m,\u001b[49m\u001b[43m \u001b[49m\u001b[43mskipna\u001b[49m\u001b[43m=\u001b[49m\u001b[43mskipna\u001b[49m\u001b[43m,\u001b[49m\u001b[43m \u001b[49m\u001b[43m*\u001b[49m\u001b[43m*\u001b[49m\u001b[43mkwds\u001b[49m\u001b[43m)\u001b[49m\n\u001b[32m    149\u001b[39m \u001b[38;5;28;01mreturn\u001b[39;00m result\n",
      "\u001b[36mFile \u001b[39m\u001b[32mc:\\Users\\Smeta6\\AppData\\Local\\pypoetry\\Cache\\virtualenvs\\ukrainian-npps-OxTZId6f-py3.12\\Lib\\site-packages\\pandas\\core\\nanops.py:404\u001b[39m, in \u001b[36m_datetimelike_compat.<locals>.new_func\u001b[39m\u001b[34m(values, axis, skipna, mask, **kwargs)\u001b[39m\n\u001b[32m    401\u001b[39m \u001b[38;5;28;01mif\u001b[39;00m datetimelike \u001b[38;5;129;01mand\u001b[39;00m mask \u001b[38;5;129;01mis\u001b[39;00m \u001b[38;5;28;01mNone\u001b[39;00m:\n\u001b[32m    402\u001b[39m     mask = isna(values)\n\u001b[32m--> \u001b[39m\u001b[32m404\u001b[39m result = \u001b[43mfunc\u001b[49m\u001b[43m(\u001b[49m\u001b[43mvalues\u001b[49m\u001b[43m,\u001b[49m\u001b[43m \u001b[49m\u001b[43maxis\u001b[49m\u001b[43m=\u001b[49m\u001b[43maxis\u001b[49m\u001b[43m,\u001b[49m\u001b[43m \u001b[49m\u001b[43mskipna\u001b[49m\u001b[43m=\u001b[49m\u001b[43mskipna\u001b[49m\u001b[43m,\u001b[49m\u001b[43m \u001b[49m\u001b[43mmask\u001b[49m\u001b[43m=\u001b[49m\u001b[43mmask\u001b[49m\u001b[43m,\u001b[49m\u001b[43m \u001b[49m\u001b[43m*\u001b[49m\u001b[43m*\u001b[49m\u001b[43mkwargs\u001b[49m\u001b[43m)\u001b[49m\n\u001b[32m    406\u001b[39m \u001b[38;5;28;01mif\u001b[39;00m datetimelike:\n\u001b[32m    407\u001b[39m     result = _wrap_results(result, orig_values.dtype, fill_value=iNaT)\n",
      "\u001b[36mFile \u001b[39m\u001b[32mc:\\Users\\Smeta6\\AppData\\Local\\pypoetry\\Cache\\virtualenvs\\ukrainian-npps-OxTZId6f-py3.12\\Lib\\site-packages\\pandas\\core\\nanops.py:1098\u001b[39m, in \u001b[36m_nanminmax.<locals>.reduction\u001b[39m\u001b[34m(values, axis, skipna, mask)\u001b[39m\n\u001b[32m   1093\u001b[39m     \u001b[38;5;28;01mreturn\u001b[39;00m _na_for_min_count(values, axis)\n\u001b[32m   1095\u001b[39m values, mask = _get_values(\n\u001b[32m   1096\u001b[39m     values, skipna, fill_value_typ=fill_value_typ, mask=mask\n\u001b[32m   1097\u001b[39m )\n\u001b[32m-> \u001b[39m\u001b[32m1098\u001b[39m result = \u001b[38;5;28;43mgetattr\u001b[39;49m\u001b[43m(\u001b[49m\u001b[43mvalues\u001b[49m\u001b[43m,\u001b[49m\u001b[43m \u001b[49m\u001b[43mmeth\u001b[49m\u001b[43m)\u001b[49m\u001b[43m(\u001b[49m\u001b[43maxis\u001b[49m\u001b[43m)\u001b[49m\n\u001b[32m   1099\u001b[39m result = _maybe_null_out(result, axis, mask, values.shape)\n\u001b[32m   1100\u001b[39m \u001b[38;5;28;01mreturn\u001b[39;00m result\n",
      "\u001b[36mFile \u001b[39m\u001b[32mc:\\Users\\Smeta6\\AppData\\Local\\pypoetry\\Cache\\virtualenvs\\ukrainian-npps-OxTZId6f-py3.12\\Lib\\site-packages\\numpy\\_core\\_methods.py:44\u001b[39m, in \u001b[36m_amax\u001b[39m\u001b[34m(a, axis, out, keepdims, initial, where)\u001b[39m\n\u001b[32m     42\u001b[39m \u001b[38;5;28;01mdef\u001b[39;00m\u001b[38;5;250m \u001b[39m\u001b[34m_amax\u001b[39m(a, axis=\u001b[38;5;28;01mNone\u001b[39;00m, out=\u001b[38;5;28;01mNone\u001b[39;00m, keepdims=\u001b[38;5;28;01mFalse\u001b[39;00m,\n\u001b[32m     43\u001b[39m           initial=_NoValue, where=\u001b[38;5;28;01mTrue\u001b[39;00m):\n\u001b[32m---> \u001b[39m\u001b[32m44\u001b[39m     \u001b[38;5;28;01mreturn\u001b[39;00m \u001b[43mumr_maximum\u001b[49m\u001b[43m(\u001b[49m\u001b[43ma\u001b[49m\u001b[43m,\u001b[49m\u001b[43m \u001b[49m\u001b[43maxis\u001b[49m\u001b[43m,\u001b[49m\u001b[43m \u001b[49m\u001b[38;5;28;43;01mNone\u001b[39;49;00m\u001b[43m,\u001b[49m\u001b[43m \u001b[49m\u001b[43mout\u001b[49m\u001b[43m,\u001b[49m\u001b[43m \u001b[49m\u001b[43mkeepdims\u001b[49m\u001b[43m,\u001b[49m\u001b[43m \u001b[49m\u001b[43minitial\u001b[49m\u001b[43m,\u001b[49m\u001b[43m \u001b[49m\u001b[43mwhere\u001b[49m\u001b[43m)\u001b[49m\n",
      "\u001b[31mTypeError\u001b[39m: '>=' not supported between instances of 'str' and 'float'"
     ]
    }
   ],
   "source": [
    "import pandas as pd\n",
    "import plotly.graph_objects as go\n",
    "\n",
    "stations_en_list = sorted(dataset_df[\"station_en\"].unique())\n",
    "\n",
    "\n",
    "# Максимальні значення для масштабування по y\n",
    "max_values = {\n",
    "    metric: (\n",
    "        round(dataset_df[metric].max() + 1)\n",
    "        if pd.notnull(dataset_df[metric].max())\n",
    "        else 1\n",
    "    )\n",
    "    for metric in metrics\n",
    "}\n",
    "\n",
    "fig = go.Figure()\n",
    "traces = []\n",
    "\n",
    "# Створення всіх графіків\n",
    "for metric in metrics:\n",
    "    for station in stations_en_list:\n",
    "        df_station = dataset_df[dataset_df[\"station_en\"] == station]\n",
    "        trace = go.Scatter(\n",
    "            x=df_station[\"date\"],\n",
    "            y=df_station[metric],\n",
    "            name=station,\n",
    "            visible=(metric == \"index_radioactive_releas\"),\n",
    "            legendgroup=station,\n",
    "        )\n",
    "        fig.add_trace(trace)\n",
    "        traces.append((metric, station, trace))\n",
    "\n",
    "# Кнопки для перемикання метрик\n",
    "buttons = []\n",
    "for metric in metrics:\n",
    "    visibility = [(m == metric) for (m, _, _) in traces]\n",
    "    buttons.append(\n",
    "        dict(\n",
    "            label=metric,\n",
    "            method=\"update\",\n",
    "            args=[\n",
    "                {\"visible\": visibility},\n",
    "                {\n",
    "                    \"title\": f\"Metric: {metric}\",\n",
    "                    \"yaxis\": {\"range\": [0, max_values[metric]]},\n",
    "                    \"yaxis_title\": metric.replace(\"_\", \" \").title(),\n",
    "                },\n",
    "            ],\n",
    "        )\n",
    "    )\n",
    "\n",
    "# Оновлення макету\n",
    "fig.update_layout(\n",
    "    updatemenus=[\n",
    "        dict(\n",
    "            type=\"dropdown\",\n",
    "            active=metrics.index(\"index_radioactive_releas\"),\n",
    "            buttons=buttons,\n",
    "            xanchor=\"right\",\n",
    "            x=1,\n",
    "            y=1.2,\n",
    "        )\n",
    "    ],\n",
    "    title=\"Metric: index_radioactive_releas\",\n",
    "    xaxis_title=\"Date\",\n",
    "    xaxis=dict(tickangle=-45, showgrid=True, showline=True, domain=[0, 0.94]),\n",
    "    yaxis_title=\"Release Index\",\n",
    "    yaxis=dict(\n",
    "        range=[0, max_values[\"index_radioactive_releas\"]],\n",
    "    ),\n",
    "    template=\"plotly_dark\",\n",
    "    width=1000,\n",
    "    height=600,\n",
    "    legend=dict(\n",
    "        title=\"Station\",\n",
    "        orientation=\"v\",\n",
    "        x=1.02,\n",
    "        y=1,\n",
    "        xanchor=\"left\",\n",
    "        yanchor=\"top\",\n",
    "        bgcolor=\"rgba(0,0,0,0)\",\n",
    "        borderwidth=1,\n",
    "        font=dict(size=12, color=\"white\"),\n",
    "        itemwidth=40,\n",
    "    ),\n",
    "    margin=dict(r=200),\n",
    ")\n",
    "\n",
    "fig.show()"
   ]
  },
  {
   "cell_type": "markdown",
   "metadata": {
    "id": "kQ2or0LEYPQx"
   },
   "source": [
    "### Висновки\n",
    "1. В Україні є чотири Атомні електростанції.\n",
    "2. В другій половині 2021 року на **ЮУАЕС** сталася ситуація, що причинила підвищення сумарних викидів в атмосферу більше ніж у 30 разів.\n",
    "3. В першому кварталі 2022 року ([22 січня 2022 року о 14:08](https://uk.wikipedia.org/wiki/%D0%9F%D1%96%D0%B2%D0%B4%D0%B5%D0%BD%D0%BD%D0%BE%D1%83%D0%BA%D1%80%D0%B0%D1%97%D0%BD%D1%81%D1%8C%D0%BA%D0%B0_%D0%90%D0%95%D0%A1)) **ЮУАЕС** припинила роботу, що співпадає з відкритими даними на [Вікіпедії](https://uk.wikipedia.org/wiki/%D0%9F%D1%96%D0%B2%D0%B4%D0%B5%D0%BD%D0%BD%D0%BE%D1%83%D0%BA%D1%80%D0%B0%D1%97%D0%BD%D1%81%D1%8C%D0%BA%D0%B0_%D0%90%D0%95%D0%A1). Після відключення дані про викиди станції не надходили.\n",
    "4. З четвертого кварталу 2022 року дані про викиди **ЗАЕС** не надходять через війсьові злочини рф.\n",
    "5. На сьогоднішній день у штатному режимі працюють станції **РАЕС** та **ХАЕС**."
   ]
  }
 ],
 "metadata": {
  "colab": {
   "provenance": []
  },
  "kernelspec": {
   "display_name": "ukrainian-npps-OxTZId6f-py3.12",
   "language": "python",
   "name": "python3"
  },
  "language_info": {
   "codemirror_mode": {
    "name": "ipython",
    "version": 3
   },
   "file_extension": ".py",
   "mimetype": "text/x-python",
   "name": "python",
   "nbconvert_exporter": "python",
   "pygments_lexer": "ipython3",
   "version": "3.12.8"
  }
 },
 "nbformat": 4,
 "nbformat_minor": 4
}
