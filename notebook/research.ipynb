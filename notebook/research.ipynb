{
 "cells": [
  {
   "cell_type": "markdown",
   "metadata": {
    "id": "-qcZ4rJUYPQn"
   },
   "source": [
    "# 📊 Ukrainian NPPs: Open Data Analysis \n",
    "\n",
    "## About\n",
    "\n",
    "This project explores open datasets on radioactive emissions and discharges from  \n",
    "nuclear power plants (NPPs) in Ukraine. Using Python, Pandas, and Plotly, we  \n",
    "analyze environmental indicators across several stations and visualize quarterly  \n",
    "changes over time.\n",
    "\n",
    "### Goal  \n",
    "\n",
    "better understand trends in emission levels and present the data in an  \n",
    "accessible, interactive format.  \n",
    "All data is retrieved from publicly available government sources.\n",
    "\n",
    "_**(For more information look at a README.md)**_\n",
    "\n",
    "## Plan of Book\n",
    "\n",
    "1. [Work with API](#Work-with-API)\n",
    "2. [Research dataset metadata](#Research-dataset-metadata)\n",
    "3. [Dataset passport overview](#Dataset-passport-overview)\n",
    "4. [Dataset acquisition and analysis](#Dataset-acquisition-and-analysis)\n",
    "    * [Format data](#Format-data)\n",
    "    * [Stations](#Stations)\n",
    "6. [Dataset visualization](#Dataset-visualization)\n",
    "7. [Summary](#Summary)"
   ]
  },
  {
   "cell_type": "markdown",
   "metadata": {
    "jp-MarkdownHeadingCollapsed": true
   },
   "source": [
    "## Work with API  \n",
    "\n",
    "Create variables according to the API documentation for loading dataset metadata  \n",
    "and exploring them. Takes dataset_id on a dataset page."
   ]
  },
  {
   "cell_type": "code",
   "execution_count": 1,
   "metadata": {},
   "outputs": [],
   "source": [
    "dataset_id = \"4a9d3d56-bd95-4c3e-97e7-1cdc7bcbd445\""
   ]
  },
  {
   "cell_type": "markdown",
   "metadata": {
    "jp-MarkdownHeadingCollapsed": true
   },
   "source": [
    "## Research dataset metadata\n",
    "\n",
    "Download dataset metadata."
   ]
  },
  {
   "cell_type": "code",
   "execution_count": 2,
   "metadata": {},
   "outputs": [
    {
     "name": "stdout",
     "output_type": "stream",
     "text": [
      "Metadata and resources is fetched.\n"
     ]
    },
    {
     "data": {
      "text/plain": [
       "'https://data.gov.ua/api/3/action/package_show?id=4a9d3d56-bd95-4c3e-97e7-1cdc7bcbd445'"
      ]
     },
     "execution_count": 2,
     "metadata": {},
     "output_type": "execute_result"
    }
   ],
   "source": [
    "from common.client import DataGovUAClient\n",
    "\n",
    "# This script fetches metadata for a specific dataset from the DataGovUA API.\n",
    "sesion = DataGovUAClient(dataset_id)\n",
    "sesion.fetch_metadata()\n",
    "sesion.BASE_URL + sesion.dataset_id"
   ]
  },
  {
   "cell_type": "markdown",
   "metadata": {},
   "source": [
    "You can reseach metadata with call `sesion.metadata`"
   ]
  },
  {
   "cell_type": "code",
   "execution_count": 3,
   "metadata": {},
   "outputs": [],
   "source": [
    "# sesion.metadata"
   ]
  },
  {
   "cell_type": "markdown",
   "metadata": {},
   "source": [
    "We adds an identifier for the dataset passport and dataset. We see them in metadata.  \n",
    "For more details, look carefully at the `metadata`:"
   ]
  },
  {
   "cell_type": "code",
   "execution_count": 4,
   "metadata": {},
   "outputs": [],
   "source": [
    "dataset_id = \"d55eebcf-4660-4919-96b3-4894be5a6cda\"\n",
    "passport_id = \"afa0c772-2554-4b9a-98b4-980e54b1e21a\""
   ]
  },
  {
   "cell_type": "markdown",
   "metadata": {},
   "source": [
    "Next we take a links on resources from metadata via `id`:"
   ]
  },
  {
   "cell_type": "code",
   "execution_count": 5,
   "metadata": {},
   "outputs": [
    {
     "name": "stdout",
     "output_type": "stream",
     "text": [
      "https://data.gov.ua/dataset/c445c6ea-f0c3-4167-abb1-5afb4a0e5499/resource/d55eebcf-4660-4919-96b3-4894be5a6cda/download/nuclear_safety_q1_2025.xlsx\n",
      "https://data.gov.ua/dataset/c445c6ea-f0c3-4167-abb1-5afb4a0e5499/resource/afa0c772-2554-4b9a-98b4-980e54b1e21a/download/pasport-naboru-danikh.xlsx\n"
     ]
    }
   ],
   "source": [
    "dataset_url = sesion.get_resource_url(resource_id=dataset_id)\n",
    "passport_url = sesion.get_resource_url(resource_id=passport_id)\n",
    "\n",
    "print(dataset_url)\n",
    "print(passport_url)"
   ]
  },
  {
   "cell_type": "markdown",
   "metadata": {
    "jp-MarkdownHeadingCollapsed": true
   },
   "source": [
    "## Dataset passport overview\n",
    "\n",
    "Now we have two different dataset: it's passport and dataset with quarterly  \n",
    "observations. First of all, let's see at a pasport  of dataset. Let's put  \n",
    "it in a tabular form."
   ]
  },
  {
   "cell_type": "code",
   "execution_count": 6,
   "metadata": {},
   "outputs": [
    {
     "data": {
      "text/html": [
       "<style type=\"text/css\">\n",
       "#T_48b03 th {\n",
       "  text-align: center;\n",
       "}\n",
       "#T_48b03 td {\n",
       "  white-space: pre-wrap;\n",
       "  text-align: left;\n",
       "  width: 300px;\n",
       "}\n",
       "</style>\n",
       "<table id=\"T_48b03\">\n",
       "  <thead>\n",
       "    <tr>\n",
       "      <th class=\"blank level0\" >&nbsp;</th>\n",
       "      <th id=\"T_48b03_level0_col0\" class=\"col_heading level0 col0\" >Назва набору</th>\n",
       "      <th id=\"T_48b03_level0_col1\" class=\"col_heading level0 col1\" >Екологічна та радіаційна обстановка в зоні розташування атомних електростанцій</th>\n",
       "      <th id=\"T_48b03_level0_col2\" class=\"col_heading level0 col2\" >Примітка</th>\n",
       "    </tr>\n",
       "  </thead>\n",
       "  <tbody>\n",
       "    <tr>\n",
       "      <th id=\"T_48b03_level0_row0\" class=\"row_heading level0 row0\" >0</th>\n",
       "      <td id=\"T_48b03_row0_col0\" class=\"data row0 col0\" >Формати файлів</td>\n",
       "      <td id=\"T_48b03_row0_col1\" class=\"data row0 col1\" >xlsx, csv</td>\n",
       "      <td id=\"T_48b03_row0_col2\" class=\"data row0 col2\" ></td>\n",
       "    </tr>\n",
       "    <tr>\n",
       "      <th id=\"T_48b03_level0_row1\" class=\"row_heading level0 row1\" >1</th>\n",
       "      <td id=\"T_48b03_row1_col0\" class=\"data row1 col0\" >Шаблон назв файлів</td>\n",
       "      <td id=\"T_48b03_row1_col1\" class=\"data row1 col1\" >nuclear_safety_QN_РРРР</td>\n",
       "      <td id=\"T_48b03_row1_col2\" class=\"data row1 col2\" ></td>\n",
       "    </tr>\n",
       "    <tr>\n",
       "      <th id=\"T_48b03_level0_row2\" class=\"row_heading level0 row2\" >2</th>\n",
       "      <td id=\"T_48b03_row2_col0\" class=\"data row2 col0\" >Ключові слова</td>\n",
       "      <td id=\"T_48b03_row2_col1\" class=\"data row2 col1\" >енергоатом, викид, викиди, скид, скиди, радіоактивність, цезій, кобальт, аес, атомна станція, атомні станції</td>\n",
       "      <td id=\"T_48b03_row2_col2\" class=\"data row2 col2\" ></td>\n",
       "    </tr>\n",
       "    <tr>\n",
       "      <th id=\"T_48b03_level0_row3\" class=\"row_heading level0 row3\" >3</th>\n",
       "      <td id=\"T_48b03_row3_col0\" class=\"data row3 col0\" >Періодичність оприлюднення</td>\n",
       "      <td id=\"T_48b03_row3_col1\" class=\"data row3 col1\" >Щоквартально, до 25 числа місяця, наступного за звітнім періодом</td>\n",
       "      <td id=\"T_48b03_row3_col2\" class=\"data row3 col2\" ></td>\n",
       "    </tr>\n",
       "    <tr>\n",
       "      <th id=\"T_48b03_level0_row4\" class=\"row_heading level0 row4\" >4</th>\n",
       "      <td id=\"T_48b03_row4_col0\" class=\"data row4 col0\" >Додаткові уточнення</td>\n",
       "      <td id=\"T_48b03_row4_col1\" class=\"data row4 col1\" >У випадку відсутності інформації або наявності значень нижчих за мінімальну активність, що може бути виміряною, залишати комірку пустою</td>\n",
       "      <td id=\"T_48b03_row4_col2\" class=\"data row4 col2\" ></td>\n",
       "    </tr>\n",
       "    <tr>\n",
       "      <th id=\"T_48b03_level0_row5\" class=\"row_heading level0 row5\" >5</th>\n",
       "      <td id=\"T_48b03_row5_col0\" class=\"data row5 col0\" ></td>\n",
       "      <td id=\"T_48b03_row5_col1\" class=\"data row5 col1\" ></td>\n",
       "      <td id=\"T_48b03_row5_col2\" class=\"data row5 col2\" ></td>\n",
       "    </tr>\n",
       "    <tr>\n",
       "      <th id=\"T_48b03_level0_row6\" class=\"row_heading level0 row6\" >6</th>\n",
       "      <td id=\"T_48b03_row6_col0\" class=\"data row6 col0\" >Структура набору:</td>\n",
       "      <td id=\"T_48b03_row6_col1\" class=\"data row6 col1\" ></td>\n",
       "      <td id=\"T_48b03_row6_col2\" class=\"data row6 col2\" ></td>\n",
       "    </tr>\n",
       "    <tr>\n",
       "      <th id=\"T_48b03_level0_row7\" class=\"row_heading level0 row7\" >7</th>\n",
       "      <td id=\"T_48b03_row7_col0\" class=\"data row7 col0\" >Назва поля</td>\n",
       "      <td id=\"T_48b03_row7_col1\" class=\"data row7 col1\" >Переклад на українську</td>\n",
       "      <td id=\"T_48b03_row7_col2\" class=\"data row7 col2\" >Опис</td>\n",
       "    </tr>\n",
       "    <tr>\n",
       "      <th id=\"T_48b03_level0_row8\" class=\"row_heading level0 row8\" >8</th>\n",
       "      <td id=\"T_48b03_row8_col0\" class=\"data row8 col0\" >year</td>\n",
       "      <td id=\"T_48b03_row8_col1\" class=\"data row8 col1\" >рік</td>\n",
       "      <td id=\"T_48b03_row8_col2\" class=\"data row8 col2\" >Формат РРРР</td>\n",
       "    </tr>\n",
       "    <tr>\n",
       "      <th id=\"T_48b03_level0_row9\" class=\"row_heading level0 row9\" >9</th>\n",
       "      <td id=\"T_48b03_row9_col0\" class=\"data row9 col0\" >quarter</td>\n",
       "      <td id=\"T_48b03_row9_col1\" class=\"data row9 col1\" >квартал</td>\n",
       "      <td id=\"T_48b03_row9_col2\" class=\"data row9 col2\" >Число від 1 до 4, де\n",
       "\"1\" означає період січень-березень\n",
       "\"2\" - квітень-червень\n",
       "\"3\" - липень-вересень\n",
       "\"4\" - жовтень-грудень</td>\n",
       "    </tr>\n",
       "    <tr>\n",
       "      <th id=\"T_48b03_level0_row10\" class=\"row_heading level0 row10\" >10</th>\n",
       "      <td id=\"T_48b03_row10_col0\" class=\"data row10 col0\" >Station</td>\n",
       "      <td id=\"T_48b03_row10_col1\" class=\"data row10 col1\" >Назва станції</td>\n",
       "      <td id=\"T_48b03_row10_col2\" class=\"data row10 col2\" >Текст\n",
       "Назва без змін</td>\n",
       "    </tr>\n",
       "    <tr>\n",
       "      <th id=\"T_48b03_level0_row11\" class=\"row_heading level0 row11\" >11</th>\n",
       "      <td id=\"T_48b03_row11_col0\" class=\"data row11 col0\" >Irg</td>\n",
       "      <td id=\"T_48b03_row11_col1\" class=\"data row11 col1\" >ІРГ</td>\n",
       "      <td id=\"T_48b03_row11_col2\" class=\"data row11 col2\" >Число, ГБк/добу\n",
       "Середньодобове значення радіоактивності газо-аерозольних викидів інертних радіоактивних газів у навколишнє середовище</td>\n",
       "    </tr>\n",
       "    <tr>\n",
       "      <th id=\"T_48b03_level0_row12\" class=\"row_heading level0 row12\" >12</th>\n",
       "      <td id=\"T_48b03_row12_col0\" class=\"data row12 col0\" >irg_index</td>\n",
       "      <td id=\"T_48b03_row12_col1\" class=\"data row12 col1\" >Індекс викидів ІРГ</td>\n",
       "      <td id=\"T_48b03_row12_col2\" class=\"data row12 col2\" >Число, %\n",
       "Відсоток від допустимого добового рівня викидів інертних радіоактивних газів у навколишнє середовище</td>\n",
       "    </tr>\n",
       "    <tr>\n",
       "      <th id=\"T_48b03_level0_row13\" class=\"row_heading level0 row13\" >13</th>\n",
       "      <td id=\"T_48b03_row13_col0\" class=\"data row13 col0\" >iodine_radionuclides</td>\n",
       "      <td id=\"T_48b03_row13_col1\" class=\"data row13 col1\" >Радіонуклідів йоду</td>\n",
       "      <td id=\"T_48b03_row13_col2\" class=\"data row13 col2\" >Число, кБк/добу\n",
       "Середньодобове значення радіоактивності газо-аерозольних викидів радіонуклідів йоду у навколишнє середовище</td>\n",
       "    </tr>\n",
       "    <tr>\n",
       "      <th id=\"T_48b03_level0_row14\" class=\"row_heading level0 row14\" >14</th>\n",
       "      <td id=\"T_48b03_row14_col0\" class=\"data row14 col0\" >iodine_radionuclides_index</td>\n",
       "      <td id=\"T_48b03_row14_col1\" class=\"data row14 col1\" >Індекс викидів радіонуклідів йоду</td>\n",
       "      <td id=\"T_48b03_row14_col2\" class=\"data row14 col2\" >Число, %\n",
       "Відсоток від допустимого добового рівня викидів радіонуклідів йоду у навколишнє середовище</td>\n",
       "    </tr>\n",
       "    <tr>\n",
       "      <th id=\"T_48b03_level0_row15\" class=\"row_heading level0 row15\" >15</th>\n",
       "      <td id=\"T_48b03_row15_col0\" class=\"data row15 col0\" >stable_radionuclides</td>\n",
       "      <td id=\"T_48b03_row15_col1\" class=\"data row15 col1\" >ДІН</td>\n",
       "      <td id=\"T_48b03_row15_col2\" class=\"data row15 col2\" >Число, кБк/добу\n",
       "Середньодобове значення радіоактивності газо-аерозольних викидів довгоіснуючих радіонуклідів у навколишнє середовище</td>\n",
       "    </tr>\n",
       "    <tr>\n",
       "      <th id=\"T_48b03_level0_row16\" class=\"row_heading level0 row16\" >16</th>\n",
       "      <td id=\"T_48b03_row16_col0\" class=\"data row16 col0\" >stable_radionuclides_index</td>\n",
       "      <td id=\"T_48b03_row16_col1\" class=\"data row16 col1\" >Індекс викидів ДІН</td>\n",
       "      <td id=\"T_48b03_row16_col2\" class=\"data row16 col2\" >Число, %\n",
       "Відсоток від допустимого добового рівня викидів довгоіснуючих радіонуклідів у навколишнє середовище</td>\n",
       "    </tr>\n",
       "    <tr>\n",
       "      <th id=\"T_48b03_level0_row17\" class=\"row_heading level0 row17\" >17</th>\n",
       "      <td id=\"T_48b03_row17_col0\" class=\"data row17 col0\" >cs_137_emission</td>\n",
       "      <td id=\"T_48b03_row17_col1\" class=\"data row17 col1\" >Викид Cs-137</td>\n",
       "      <td id=\"T_48b03_row17_col2\" class=\"data row17 col2\" >Число, кБк/місяць\n",
       "Радіоактивність газо-аерозольних викидів реперного радіонукліду Cs-137 у навколишнє середовище</td>\n",
       "    </tr>\n",
       "    <tr>\n",
       "      <th id=\"T_48b03_level0_row18\" class=\"row_heading level0 row18\" >18</th>\n",
       "      <td id=\"T_48b03_row18_col0\" class=\"data row18 col0\" >co_60_emission</td>\n",
       "      <td id=\"T_48b03_row18_col1\" class=\"data row18 col1\" >Викид Co-60</td>\n",
       "      <td id=\"T_48b03_row18_col2\" class=\"data row18 col2\" >Число, кБк/місяць\n",
       "Радіоактивність газо-аерозольних викидів реперного радіонукліду Co-60 у навколишнє середовище</td>\n",
       "    </tr>\n",
       "    <tr>\n",
       "      <th id=\"T_48b03_level0_row19\" class=\"row_heading level0 row19\" >19</th>\n",
       "      <td id=\"T_48b03_row19_col0\" class=\"data row19 col0\" >cs_137_dump</td>\n",
       "      <td id=\"T_48b03_row19_col1\" class=\"data row19 col1\" >Скид Cs-137</td>\n",
       "      <td id=\"T_48b03_row19_col2\" class=\"data row19 col2\" >Число, кБк/місяць\n",
       "Радіоактивність рідкого (водного) скиду реперного радіонукліду Cs-137 у навколишнє середовище</td>\n",
       "    </tr>\n",
       "    <tr>\n",
       "      <th id=\"T_48b03_level0_row20\" class=\"row_heading level0 row20\" >20</th>\n",
       "      <td id=\"T_48b03_row20_col0\" class=\"data row20 col0\" >co_60_dump</td>\n",
       "      <td id=\"T_48b03_row20_col1\" class=\"data row20 col1\" >Скид Co-60</td>\n",
       "      <td id=\"T_48b03_row20_col2\" class=\"data row20 col2\" >Число, кБк/місяць\n",
       "Радіоактивність рідкого (водного) скиду реперного радіонукліду Co-60 у навколишнє середовище</td>\n",
       "    </tr>\n",
       "    <tr>\n",
       "      <th id=\"T_48b03_level0_row21\" class=\"row_heading level0 row21\" >21</th>\n",
       "      <td id=\"T_48b03_row21_col0\" class=\"data row21 col0\" >volume</td>\n",
       "      <td id=\"T_48b03_row21_col1\" class=\"data row21 col1\" >Об'єм</td>\n",
       "      <td id=\"T_48b03_row21_col2\" class=\"data row21 col2\" >Число, куб. м\n",
       "Загальний об'єм водних скидів за звітний період</td>\n",
       "    </tr>\n",
       "    <tr>\n",
       "      <th id=\"T_48b03_level0_row22\" class=\"row_heading level0 row22\" >22</th>\n",
       "      <td id=\"T_48b03_row22_col0\" class=\"data row22 col0\" >index_radioactive _ releas</td>\n",
       "      <td id=\"T_48b03_row22_col1\" class=\"data row22 col1\" >Показник радіоактивного викиду</td>\n",
       "      <td id=\"T_48b03_row22_col2\" class=\"data row22 col2\" >Число,%\n",
       "Сумарний показник радіоактивних викидів в атмосферу</td>\n",
       "    </tr>\n",
       "    <tr>\n",
       "      <th id=\"T_48b03_level0_row23\" class=\"row_heading level0 row23\" >23</th>\n",
       "      <td id=\"T_48b03_row23_col0\" class=\"data row23 col0\" >index_dump</td>\n",
       "      <td id=\"T_48b03_row23_col1\" class=\"data row23 col1\" >Індекс скиду</td>\n",
       "      <td id=\"T_48b03_row23_col2\" class=\"data row23 col2\" >Число, %\n",
       "Сумарний індекс скиду радіоактивних речовин (наростаючим підсумком з початку року)</td>\n",
       "    </tr>\n",
       "  </tbody>\n",
       "</table>\n"
      ],
      "text/plain": [
       "<pandas.io.formats.style.Styler at 0x1f466e185c0>"
      ]
     },
     "execution_count": 6,
     "metadata": {},
     "output_type": "execute_result"
    }
   ],
   "source": [
    "passport_df = sesion.load_dataframe(resource_url=passport_url)\n",
    "\n",
    "# Customizes table styles.\n",
    "columns_rename = list(passport_df.columns[:-1]) + [\"Примітка\"]\n",
    "passport_df.columns = columns_rename\n",
    "\n",
    "(\n",
    "    passport_df.fillna(\"\").style.set_table_styles(\n",
    "        [\n",
    "            {\"selector\": \"th\", \"props\": [(\"text-align\", \"center\")]},\n",
    "            {\n",
    "                \"selector\": \"td\",\n",
    "                \"props\": [\n",
    "                    (\"white-space\", \"pre-wrap\"),\n",
    "                    (\"text-align\", \"left\"),\n",
    "                    (\"width\", \"300px\"),\n",
    "                ],\n",
    "            },\n",
    "        ]\n",
    "    )\n",
    ")"
   ]
  },
  {
   "cell_type": "markdown",
   "metadata": {},
   "source": [
    "This passport show a metric keys that show us evaluation parameters of  \n",
    "radioactive emissions. \n",
    "\n",
    "Let`s create hash table of metrics whot use us in create a graphs.  \n",
    "He will included the descriptions  and titles on English and Ukraine."
   ]
  },
  {
   "cell_type": "code",
   "execution_count": 7,
   "metadata": {},
   "outputs": [
    {
     "data": {
      "text/plain": [
       "{'Irg': {'title_en': 'Irg',\n",
       "  'title_ua': 'ІРГ',\n",
       "  'description_en': 'Number, GBK/day\\nThe average daily value of radioactivity of gas-aerosol emissions of inert radioactive gases into the environment',\n",
       "  'description_ua': 'Число, ГБк/добу\\nСередньодобове значення радіоактивності газо-аерозольних викидів інертних радіоактивних газів у навколишнє середовище'},\n",
       " 'irg_index': {'title_en': 'Irg Index',\n",
       "  'title_ua': 'Індекс викидів ІРГ',\n",
       "  'description_en': 'Number, %\\nPercentage of permissible daily emissions of inert radioactive gases into the environment',\n",
       "  'description_ua': 'Число, %\\nВідсоток від допустимого добового рівня викидів інертних радіоактивних газів у навколишнє середовище'},\n",
       " 'iodine_radionuclides': {'title_en': 'Iodine Radionuclides',\n",
       "  'title_ua': 'Радіонуклідів йоду',\n",
       "  'description_en': 'Number, KBK/day\\nThe average daily value of radioactivity of gas-aerosol emissions of iodine radionuclides into the environment',\n",
       "  'description_ua': 'Число, кБк/добу\\nСередньодобове значення радіоактивності газо-аерозольних викидів радіонуклідів йоду у навколишнє середовище'},\n",
       " 'iodine_radionuclides_index': {'title_en': 'Iodine Radionuclides Index',\n",
       "  'title_ua': 'Індекс викидів радіонуклідів йоду',\n",
       "  'description_en': 'Number, %\\nPercentage of the permissible daily levels of iodine radionuclide emissions into the environment',\n",
       "  'description_ua': 'Число, %\\nВідсоток від допустимого добового рівня викидів радіонуклідів йоду у навколишнє середовище'},\n",
       " 'stable_radionuclides': {'title_en': 'Stable Radionuclides',\n",
       "  'title_ua': 'ДІН',\n",
       "  'description_en': 'Number, KBK/day\\nThe average daily value of radioactivity of gas-aerosol emissions of long-lived radionuclides in the environment',\n",
       "  'description_ua': 'Число, кБк/добу\\nСередньодобове значення радіоактивності газо-аерозольних викидів довгоіснуючих радіонуклідів у навколишнє середовище'},\n",
       " 'stable_radionuclides_index': {'title_en': 'Stable Radionuclides Index',\n",
       "  'title_ua': 'Індекс викидів ДІН',\n",
       "  'description_en': 'Number, %\\nPercentage of the permissible daily level of emissions of long -lived radionuclides in the environment',\n",
       "  'description_ua': 'Число, %\\nВідсоток від допустимого добового рівня викидів довгоіснуючих радіонуклідів у навколишнє середовище'},\n",
       " 'cs_137_emission': {'title_en': 'Cs 137 Emission',\n",
       "  'title_ua': 'Викид Cs-137',\n",
       "  'description_en': 'Number, KBK/month\\nRadioactivity of gas-aerosol emissions of rapper radionuclide CS-137 into the environment',\n",
       "  'description_ua': 'Число, кБк/місяць\\nРадіоактивність газо-аерозольних викидів реперного радіонукліду Cs-137 у навколишнє середовище'},\n",
       " 'co_60_emission': {'title_en': 'Co 60 Emission',\n",
       "  'title_ua': 'Викид Co-60',\n",
       "  'description_en': 'Number, KBK/month\\nRadioactivity of gas-aerosol emissions of rapper radionuclide CO-60 in the environment',\n",
       "  'description_ua': 'Число, кБк/місяць\\nРадіоактивність газо-аерозольних викидів реперного радіонукліду Co-60 у навколишнє середовище'},\n",
       " 'cs_137_dump': {'title_en': 'Cs 137 Dump',\n",
       "  'title_ua': 'Скид Cs-137',\n",
       "  'description_en': 'Number, KBK/month\\nRadioactivity of liquid (aquatic) discharge of rapper radionuclide CS-137 into the environment',\n",
       "  'description_ua': 'Число, кБк/місяць\\nРадіоактивність рідкого (водного) скиду реперного радіонукліду Cs-137 у навколишнє середовище'},\n",
       " 'co_60_dump': {'title_en': 'Co 60 Dump',\n",
       "  'title_ua': 'Скид Co-60',\n",
       "  'description_en': 'Number, KBK/month\\nRadioactivity of liquid (water) discharge of rapper radionuclide CO-60 into the environment',\n",
       "  'description_ua': 'Число, кБк/місяць\\nРадіоактивність рідкого (водного) скиду реперного радіонукліду Co-60 у навколишнє середовище'},\n",
       " 'volume': {'title_en': 'Volume',\n",
       "  'title_ua': \"Об'єм\",\n",
       "  'description_en': 'Number, cube. m\\nThe total volume of water discharges for the reporting period',\n",
       "  'description_ua': \"Число, куб. м\\nЗагальний об'єм водних скидів за звітний період\"},\n",
       " 'index_radioactive_releas': {'title_en': 'Index Radioactive  Releas',\n",
       "  'title_ua': 'Показник радіоактивного викиду',\n",
       "  'description_en': 'Numeric,%\\nThe total ratio of radioactive emissions into the atmosphere',\n",
       "  'description_ua': 'Число,%\\nСумарний показник радіоактивних викидів в атмосферу'},\n",
       " 'index_dump': {'title_en': 'Index Dump',\n",
       "  'title_ua': 'Індекс скиду',\n",
       "  'description_en': 'Number, %\\nThe total index of dumping radioactive substances (increasing since the beginning of the year)',\n",
       "  'description_ua': 'Число, %\\nСумарний індекс скиду радіоактивних речовин (наростаючим підсумком з початку року)'}}"
      ]
     },
     "execution_count": 7,
     "metadata": {},
     "output_type": "execute_result"
    }
   ],
   "source": [
    "from common.translate_text import get_translation\n",
    "\n",
    "# Convert the DataFrame to a dictionary with the first column as keys\n",
    "metric_mapping = {}\n",
    "for _, row in passport_df.iloc[11:, :].iterrows():\n",
    "    key = row.iloc[0].replace(\" \", \"\")\n",
    "    title_en = row.iloc[0].replace(\"_\", \" \").replace(\"  \", \" \").title()\n",
    "    title_ua = row.iloc[1]\n",
    "    description_ua = row.iloc[2]\n",
    "    description_en = await get_translation(description_ua)\n",
    "\n",
    "    metric_mapping[key] = {\n",
    "        \"title_en\": title_en,\n",
    "        \"title_ua\": title_ua,\n",
    "        \"description_en\": description_en,\n",
    "        \"description_ua\": description_ua,\n",
    "    }\n",
    "\n",
    "metric_mapping"
   ]
  },
  {
   "cell_type": "markdown",
   "metadata": {},
   "source": [
    "For analysis and detailing, we will select indicators under the following \n",
    "indices metrics:"
   ]
  },
  {
   "cell_type": "code",
   "execution_count": 8,
   "metadata": {},
   "outputs": [],
   "source": [
    "metrics = [\n",
    "    \"iodine_ radionuclides\",\n",
    "    \"iodine_ radionuclides_index\",\n",
    "    \"stable_radionuclides\",\n",
    "    \"cs_137_emission\",\n",
    "    \"co_60_ emission\",\n",
    "    \"cs_137_dump\",\n",
    "    \"co_60_dump\",\n",
    "    \"index_radioactive_releas\",\n",
    "    \"index_dump\",\n",
    "]"
   ]
  },
  {
   "cell_type": "markdown",
   "metadata": {
    "id": "eoHwyuEFYPQr"
   },
   "source": [
    "## Dataset acquisition and analysis\n",
    "\n",
    "First, let's download the dataset from the link."
   ]
  },
  {
   "cell_type": "code",
   "execution_count": 9,
   "metadata": {},
   "outputs": [
    {
     "data": {
      "text/html": [
       "<div>\n",
       "<style scoped>\n",
       "    .dataframe tbody tr th:only-of-type {\n",
       "        vertical-align: middle;\n",
       "    }\n",
       "\n",
       "    .dataframe tbody tr th {\n",
       "        vertical-align: top;\n",
       "    }\n",
       "\n",
       "    .dataframe thead th {\n",
       "        text-align: right;\n",
       "    }\n",
       "</style>\n",
       "<table border=\"1\" class=\"dataframe\">\n",
       "  <thead>\n",
       "    <tr style=\"text-align: right;\">\n",
       "      <th></th>\n",
       "      <th>year</th>\n",
       "      <th>quarter</th>\n",
       "      <th>station</th>\n",
       "      <th>irg</th>\n",
       "      <th>irg_index</th>\n",
       "      <th>iodine_ radionuclides</th>\n",
       "      <th>iodine_ radionuclides_index</th>\n",
       "      <th>stable_radionuclides</th>\n",
       "      <th>stable_ radionuclides_index</th>\n",
       "      <th>cs_137_emission</th>\n",
       "      <th>co_60_ emission</th>\n",
       "      <th>cs_137_dump</th>\n",
       "      <th>co_60_dump</th>\n",
       "      <th>volume</th>\n",
       "      <th>index_radioactive_releas</th>\n",
       "      <th>index_dump</th>\n",
       "    </tr>\n",
       "  </thead>\n",
       "  <tbody>\n",
       "    <tr>\n",
       "      <th>0</th>\n",
       "      <td>2018</td>\n",
       "      <td>1</td>\n",
       "      <td>ЗАЕС</td>\n",
       "      <td>89.0</td>\n",
       "      <td>0.13</td>\n",
       "      <td>260.0</td>\n",
       "      <td>&lt;0,01</td>\n",
       "      <td>650.0</td>\n",
       "      <td>0.03</td>\n",
       "      <td>1980.0</td>\n",
       "      <td>1020.0</td>\n",
       "      <td>4330.0</td>\n",
       "      <td>3670.0</td>\n",
       "      <td>833000.0</td>\n",
       "      <td>0.149</td>\n",
       "      <td>0.33</td>\n",
       "    </tr>\n",
       "    <tr>\n",
       "      <th>1</th>\n",
       "      <td>2018</td>\n",
       "      <td>1</td>\n",
       "      <td>РАЕС</td>\n",
       "      <td>105.0</td>\n",
       "      <td>0.16</td>\n",
       "      <td>147.0</td>\n",
       "      <td>&lt;0,01</td>\n",
       "      <td>269.0</td>\n",
       "      <td>0.07</td>\n",
       "      <td>587.0</td>\n",
       "      <td>165.0</td>\n",
       "      <td>4800.0</td>\n",
       "      <td>620.0</td>\n",
       "      <td>2220000.0</td>\n",
       "      <td>0.780</td>\n",
       "      <td>0.096</td>\n",
       "    </tr>\n",
       "    <tr>\n",
       "      <th>2</th>\n",
       "      <td>2018</td>\n",
       "      <td>1</td>\n",
       "      <td>ЮУАЕС</td>\n",
       "      <td>45.0</td>\n",
       "      <td>0.10</td>\n",
       "      <td>76.0</td>\n",
       "      <td>&lt;0,01</td>\n",
       "      <td>116.0</td>\n",
       "      <td>0.02</td>\n",
       "      <td>136.0</td>\n",
       "      <td>373.0</td>\n",
       "      <td>390.0</td>\n",
       "      <td>370.0</td>\n",
       "      <td>14600.0</td>\n",
       "      <td>0.136</td>\n",
       "      <td>0.284</td>\n",
       "    </tr>\n",
       "    <tr>\n",
       "      <th>3</th>\n",
       "      <td>2018</td>\n",
       "      <td>1</td>\n",
       "      <td>ХАЕС</td>\n",
       "      <td>31.0</td>\n",
       "      <td>0.07</td>\n",
       "      <td>26.8</td>\n",
       "      <td>&lt;0,01</td>\n",
       "      <td>37.5</td>\n",
       "      <td>&lt;0,01</td>\n",
       "      <td>29.4</td>\n",
       "      <td>13.8</td>\n",
       "      <td>380.0</td>\n",
       "      <td>NaN</td>\n",
       "      <td>22070.0</td>\n",
       "      <td>0.110</td>\n",
       "      <td>0.03</td>\n",
       "    </tr>\n",
       "    <tr>\n",
       "      <th>4</th>\n",
       "      <td>2018</td>\n",
       "      <td>2</td>\n",
       "      <td>ЗАЕС</td>\n",
       "      <td>84.0</td>\n",
       "      <td>0.12</td>\n",
       "      <td>262.0</td>\n",
       "      <td>&lt;0,01</td>\n",
       "      <td>640.0</td>\n",
       "      <td>0.03</td>\n",
       "      <td>453.0</td>\n",
       "      <td>1003.0</td>\n",
       "      <td>4627.0</td>\n",
       "      <td>3432.0</td>\n",
       "      <td>812667.0</td>\n",
       "      <td>0.115</td>\n",
       "      <td>0.91</td>\n",
       "    </tr>\n",
       "  </tbody>\n",
       "</table>\n",
       "</div>"
      ],
      "text/plain": [
       "   year  quarter station    irg  irg_index  iodine_ radionuclides  \\\n",
       "0  2018        1    ЗАЕС   89.0       0.13                  260.0   \n",
       "1  2018        1    РАЕС  105.0       0.16                  147.0   \n",
       "2  2018        1   ЮУАЕС   45.0       0.10                   76.0   \n",
       "3  2018        1    ХАЕС   31.0       0.07                   26.8   \n",
       "4  2018        2    ЗАЕС   84.0       0.12                  262.0   \n",
       "\n",
       "  iodine_ radionuclides_index  stable_radionuclides  \\\n",
       "0                       <0,01                 650.0   \n",
       "1                       <0,01                 269.0   \n",
       "2                       <0,01                 116.0   \n",
       "3                  <0,01                       37.5   \n",
       "4                       <0,01                 640.0   \n",
       "\n",
       "  stable_ radionuclides_index  cs_137_emission  co_60_ emission  cs_137_dump  \\\n",
       "0                        0.03           1980.0           1020.0       4330.0   \n",
       "1                        0.07            587.0            165.0       4800.0   \n",
       "2                        0.02            136.0            373.0        390.0   \n",
       "3             <0,01                       29.4             13.8        380.0   \n",
       "4                        0.03            453.0           1003.0       4627.0   \n",
       "\n",
       "   co_60_dump     volume  index_radioactive_releas index_dump  \n",
       "0      3670.0   833000.0                     0.149       0.33  \n",
       "1       620.0  2220000.0                     0.780      0.096  \n",
       "2       370.0    14600.0                     0.136      0.284  \n",
       "3         NaN    22070.0                     0.110       0.03  \n",
       "4      3432.0   812667.0                     0.115       0.91  "
      ]
     },
     "execution_count": 9,
     "metadata": {},
     "output_type": "execute_result"
    }
   ],
   "source": [
    "dataset_df = sesion.load_dataframe(resource_url=dataset_url)\n",
    "dataset_df.head()"
   ]
  },
  {
   "cell_type": "markdown",
   "metadata": {
    "id": "BOx7R8dvYPQv",
    "jp-MarkdownHeadingCollapsed": true
   },
   "source": [
    "### Format data\n",
    "We will format the quarter and year data as \"DD.MM.YYYY\".  \n",
    "This will be needed for visualization."
   ]
  },
  {
   "cell_type": "code",
   "execution_count": 10,
   "metadata": {
    "colab": {
     "base_uri": "https://localhost:8080/"
    },
    "executionInfo": {
     "elapsed": 255,
     "status": "ok",
     "timestamp": 1725016085533,
     "user": {
      "displayName": "Andi",
      "userId": "10349201529472998137"
     },
     "user_tz": -180
    },
    "id": "dgrI4eHuYPQv",
    "outputId": "a1e61ddd-f252-4cd0-e4c9-3c42044c48ad"
   },
   "outputs": [
    {
     "data": {
      "text/html": [
       "<div>\n",
       "<style scoped>\n",
       "    .dataframe tbody tr th:only-of-type {\n",
       "        vertical-align: middle;\n",
       "    }\n",
       "\n",
       "    .dataframe tbody tr th {\n",
       "        vertical-align: top;\n",
       "    }\n",
       "\n",
       "    .dataframe thead th {\n",
       "        text-align: right;\n",
       "    }\n",
       "</style>\n",
       "<table border=\"1\" class=\"dataframe\">\n",
       "  <thead>\n",
       "    <tr style=\"text-align: right;\">\n",
       "      <th></th>\n",
       "      <th>year</th>\n",
       "      <th>quarter</th>\n",
       "      <th>date</th>\n",
       "    </tr>\n",
       "  </thead>\n",
       "  <tbody>\n",
       "    <tr>\n",
       "      <th>0</th>\n",
       "      <td>2018</td>\n",
       "      <td>1</td>\n",
       "      <td>31.03.2018</td>\n",
       "    </tr>\n",
       "    <tr>\n",
       "      <th>1</th>\n",
       "      <td>2018</td>\n",
       "      <td>1</td>\n",
       "      <td>31.03.2018</td>\n",
       "    </tr>\n",
       "    <tr>\n",
       "      <th>2</th>\n",
       "      <td>2018</td>\n",
       "      <td>1</td>\n",
       "      <td>31.03.2018</td>\n",
       "    </tr>\n",
       "    <tr>\n",
       "      <th>3</th>\n",
       "      <td>2018</td>\n",
       "      <td>1</td>\n",
       "      <td>31.03.2018</td>\n",
       "    </tr>\n",
       "    <tr>\n",
       "      <th>4</th>\n",
       "      <td>2018</td>\n",
       "      <td>2</td>\n",
       "      <td>30.06.2018</td>\n",
       "    </tr>\n",
       "  </tbody>\n",
       "</table>\n",
       "</div>"
      ],
      "text/plain": [
       "   year  quarter        date\n",
       "0  2018        1  31.03.2018\n",
       "1  2018        1  31.03.2018\n",
       "2  2018        1  31.03.2018\n",
       "3  2018        1  31.03.2018\n",
       "4  2018        2  30.06.2018"
      ]
     },
     "execution_count": 10,
     "metadata": {},
     "output_type": "execute_result"
    }
   ],
   "source": [
    "from common.utils import get_date\n",
    "\n",
    "dataset_df[\"date\"] = dataset_df.apply(\n",
    "    lambda row: get_date(year=row[\"year\"], quarter=row[\"quarter\"]), axis=1\n",
    ")\n",
    "dataset_df[[\"year\", \"quarter\", \"date\"]].head()"
   ]
  },
  {
   "cell_type": "markdown",
   "metadata": {
    "jp-MarkdownHeadingCollapsed": true
   },
   "source": [
    "### Stations\n",
    "\n",
    "Let's list all nuclear power plants."
   ]
  },
  {
   "cell_type": "code",
   "execution_count": 11,
   "metadata": {},
   "outputs": [
    {
     "data": {
      "text/plain": [
       "('ЗАЕС', 'РАЕС', 'ЮУАЕС', 'ХАЕС', 'ПАЕС')"
      ]
     },
     "execution_count": 11,
     "metadata": {},
     "output_type": "execute_result"
    }
   ],
   "source": [
    "stations = dataset_df[\"station\"].unique()\n",
    "tuple(stations)"
   ]
  },
  {
   "cell_type": "markdown",
   "metadata": {},
   "source": [
    "In April 2022, Energoatom, by its order, approved the change of the name of the  \n",
    "NPP from “South Ukrainian Nuclear Power Plant” to “South Ukrainian Nuclear Power  \n",
    "Plant”. In accordance with the Resolution of the Cabinet of Ministers No. 1061  \n",
    "of September 27, 2022, the government finally approved the renaming of the NPP  \n",
    "from “South Ukrainian Nuclear Power Plant” to “South Ukrainian” \n",
    "[1](https://epravda.com.ua/news/2022/09/29/692034/).\n",
    "\n",
    "Will make station names more readable."
   ]
  },
  {
   "cell_type": "code",
   "execution_count": 12,
   "metadata": {},
   "outputs": [
    {
     "data": {
      "text/html": [
       "<div>\n",
       "<style scoped>\n",
       "    .dataframe tbody tr th:only-of-type {\n",
       "        vertical-align: middle;\n",
       "    }\n",
       "\n",
       "    .dataframe tbody tr th {\n",
       "        vertical-align: top;\n",
       "    }\n",
       "\n",
       "    .dataframe thead th {\n",
       "        text-align: right;\n",
       "    }\n",
       "</style>\n",
       "<table border=\"1\" class=\"dataframe\">\n",
       "  <thead>\n",
       "    <tr style=\"text-align: right;\">\n",
       "      <th></th>\n",
       "      <th>station</th>\n",
       "      <th>station_en</th>\n",
       "    </tr>\n",
       "  </thead>\n",
       "  <tbody>\n",
       "    <tr>\n",
       "      <th>0</th>\n",
       "      <td>ЗАЕС</td>\n",
       "      <td>Zaporizhzhia NPP</td>\n",
       "    </tr>\n",
       "    <tr>\n",
       "      <th>1</th>\n",
       "      <td>РАЕС</td>\n",
       "      <td>Rivne NPP</td>\n",
       "    </tr>\n",
       "    <tr>\n",
       "      <th>2</th>\n",
       "      <td>ЮУАЕС</td>\n",
       "      <td>South Ukrainian NPP</td>\n",
       "    </tr>\n",
       "    <tr>\n",
       "      <th>3</th>\n",
       "      <td>ХАЕС</td>\n",
       "      <td>Khmelnytskyi NPP</td>\n",
       "    </tr>\n",
       "    <tr>\n",
       "      <th>4</th>\n",
       "      <td>ЗАЕС</td>\n",
       "      <td>Zaporizhzhia NPP</td>\n",
       "    </tr>\n",
       "  </tbody>\n",
       "</table>\n",
       "</div>"
      ],
      "text/plain": [
       "  station           station_en\n",
       "0    ЗАЕС     Zaporizhzhia NPP\n",
       "1    РАЕС            Rivne NPP\n",
       "2   ЮУАЕС  South Ukrainian NPP\n",
       "3    ХАЕС     Khmelnytskyi NPP\n",
       "4    ЗАЕС     Zaporizhzhia NPP"
      ]
     },
     "execution_count": 12,
     "metadata": {},
     "output_type": "execute_result"
    }
   ],
   "source": [
    "station_map = {\n",
    "    \"ЗАЕС\": \"Zaporizhzhia NPP\",\n",
    "    \"РАЕС\": \"Rivne NPP\",\n",
    "    \"ПАЕС\": \"South Ukrainian NPP\",\n",
    "    \"ХАЕС\": \"Khmelnytskyi NPP\",\n",
    "    \"ЮУАЕС\": \"South Ukrainian NPP\",\n",
    "}\n",
    "\n",
    "dataset_df[\"station_en\"] = dataset_df[\"station\"].map(station_map)\n",
    "dataset_df[[\"station\", \"station_en\"]].head()"
   ]
  },
  {
   "cell_type": "markdown",
   "metadata": {},
   "source": [
    "As you can see in the result, the replacement was successful."
   ]
  },
  {
   "cell_type": "markdown",
   "metadata": {},
   "source": [
    "## Dataset visualization \n",
    "\n",
    "Now, we will makes a simple resauch for see a \"Index radioactive releas\" its the  \n",
    "number, % (in thousands) total radioactive emissions into the atmosphere for all  \n",
    "stations.  \n",
    "\n",
    "It's will give us a general understanding situation with emissions into in  \n",
    "atmosphere."
   ]
  },
  {
   "cell_type": "code",
   "execution_count": 13,
   "metadata": {},
   "outputs": [
    {
     "data": {
      "application/vnd.plotly.v1+json": {
       "config": {
        "plotlyServerURL": "https://plot.ly"
       },
       "data": [
        {
         "name": "Khmelnytskyi NPP",
         "type": "scatter",
         "visible": true,
         "x": [
          "31.03.2018",
          "30.06.2018",
          "30.09.2018",
          "31.12.2018",
          "31.03.2019",
          "30.06.2019",
          "30.09.2019",
          "31.12.2019",
          "31.03.2020",
          "30.06.2020",
          "30.09.2020",
          "31.12.2020",
          "31.03.2021",
          "30.06.2021",
          "30.09.2021",
          "31.12.2021",
          "31.03.2022",
          "30.06.2022",
          "30.09.2022",
          "31.12.2022",
          "31.03.2023",
          "30.06.2023",
          "30.09.2023",
          "31.12.2023",
          "31.03.2024",
          "30.06.2024",
          "30.09.2024",
          "31.12.2024",
          "31.03.2025"
         ],
         "y": {
          "bdata": "KVyPwvUovD9xPQrXo3DNPylcj8L1KLw/pHA9CtejwD+kcD0K16PAP7gehetRuL4/MzMzMzMzwz+4HoXrUbi+P7gehetRuL4/w/UoXI/CxT+kcD0K16PAP6RwPQrXo8A/pHA9CtejwD8K16NwPQrHP8P1KFyPwsU/7FG4HoXrwT8pXI/C9Si8P3sUrkfhesQ/uB6F61G4vj/sUbgeheuxP+xRuB6F67E/UrgehetR4D+amZmZmZnhP9ejcD0K19M/KVyPwvUo3D+kcD0K16PgPzMzMzMzM+s/CtejcD0K1z8pXI/C9SjkPw==",
          "dtype": "f8"
         }
        },
        {
         "name": "Rivne NPP",
         "type": "scatter",
         "visible": true,
         "x": [
          "31.03.2018",
          "30.06.2018",
          "30.09.2018",
          "31.12.2018",
          "31.03.2019",
          "30.06.2019",
          "30.09.2019",
          "31.12.2019",
          "31.03.2020",
          "30.06.2020",
          "30.09.2020",
          "31.12.2020",
          "31.03.2021",
          "30.06.2021",
          "30.09.2021",
          "31.12.2021",
          "31.03.2022",
          "30.06.2022",
          "30.09.2022",
          "31.12.2022",
          "31.03.2023",
          "30.06.2023",
          "30.09.2023",
          "31.12.2023",
          "31.03.2024",
          "30.06.2024",
          "30.09.2024",
          "31.12.2024",
          "31.03.2025"
         ],
         "y": {
          "bdata": "9ihcj8L16D9xPQrXo3DtP2ZmZmZmZuY/H4XrUbge5T+amZmZmZnpPx+F61G4Hu0/ZmZmZmZm5j+kcD0K16PoP65H4XoUru8/w/UoXI/C7T+PwvUoXI/qP3sUrkfheuQ/9ihcj8L16D8fhetRuB7lP7gehetRuN4/FK5H4XoU3j+amZmZmZnhPylcj8L1KOQ/4XoUrkfh4j+4HoXrUbjmPzMzMzMzM+M/CtejcD0K5z8zMzMzMzPjPylcj8L1KOQ/cT0K16Nw3T/hehSuR+HiPz0K16NwPdo/4XoUrkfh2j8K16NwPQrXPw==",
          "dtype": "f8"
         }
        },
        {
         "name": "South Ukrainian NPP",
         "type": "scatter",
         "visible": true,
         "x": [
          "31.03.2018",
          "30.06.2018",
          "30.09.2018",
          "31.12.2018",
          "31.03.2019",
          "30.06.2019",
          "30.09.2019",
          "31.12.2019",
          "31.03.2020",
          "30.06.2020",
          "30.09.2020",
          "31.12.2020",
          "31.03.2021",
          "30.06.2021",
          "30.09.2021",
          "31.12.2021",
          "31.03.2022",
          "30.06.2022",
          "30.09.2022",
          "31.12.2022",
          "31.03.2023",
          "30.06.2023",
          "30.09.2023",
          "31.12.2023",
          "31.03.2024",
          "30.06.2024",
          "30.09.2024",
          "31.12.2024",
          "31.03.2025"
         ],
         "y": {
          "bdata": "nMQgsHJowT9SuB6F61HIPwAAAAAAANA/CtejcD0Kxz/8qfHSTWLYP5qZmZmZmck/lkOLbOf7yT+gGi/dJAbBP7gehetRuM4/3SQGgZVDyz/+1HjpJjHIP166SQwCK8c/1XjpJjEIzD+amZmZmZnJP4XrUbgeBRJAzczMzMzMDEDNzMzMzMwOQFK4HoXrUQhA16NwPQrXB0BxPQrXo3ANQAAAAAAAAA5AuB6F61G4EkBI4XoUrkcRQKAaL90kBgxAJQaBlUOLDUCR7Xw/Nd4TQLTIdr6fmhNABFYOLbIdEkCkcD0K16MLQA==",
          "dtype": "f8"
         }
        },
        {
         "name": "Zaporizhzhia NPP",
         "type": "scatter",
         "visible": true,
         "x": [
          "31.03.2018",
          "30.06.2018",
          "30.09.2018",
          "31.12.2018",
          "31.03.2019",
          "30.06.2019",
          "30.09.2019",
          "31.12.2019",
          "31.03.2020",
          "30.06.2020",
          "30.09.2020",
          "31.12.2020",
          "31.03.2021",
          "30.06.2021",
          "30.09.2021",
          "31.12.2021",
          "31.03.2022",
          "30.06.2022",
          "30.09.2022",
          "31.12.2022",
          "31.03.2023",
          "30.06.2023",
          "30.09.2023",
          "31.12.2023",
          "31.03.2024",
          "30.06.2024",
          "30.09.2024",
          "31.12.2024",
          "31.03.2025"
         ],
         "y": {
          "bdata": "30+Nl24Swz9xPQrXo3C9P9ejcD0K1+s/FK5H4XoU7j+PwvUoXI/qPwrXo3A9Cuc/cT0K16Nw7T+uR+F6FK7vPwAAAAAAAOg/rkfhehSu7z9I4XoUrkfxP2ZmZmZmZu4/4XoUrkfh6j8AAAAAAADoP1K4HoXrUeg/j8L1KFyP6j8UrkfhehTuPx+F61G4HvE/4XoUrkfh6j8AAAAAAAD4fwAAAAAAAPh/AAAAAAAA+H8AAAAAAAD4fwAAAAAAAPh/AAAAAAAA+H8AAAAAAAD4fwAAAAAAAPh/AAAAAAAA+H8AAAAAAAD4fw==",
          "dtype": "f8"
         }
        }
       ],
       "layout": {
        "height": 600,
        "legend": {
         "bgcolor": "rgba(0,0,0,0)",
         "borderwidth": 1,
         "font": {
          "color": "white",
          "size": 12
         },
         "itemwidth": 40,
         "orientation": "v",
         "title": {
          "text": "Station"
         },
         "x": 1.02,
         "xanchor": "left",
         "y": 1,
         "yanchor": "top"
        },
        "margin": {
         "r": 150
        },
        "template": {
         "data": {
          "bar": [
           {
            "error_x": {
             "color": "#f2f5fa"
            },
            "error_y": {
             "color": "#f2f5fa"
            },
            "marker": {
             "line": {
              "color": "rgb(17,17,17)",
              "width": 0.5
             },
             "pattern": {
              "fillmode": "overlay",
              "size": 10,
              "solidity": 0.2
             }
            },
            "type": "bar"
           }
          ],
          "barpolar": [
           {
            "marker": {
             "line": {
              "color": "rgb(17,17,17)",
              "width": 0.5
             },
             "pattern": {
              "fillmode": "overlay",
              "size": 10,
              "solidity": 0.2
             }
            },
            "type": "barpolar"
           }
          ],
          "carpet": [
           {
            "aaxis": {
             "endlinecolor": "#A2B1C6",
             "gridcolor": "#506784",
             "linecolor": "#506784",
             "minorgridcolor": "#506784",
             "startlinecolor": "#A2B1C6"
            },
            "baxis": {
             "endlinecolor": "#A2B1C6",
             "gridcolor": "#506784",
             "linecolor": "#506784",
             "minorgridcolor": "#506784",
             "startlinecolor": "#A2B1C6"
            },
            "type": "carpet"
           }
          ],
          "choropleth": [
           {
            "colorbar": {
             "outlinewidth": 0,
             "ticks": ""
            },
            "type": "choropleth"
           }
          ],
          "contour": [
           {
            "colorbar": {
             "outlinewidth": 0,
             "ticks": ""
            },
            "colorscale": [
             [
              0,
              "#0d0887"
             ],
             [
              0.1111111111111111,
              "#46039f"
             ],
             [
              0.2222222222222222,
              "#7201a8"
             ],
             [
              0.3333333333333333,
              "#9c179e"
             ],
             [
              0.4444444444444444,
              "#bd3786"
             ],
             [
              0.5555555555555556,
              "#d8576b"
             ],
             [
              0.6666666666666666,
              "#ed7953"
             ],
             [
              0.7777777777777778,
              "#fb9f3a"
             ],
             [
              0.8888888888888888,
              "#fdca26"
             ],
             [
              1,
              "#f0f921"
             ]
            ],
            "type": "contour"
           }
          ],
          "contourcarpet": [
           {
            "colorbar": {
             "outlinewidth": 0,
             "ticks": ""
            },
            "type": "contourcarpet"
           }
          ],
          "heatmap": [
           {
            "colorbar": {
             "outlinewidth": 0,
             "ticks": ""
            },
            "colorscale": [
             [
              0,
              "#0d0887"
             ],
             [
              0.1111111111111111,
              "#46039f"
             ],
             [
              0.2222222222222222,
              "#7201a8"
             ],
             [
              0.3333333333333333,
              "#9c179e"
             ],
             [
              0.4444444444444444,
              "#bd3786"
             ],
             [
              0.5555555555555556,
              "#d8576b"
             ],
             [
              0.6666666666666666,
              "#ed7953"
             ],
             [
              0.7777777777777778,
              "#fb9f3a"
             ],
             [
              0.8888888888888888,
              "#fdca26"
             ],
             [
              1,
              "#f0f921"
             ]
            ],
            "type": "heatmap"
           }
          ],
          "histogram": [
           {
            "marker": {
             "pattern": {
              "fillmode": "overlay",
              "size": 10,
              "solidity": 0.2
             }
            },
            "type": "histogram"
           }
          ],
          "histogram2d": [
           {
            "colorbar": {
             "outlinewidth": 0,
             "ticks": ""
            },
            "colorscale": [
             [
              0,
              "#0d0887"
             ],
             [
              0.1111111111111111,
              "#46039f"
             ],
             [
              0.2222222222222222,
              "#7201a8"
             ],
             [
              0.3333333333333333,
              "#9c179e"
             ],
             [
              0.4444444444444444,
              "#bd3786"
             ],
             [
              0.5555555555555556,
              "#d8576b"
             ],
             [
              0.6666666666666666,
              "#ed7953"
             ],
             [
              0.7777777777777778,
              "#fb9f3a"
             ],
             [
              0.8888888888888888,
              "#fdca26"
             ],
             [
              1,
              "#f0f921"
             ]
            ],
            "type": "histogram2d"
           }
          ],
          "histogram2dcontour": [
           {
            "colorbar": {
             "outlinewidth": 0,
             "ticks": ""
            },
            "colorscale": [
             [
              0,
              "#0d0887"
             ],
             [
              0.1111111111111111,
              "#46039f"
             ],
             [
              0.2222222222222222,
              "#7201a8"
             ],
             [
              0.3333333333333333,
              "#9c179e"
             ],
             [
              0.4444444444444444,
              "#bd3786"
             ],
             [
              0.5555555555555556,
              "#d8576b"
             ],
             [
              0.6666666666666666,
              "#ed7953"
             ],
             [
              0.7777777777777778,
              "#fb9f3a"
             ],
             [
              0.8888888888888888,
              "#fdca26"
             ],
             [
              1,
              "#f0f921"
             ]
            ],
            "type": "histogram2dcontour"
           }
          ],
          "mesh3d": [
           {
            "colorbar": {
             "outlinewidth": 0,
             "ticks": ""
            },
            "type": "mesh3d"
           }
          ],
          "parcoords": [
           {
            "line": {
             "colorbar": {
              "outlinewidth": 0,
              "ticks": ""
             }
            },
            "type": "parcoords"
           }
          ],
          "pie": [
           {
            "automargin": true,
            "type": "pie"
           }
          ],
          "scatter": [
           {
            "marker": {
             "line": {
              "color": "#283442"
             }
            },
            "type": "scatter"
           }
          ],
          "scatter3d": [
           {
            "line": {
             "colorbar": {
              "outlinewidth": 0,
              "ticks": ""
             }
            },
            "marker": {
             "colorbar": {
              "outlinewidth": 0,
              "ticks": ""
             }
            },
            "type": "scatter3d"
           }
          ],
          "scattercarpet": [
           {
            "marker": {
             "colorbar": {
              "outlinewidth": 0,
              "ticks": ""
             }
            },
            "type": "scattercarpet"
           }
          ],
          "scattergeo": [
           {
            "marker": {
             "colorbar": {
              "outlinewidth": 0,
              "ticks": ""
             }
            },
            "type": "scattergeo"
           }
          ],
          "scattergl": [
           {
            "marker": {
             "line": {
              "color": "#283442"
             }
            },
            "type": "scattergl"
           }
          ],
          "scattermap": [
           {
            "marker": {
             "colorbar": {
              "outlinewidth": 0,
              "ticks": ""
             }
            },
            "type": "scattermap"
           }
          ],
          "scattermapbox": [
           {
            "marker": {
             "colorbar": {
              "outlinewidth": 0,
              "ticks": ""
             }
            },
            "type": "scattermapbox"
           }
          ],
          "scatterpolar": [
           {
            "marker": {
             "colorbar": {
              "outlinewidth": 0,
              "ticks": ""
             }
            },
            "type": "scatterpolar"
           }
          ],
          "scatterpolargl": [
           {
            "marker": {
             "colorbar": {
              "outlinewidth": 0,
              "ticks": ""
             }
            },
            "type": "scatterpolargl"
           }
          ],
          "scatterternary": [
           {
            "marker": {
             "colorbar": {
              "outlinewidth": 0,
              "ticks": ""
             }
            },
            "type": "scatterternary"
           }
          ],
          "surface": [
           {
            "colorbar": {
             "outlinewidth": 0,
             "ticks": ""
            },
            "colorscale": [
             [
              0,
              "#0d0887"
             ],
             [
              0.1111111111111111,
              "#46039f"
             ],
             [
              0.2222222222222222,
              "#7201a8"
             ],
             [
              0.3333333333333333,
              "#9c179e"
             ],
             [
              0.4444444444444444,
              "#bd3786"
             ],
             [
              0.5555555555555556,
              "#d8576b"
             ],
             [
              0.6666666666666666,
              "#ed7953"
             ],
             [
              0.7777777777777778,
              "#fb9f3a"
             ],
             [
              0.8888888888888888,
              "#fdca26"
             ],
             [
              1,
              "#f0f921"
             ]
            ],
            "type": "surface"
           }
          ],
          "table": [
           {
            "cells": {
             "fill": {
              "color": "#506784"
             },
             "line": {
              "color": "rgb(17,17,17)"
             }
            },
            "header": {
             "fill": {
              "color": "#2a3f5f"
             },
             "line": {
              "color": "rgb(17,17,17)"
             }
            },
            "type": "table"
           }
          ]
         },
         "layout": {
          "annotationdefaults": {
           "arrowcolor": "#f2f5fa",
           "arrowhead": 0,
           "arrowwidth": 1
          },
          "autotypenumbers": "strict",
          "coloraxis": {
           "colorbar": {
            "outlinewidth": 0,
            "ticks": ""
           }
          },
          "colorscale": {
           "diverging": [
            [
             0,
             "#8e0152"
            ],
            [
             0.1,
             "#c51b7d"
            ],
            [
             0.2,
             "#de77ae"
            ],
            [
             0.3,
             "#f1b6da"
            ],
            [
             0.4,
             "#fde0ef"
            ],
            [
             0.5,
             "#f7f7f7"
            ],
            [
             0.6,
             "#e6f5d0"
            ],
            [
             0.7,
             "#b8e186"
            ],
            [
             0.8,
             "#7fbc41"
            ],
            [
             0.9,
             "#4d9221"
            ],
            [
             1,
             "#276419"
            ]
           ],
           "sequential": [
            [
             0,
             "#0d0887"
            ],
            [
             0.1111111111111111,
             "#46039f"
            ],
            [
             0.2222222222222222,
             "#7201a8"
            ],
            [
             0.3333333333333333,
             "#9c179e"
            ],
            [
             0.4444444444444444,
             "#bd3786"
            ],
            [
             0.5555555555555556,
             "#d8576b"
            ],
            [
             0.6666666666666666,
             "#ed7953"
            ],
            [
             0.7777777777777778,
             "#fb9f3a"
            ],
            [
             0.8888888888888888,
             "#fdca26"
            ],
            [
             1,
             "#f0f921"
            ]
           ],
           "sequentialminus": [
            [
             0,
             "#0d0887"
            ],
            [
             0.1111111111111111,
             "#46039f"
            ],
            [
             0.2222222222222222,
             "#7201a8"
            ],
            [
             0.3333333333333333,
             "#9c179e"
            ],
            [
             0.4444444444444444,
             "#bd3786"
            ],
            [
             0.5555555555555556,
             "#d8576b"
            ],
            [
             0.6666666666666666,
             "#ed7953"
            ],
            [
             0.7777777777777778,
             "#fb9f3a"
            ],
            [
             0.8888888888888888,
             "#fdca26"
            ],
            [
             1,
             "#f0f921"
            ]
           ]
          },
          "colorway": [
           "#636efa",
           "#EF553B",
           "#00cc96",
           "#ab63fa",
           "#FFA15A",
           "#19d3f3",
           "#FF6692",
           "#B6E880",
           "#FF97FF",
           "#FECB52"
          ],
          "font": {
           "color": "#f2f5fa"
          },
          "geo": {
           "bgcolor": "rgb(17,17,17)",
           "lakecolor": "rgb(17,17,17)",
           "landcolor": "rgb(17,17,17)",
           "showlakes": true,
           "showland": true,
           "subunitcolor": "#506784"
          },
          "hoverlabel": {
           "align": "left"
          },
          "hovermode": "closest",
          "mapbox": {
           "style": "dark"
          },
          "paper_bgcolor": "rgb(17,17,17)",
          "plot_bgcolor": "rgb(17,17,17)",
          "polar": {
           "angularaxis": {
            "gridcolor": "#506784",
            "linecolor": "#506784",
            "ticks": ""
           },
           "bgcolor": "rgb(17,17,17)",
           "radialaxis": {
            "gridcolor": "#506784",
            "linecolor": "#506784",
            "ticks": ""
           }
          },
          "scene": {
           "xaxis": {
            "backgroundcolor": "rgb(17,17,17)",
            "gridcolor": "#506784",
            "gridwidth": 2,
            "linecolor": "#506784",
            "showbackground": true,
            "ticks": "",
            "zerolinecolor": "#C8D4E3"
           },
           "yaxis": {
            "backgroundcolor": "rgb(17,17,17)",
            "gridcolor": "#506784",
            "gridwidth": 2,
            "linecolor": "#506784",
            "showbackground": true,
            "ticks": "",
            "zerolinecolor": "#C8D4E3"
           },
           "zaxis": {
            "backgroundcolor": "rgb(17,17,17)",
            "gridcolor": "#506784",
            "gridwidth": 2,
            "linecolor": "#506784",
            "showbackground": true,
            "ticks": "",
            "zerolinecolor": "#C8D4E3"
           }
          },
          "shapedefaults": {
           "line": {
            "color": "#f2f5fa"
           }
          },
          "sliderdefaults": {
           "bgcolor": "#C8D4E3",
           "bordercolor": "rgb(17,17,17)",
           "borderwidth": 1,
           "tickwidth": 0
          },
          "ternary": {
           "aaxis": {
            "gridcolor": "#506784",
            "linecolor": "#506784",
            "ticks": ""
           },
           "baxis": {
            "gridcolor": "#506784",
            "linecolor": "#506784",
            "ticks": ""
           },
           "bgcolor": "rgb(17,17,17)",
           "caxis": {
            "gridcolor": "#506784",
            "linecolor": "#506784",
            "ticks": ""
           }
          },
          "title": {
           "x": 0.05
          },
          "updatemenudefaults": {
           "bgcolor": "#506784",
           "borderwidth": 0
          },
          "xaxis": {
           "automargin": true,
           "gridcolor": "#283442",
           "linecolor": "#506784",
           "ticks": "",
           "title": {
            "standoff": 15
           },
           "zerolinecolor": "#283442",
           "zerolinewidth": 2
          },
          "yaxis": {
           "automargin": true,
           "gridcolor": "#283442",
           "linecolor": "#506784",
           "ticks": "",
           "title": {
            "standoff": 15
           },
           "zerolinecolor": "#283442",
           "zerolinewidth": 2
          }
         }
        },
        "title": {
         "text": "Radioactive Release — Zaporizhzhia NPP"
        },
        "updatemenus": [
         {
          "active": 0,
          "buttons": [
           {
            "args": [
             {
              "visible": [
               true,
               true,
               true,
               true
              ]
             },
             {
              "title": "Radioactive Release — All Station"
             }
            ],
            "label": "All",
            "method": "update"
           },
           {
            "args": [
             {
              "visible": [
               true,
               false,
               false,
               false
              ]
             },
             {
              "title": "Radioactive Release — Khmelnytskyi NPP"
             }
            ],
            "label": "Khmelnytskyi NPP",
            "method": "update"
           },
           {
            "args": [
             {
              "visible": [
               false,
               true,
               false,
               false
              ]
             },
             {
              "title": "Radioactive Release — Rivne NPP"
             }
            ],
            "label": "Rivne NPP",
            "method": "update"
           },
           {
            "args": [
             {
              "visible": [
               false,
               false,
               true,
               false
              ]
             },
             {
              "title": "Radioactive Release — South Ukrainian NPP"
             }
            ],
            "label": "South Ukrainian NPP",
            "method": "update"
           },
           {
            "args": [
             {
              "visible": [
               false,
               false,
               false,
               true
              ]
             },
             {
              "title": "Radioactive Release — Zaporizhzhia NPP"
             }
            ],
            "label": "Zaporizhzhia NPP",
            "method": "update"
           }
          ],
          "type": "dropdown",
          "x": 1,
          "xanchor": "right",
          "y": 1.2
         }
        ],
        "width": 800,
        "xaxis": {
         "domain": [
          0,
          0.94
         ],
         "showgrid": true,
         "showline": true,
         "tickangle": -45,
         "title": {
          "text": "Date"
         }
        },
        "yaxis": {
         "range": [
          0,
          5.967
         ],
         "title": {
          "text": "Release Index"
         }
        }
       }
      }
     },
     "metadata": {},
     "output_type": "display_data"
    }
   ],
   "source": [
    "import plotly.graph_objects as go\n",
    "\n",
    "stations_en_list = sorted(set(station_map.values()))\n",
    "index_radioactive_max = dataset_df[\"index_radioactive_releas\"].max()\n",
    "\n",
    "fig = go.Figure()\n",
    "\n",
    "# Create a separate graph with data for each station.\n",
    "traces = []\n",
    "for _, station in enumerate(stations_en_list):\n",
    "    df_station = dataset_df[dataset_df[\"station_en\"] == station]\n",
    "\n",
    "    trace = go.Scatter(\n",
    "        x=df_station[\"date\"],\n",
    "        y=df_station[\"index_radioactive_releas\"],\n",
    "        name=station,\n",
    "        visible=True,\n",
    "    )\n",
    "    traces.append(trace)\n",
    "    fig.add_trace(trace)\n",
    "\n",
    "# Customize buttons for selecting stations.\n",
    "buttons = []\n",
    "\n",
    "# Button for selecting all stations.\n",
    "buttons.append(\n",
    "    dict(\n",
    "        label=\"All\",\n",
    "        method=\"update\",\n",
    "        args=[\n",
    "            {\"visible\": [True] * len(traces)},\n",
    "            {\"title\": \"Radioactive Release — All Station\"},\n",
    "        ],\n",
    "    )\n",
    ")\n",
    "\n",
    "# Buttons for selecting separately station.\n",
    "for i, station in enumerate(stations_en_list):\n",
    "    visibility = [False] * len(traces)\n",
    "    visibility[i] = True\n",
    "    buttons.append(\n",
    "        dict(\n",
    "            label=station,\n",
    "            method=\"update\",\n",
    "            args=[\n",
    "                {\"visible\": visibility},\n",
    "                {\"title\": f\"Radioactive Release — {station}\"},\n",
    "            ],\n",
    "        )\n",
    "    )\n",
    "\n",
    "# Add a menu.\n",
    "fig.update_layout(\n",
    "    updatemenus=[\n",
    "        dict(\n",
    "            type=\"dropdown\",\n",
    "            active=0,\n",
    "            buttons=buttons,\n",
    "            xanchor=\"right\",\n",
    "            x=1,\n",
    "            y=1.2,\n",
    "        )\n",
    "    ],\n",
    "    title=f\"Radioactive Release — {station}\",\n",
    "    xaxis_title=\"Date\",\n",
    "    xaxis=dict(tickangle=-45, showgrid=True, showline=True, domain=[0, 0.94]),\n",
    "    yaxis_title=\"Release Index\",\n",
    "    yaxis=dict(range=[0, index_radioactive_max + 1]),\n",
    "    template=\"plotly_dark\",\n",
    "    width=800,\n",
    "    height=600,\n",
    "    legend=dict(\n",
    "        title=\"Station\",\n",
    "        orientation=\"v\",\n",
    "        x=1.02,\n",
    "        y=1,\n",
    "        xanchor=\"left\",\n",
    "        yanchor=\"top\",\n",
    "        bgcolor=\"rgba(0,0,0,0)\",\n",
    "        borderwidth=1,\n",
    "        font=dict(\n",
    "            size=12,\n",
    "            color=\"white\",\n",
    "        ),\n",
    "        itemwidth=40,\n",
    "    ),\n",
    "    margin=dict(r=150),\n",
    ")\n",
    "\n",
    "fig.show()"
   ]
  },
  {
   "cell_type": "markdown",
   "metadata": {},
   "source": [
    "On South Ukrainian NPP graph we can see anomaly in total radioactive emissions  \n",
    "into the atmosphere. So, in this set is a interesting data, that needed to deep  \n",
    "visualizations and resauches.\n",
    "\n",
    "In a next step get a total graph for all stations and most interesting metrics,  \n",
    "for this set, in one place.\n",
    "\n"
   ]
  },
  {
   "cell_type": "code",
   "execution_count": 14,
   "metadata": {},
   "outputs": [
    {
     "data": {
      "application/vnd.plotly.v1+json": {
       "config": {
        "plotlyServerURL": "https://plot.ly"
       },
       "data": [
        {
         "name": "Khmelnytskyi NPP",
         "type": "scatter",
         "visible": true,
         "x": [
          "31.03.2018",
          "30.06.2018",
          "30.09.2018",
          "31.12.2018",
          "31.03.2019",
          "30.06.2019",
          "30.09.2019",
          "31.12.2019",
          "31.03.2020",
          "30.06.2020",
          "30.09.2020",
          "31.12.2020",
          "31.03.2021",
          "30.06.2021",
          "30.09.2021",
          "31.12.2021",
          "31.03.2022",
          "30.06.2022",
          "30.09.2022",
          "31.12.2022",
          "31.03.2023",
          "30.06.2023",
          "30.09.2023",
          "31.12.2023",
          "31.03.2024",
          "30.06.2024",
          "30.09.2024",
          "31.12.2024",
          "31.03.2025"
         ],
         "y": [
          0.11,
          0.23,
          0.11,
          0.13,
          0.13,
          0.12,
          0.15,
          0.12,
          0.12,
          0.17,
          0.13,
          0.13,
          0.13,
          0.18,
          0.17,
          0.14,
          0.11,
          0.16,
          0.12,
          0.07,
          0.07,
          0.51,
          0.55,
          0.31,
          0.44,
          0.52,
          0.85,
          0.36,
          0.63
         ]
        },
        {
         "name": "Rivne NPP",
         "type": "scatter",
         "visible": true,
         "x": [
          "31.03.2018",
          "30.06.2018",
          "30.09.2018",
          "31.12.2018",
          "31.03.2019",
          "30.06.2019",
          "30.09.2019",
          "31.12.2019",
          "31.03.2020",
          "30.06.2020",
          "30.09.2020",
          "31.12.2020",
          "31.03.2021",
          "30.06.2021",
          "30.09.2021",
          "31.12.2021",
          "31.03.2022",
          "30.06.2022",
          "30.09.2022",
          "31.12.2022",
          "31.03.2023",
          "30.06.2023",
          "30.09.2023",
          "31.12.2023",
          "31.03.2024",
          "30.06.2024",
          "30.09.2024",
          "31.12.2024",
          "31.03.2025"
         ],
         "y": [
          0.78,
          0.92,
          0.7,
          0.66,
          0.8,
          0.91,
          0.7,
          0.77,
          0.99,
          0.93,
          0.83,
          0.64,
          0.78,
          0.66,
          0.48,
          0.47,
          0.55,
          0.63,
          0.59,
          0.71,
          0.6,
          0.72,
          0.6,
          0.63,
          0.46,
          0.59,
          0.41,
          0.42,
          0.36
         ]
        },
        {
         "name": "South Ukrainian NPP",
         "type": "scatter",
         "visible": true,
         "x": [
          "31.03.2018",
          "30.06.2018",
          "30.09.2018",
          "31.12.2018",
          "31.03.2019",
          "30.06.2019",
          "30.09.2019",
          "31.12.2019",
          "31.03.2020",
          "30.06.2020",
          "30.09.2020",
          "31.12.2020",
          "31.03.2021",
          "30.06.2021",
          "30.09.2021",
          "31.12.2021",
          "31.03.2022",
          "30.06.2022",
          "30.09.2022",
          "31.12.2022",
          "31.03.2023",
          "30.06.2023",
          "30.09.2023",
          "31.12.2023",
          "31.03.2024",
          "30.06.2024",
          "30.09.2024",
          "31.12.2024",
          "31.03.2025"
         ],
         "y": [
          0.136,
          0.19,
          0.25,
          0.18,
          0.381,
          0.2,
          0.203,
          0.133,
          0.24,
          0.213,
          0.189,
          0.181,
          0.219,
          0.2,
          4.505,
          3.6,
          3.85,
          3.04,
          2.98,
          3.68,
          3.75,
          4.68,
          4.32,
          3.503,
          3.693,
          4.967,
          4.901,
          4.529,
          3.455
         ]
        },
        {
         "name": "Zaporizhzhia NPP",
         "type": "scatter",
         "visible": true,
         "x": [
          "31.03.2018",
          "30.06.2018",
          "30.09.2018",
          "31.12.2018",
          "31.03.2019",
          "30.06.2019",
          "30.09.2019",
          "31.12.2019",
          "31.03.2020",
          "30.06.2020",
          "30.09.2020",
          "31.12.2020",
          "31.03.2021",
          "30.06.2021",
          "30.09.2021",
          "31.12.2021",
          "31.03.2022",
          "30.06.2022",
          "30.09.2022",
          "31.12.2022",
          "31.03.2023",
          "30.06.2023",
          "30.09.2023",
          "31.12.2023",
          "31.03.2024",
          "30.06.2024",
          "30.09.2024",
          "31.12.2024",
          "31.03.2025"
         ],
         "y": [
          0.149,
          0.115,
          0.87,
          0.94,
          0.83,
          0.72,
          0.92,
          0.99,
          0.75,
          0.99,
          1.08,
          0.95,
          0.84,
          0.75,
          0.76,
          0.83,
          0.94,
          1.07,
          0.84,
          null,
          null,
          null,
          null,
          null,
          null,
          null,
          null,
          null,
          null
         ]
        }
       ],
       "layout": {
        "annotations": [
         {
          "align": "left",
          "font": {
           "size": 12
          },
          "showarrow": false,
          "text": "Number, % The total index of<br>dumping radioactive substances<br>(increasing since the beginning of<br>the year)",
          "x": 1.05,
          "xanchor": "left",
          "xref": "paper",
          "y": 0.4,
          "yanchor": "middle",
          "yref": "paper"
         }
        ],
        "height": 600,
        "legend": {
         "borderwidth": 1,
         "font": {
          "color": "white",
          "size": 12
         },
         "orientation": "v",
         "x": 1.05,
         "xanchor": "left",
         "y": 0.75
        },
        "margin": {
         "r": 150
        },
        "template": {
         "data": {
          "bar": [
           {
            "error_x": {
             "color": "#f2f5fa"
            },
            "error_y": {
             "color": "#f2f5fa"
            },
            "marker": {
             "line": {
              "color": "rgb(17,17,17)",
              "width": 0.5
             },
             "pattern": {
              "fillmode": "overlay",
              "size": 10,
              "solidity": 0.2
             }
            },
            "type": "bar"
           }
          ],
          "barpolar": [
           {
            "marker": {
             "line": {
              "color": "rgb(17,17,17)",
              "width": 0.5
             },
             "pattern": {
              "fillmode": "overlay",
              "size": 10,
              "solidity": 0.2
             }
            },
            "type": "barpolar"
           }
          ],
          "carpet": [
           {
            "aaxis": {
             "endlinecolor": "#A2B1C6",
             "gridcolor": "#506784",
             "linecolor": "#506784",
             "minorgridcolor": "#506784",
             "startlinecolor": "#A2B1C6"
            },
            "baxis": {
             "endlinecolor": "#A2B1C6",
             "gridcolor": "#506784",
             "linecolor": "#506784",
             "minorgridcolor": "#506784",
             "startlinecolor": "#A2B1C6"
            },
            "type": "carpet"
           }
          ],
          "choropleth": [
           {
            "colorbar": {
             "outlinewidth": 0,
             "ticks": ""
            },
            "type": "choropleth"
           }
          ],
          "contour": [
           {
            "colorbar": {
             "outlinewidth": 0,
             "ticks": ""
            },
            "colorscale": [
             [
              0,
              "#0d0887"
             ],
             [
              0.1111111111111111,
              "#46039f"
             ],
             [
              0.2222222222222222,
              "#7201a8"
             ],
             [
              0.3333333333333333,
              "#9c179e"
             ],
             [
              0.4444444444444444,
              "#bd3786"
             ],
             [
              0.5555555555555556,
              "#d8576b"
             ],
             [
              0.6666666666666666,
              "#ed7953"
             ],
             [
              0.7777777777777778,
              "#fb9f3a"
             ],
             [
              0.8888888888888888,
              "#fdca26"
             ],
             [
              1,
              "#f0f921"
             ]
            ],
            "type": "contour"
           }
          ],
          "contourcarpet": [
           {
            "colorbar": {
             "outlinewidth": 0,
             "ticks": ""
            },
            "type": "contourcarpet"
           }
          ],
          "heatmap": [
           {
            "colorbar": {
             "outlinewidth": 0,
             "ticks": ""
            },
            "colorscale": [
             [
              0,
              "#0d0887"
             ],
             [
              0.1111111111111111,
              "#46039f"
             ],
             [
              0.2222222222222222,
              "#7201a8"
             ],
             [
              0.3333333333333333,
              "#9c179e"
             ],
             [
              0.4444444444444444,
              "#bd3786"
             ],
             [
              0.5555555555555556,
              "#d8576b"
             ],
             [
              0.6666666666666666,
              "#ed7953"
             ],
             [
              0.7777777777777778,
              "#fb9f3a"
             ],
             [
              0.8888888888888888,
              "#fdca26"
             ],
             [
              1,
              "#f0f921"
             ]
            ],
            "type": "heatmap"
           }
          ],
          "histogram": [
           {
            "marker": {
             "pattern": {
              "fillmode": "overlay",
              "size": 10,
              "solidity": 0.2
             }
            },
            "type": "histogram"
           }
          ],
          "histogram2d": [
           {
            "colorbar": {
             "outlinewidth": 0,
             "ticks": ""
            },
            "colorscale": [
             [
              0,
              "#0d0887"
             ],
             [
              0.1111111111111111,
              "#46039f"
             ],
             [
              0.2222222222222222,
              "#7201a8"
             ],
             [
              0.3333333333333333,
              "#9c179e"
             ],
             [
              0.4444444444444444,
              "#bd3786"
             ],
             [
              0.5555555555555556,
              "#d8576b"
             ],
             [
              0.6666666666666666,
              "#ed7953"
             ],
             [
              0.7777777777777778,
              "#fb9f3a"
             ],
             [
              0.8888888888888888,
              "#fdca26"
             ],
             [
              1,
              "#f0f921"
             ]
            ],
            "type": "histogram2d"
           }
          ],
          "histogram2dcontour": [
           {
            "colorbar": {
             "outlinewidth": 0,
             "ticks": ""
            },
            "colorscale": [
             [
              0,
              "#0d0887"
             ],
             [
              0.1111111111111111,
              "#46039f"
             ],
             [
              0.2222222222222222,
              "#7201a8"
             ],
             [
              0.3333333333333333,
              "#9c179e"
             ],
             [
              0.4444444444444444,
              "#bd3786"
             ],
             [
              0.5555555555555556,
              "#d8576b"
             ],
             [
              0.6666666666666666,
              "#ed7953"
             ],
             [
              0.7777777777777778,
              "#fb9f3a"
             ],
             [
              0.8888888888888888,
              "#fdca26"
             ],
             [
              1,
              "#f0f921"
             ]
            ],
            "type": "histogram2dcontour"
           }
          ],
          "mesh3d": [
           {
            "colorbar": {
             "outlinewidth": 0,
             "ticks": ""
            },
            "type": "mesh3d"
           }
          ],
          "parcoords": [
           {
            "line": {
             "colorbar": {
              "outlinewidth": 0,
              "ticks": ""
             }
            },
            "type": "parcoords"
           }
          ],
          "pie": [
           {
            "automargin": true,
            "type": "pie"
           }
          ],
          "scatter": [
           {
            "marker": {
             "line": {
              "color": "#283442"
             }
            },
            "type": "scatter"
           }
          ],
          "scatter3d": [
           {
            "line": {
             "colorbar": {
              "outlinewidth": 0,
              "ticks": ""
             }
            },
            "marker": {
             "colorbar": {
              "outlinewidth": 0,
              "ticks": ""
             }
            },
            "type": "scatter3d"
           }
          ],
          "scattercarpet": [
           {
            "marker": {
             "colorbar": {
              "outlinewidth": 0,
              "ticks": ""
             }
            },
            "type": "scattercarpet"
           }
          ],
          "scattergeo": [
           {
            "marker": {
             "colorbar": {
              "outlinewidth": 0,
              "ticks": ""
             }
            },
            "type": "scattergeo"
           }
          ],
          "scattergl": [
           {
            "marker": {
             "line": {
              "color": "#283442"
             }
            },
            "type": "scattergl"
           }
          ],
          "scattermap": [
           {
            "marker": {
             "colorbar": {
              "outlinewidth": 0,
              "ticks": ""
             }
            },
            "type": "scattermap"
           }
          ],
          "scattermapbox": [
           {
            "marker": {
             "colorbar": {
              "outlinewidth": 0,
              "ticks": ""
             }
            },
            "type": "scattermapbox"
           }
          ],
          "scatterpolar": [
           {
            "marker": {
             "colorbar": {
              "outlinewidth": 0,
              "ticks": ""
             }
            },
            "type": "scatterpolar"
           }
          ],
          "scatterpolargl": [
           {
            "marker": {
             "colorbar": {
              "outlinewidth": 0,
              "ticks": ""
             }
            },
            "type": "scatterpolargl"
           }
          ],
          "scatterternary": [
           {
            "marker": {
             "colorbar": {
              "outlinewidth": 0,
              "ticks": ""
             }
            },
            "type": "scatterternary"
           }
          ],
          "surface": [
           {
            "colorbar": {
             "outlinewidth": 0,
             "ticks": ""
            },
            "colorscale": [
             [
              0,
              "#0d0887"
             ],
             [
              0.1111111111111111,
              "#46039f"
             ],
             [
              0.2222222222222222,
              "#7201a8"
             ],
             [
              0.3333333333333333,
              "#9c179e"
             ],
             [
              0.4444444444444444,
              "#bd3786"
             ],
             [
              0.5555555555555556,
              "#d8576b"
             ],
             [
              0.6666666666666666,
              "#ed7953"
             ],
             [
              0.7777777777777778,
              "#fb9f3a"
             ],
             [
              0.8888888888888888,
              "#fdca26"
             ],
             [
              1,
              "#f0f921"
             ]
            ],
            "type": "surface"
           }
          ],
          "table": [
           {
            "cells": {
             "fill": {
              "color": "#506784"
             },
             "line": {
              "color": "rgb(17,17,17)"
             }
            },
            "header": {
             "fill": {
              "color": "#2a3f5f"
             },
             "line": {
              "color": "rgb(17,17,17)"
             }
            },
            "type": "table"
           }
          ]
         },
         "layout": {
          "annotationdefaults": {
           "arrowcolor": "#f2f5fa",
           "arrowhead": 0,
           "arrowwidth": 1
          },
          "autotypenumbers": "strict",
          "coloraxis": {
           "colorbar": {
            "outlinewidth": 0,
            "ticks": ""
           }
          },
          "colorscale": {
           "diverging": [
            [
             0,
             "#8e0152"
            ],
            [
             0.1,
             "#c51b7d"
            ],
            [
             0.2,
             "#de77ae"
            ],
            [
             0.3,
             "#f1b6da"
            ],
            [
             0.4,
             "#fde0ef"
            ],
            [
             0.5,
             "#f7f7f7"
            ],
            [
             0.6,
             "#e6f5d0"
            ],
            [
             0.7,
             "#b8e186"
            ],
            [
             0.8,
             "#7fbc41"
            ],
            [
             0.9,
             "#4d9221"
            ],
            [
             1,
             "#276419"
            ]
           ],
           "sequential": [
            [
             0,
             "#0d0887"
            ],
            [
             0.1111111111111111,
             "#46039f"
            ],
            [
             0.2222222222222222,
             "#7201a8"
            ],
            [
             0.3333333333333333,
             "#9c179e"
            ],
            [
             0.4444444444444444,
             "#bd3786"
            ],
            [
             0.5555555555555556,
             "#d8576b"
            ],
            [
             0.6666666666666666,
             "#ed7953"
            ],
            [
             0.7777777777777778,
             "#fb9f3a"
            ],
            [
             0.8888888888888888,
             "#fdca26"
            ],
            [
             1,
             "#f0f921"
            ]
           ],
           "sequentialminus": [
            [
             0,
             "#0d0887"
            ],
            [
             0.1111111111111111,
             "#46039f"
            ],
            [
             0.2222222222222222,
             "#7201a8"
            ],
            [
             0.3333333333333333,
             "#9c179e"
            ],
            [
             0.4444444444444444,
             "#bd3786"
            ],
            [
             0.5555555555555556,
             "#d8576b"
            ],
            [
             0.6666666666666666,
             "#ed7953"
            ],
            [
             0.7777777777777778,
             "#fb9f3a"
            ],
            [
             0.8888888888888888,
             "#fdca26"
            ],
            [
             1,
             "#f0f921"
            ]
           ]
          },
          "colorway": [
           "#636efa",
           "#EF553B",
           "#00cc96",
           "#ab63fa",
           "#FFA15A",
           "#19d3f3",
           "#FF6692",
           "#B6E880",
           "#FF97FF",
           "#FECB52"
          ],
          "font": {
           "color": "#f2f5fa"
          },
          "geo": {
           "bgcolor": "rgb(17,17,17)",
           "lakecolor": "rgb(17,17,17)",
           "landcolor": "rgb(17,17,17)",
           "showlakes": true,
           "showland": true,
           "subunitcolor": "#506784"
          },
          "hoverlabel": {
           "align": "left"
          },
          "hovermode": "closest",
          "mapbox": {
           "style": "dark"
          },
          "paper_bgcolor": "rgb(17,17,17)",
          "plot_bgcolor": "rgb(17,17,17)",
          "polar": {
           "angularaxis": {
            "gridcolor": "#506784",
            "linecolor": "#506784",
            "ticks": ""
           },
           "bgcolor": "rgb(17,17,17)",
           "radialaxis": {
            "gridcolor": "#506784",
            "linecolor": "#506784",
            "ticks": ""
           }
          },
          "scene": {
           "xaxis": {
            "backgroundcolor": "rgb(17,17,17)",
            "gridcolor": "#506784",
            "gridwidth": 2,
            "linecolor": "#506784",
            "showbackground": true,
            "ticks": "",
            "zerolinecolor": "#C8D4E3"
           },
           "yaxis": {
            "backgroundcolor": "rgb(17,17,17)",
            "gridcolor": "#506784",
            "gridwidth": 2,
            "linecolor": "#506784",
            "showbackground": true,
            "ticks": "",
            "zerolinecolor": "#C8D4E3"
           },
           "zaxis": {
            "backgroundcolor": "rgb(17,17,17)",
            "gridcolor": "#506784",
            "gridwidth": 2,
            "linecolor": "#506784",
            "showbackground": true,
            "ticks": "",
            "zerolinecolor": "#C8D4E3"
           }
          },
          "shapedefaults": {
           "line": {
            "color": "#f2f5fa"
           }
          },
          "sliderdefaults": {
           "bgcolor": "#C8D4E3",
           "bordercolor": "rgb(17,17,17)",
           "borderwidth": 1,
           "tickwidth": 0
          },
          "ternary": {
           "aaxis": {
            "gridcolor": "#506784",
            "linecolor": "#506784",
            "ticks": ""
           },
           "baxis": {
            "gridcolor": "#506784",
            "linecolor": "#506784",
            "ticks": ""
           },
           "bgcolor": "rgb(17,17,17)",
           "caxis": {
            "gridcolor": "#506784",
            "linecolor": "#506784",
            "ticks": ""
           }
          },
          "title": {
           "x": 0.05
          },
          "updatemenudefaults": {
           "bgcolor": "#506784",
           "borderwidth": 0
          },
          "xaxis": {
           "automargin": true,
           "gridcolor": "#283442",
           "linecolor": "#506784",
           "ticks": "",
           "title": {
            "standoff": 15
           },
           "zerolinecolor": "#283442",
           "zerolinewidth": 2
          },
          "yaxis": {
           "automargin": true,
           "gridcolor": "#283442",
           "linecolor": "#506784",
           "ticks": "",
           "title": {
            "standoff": 15
           },
           "zerolinecolor": "#283442",
           "zerolinewidth": 2
          }
         }
        },
        "title": {
         "font": {
          "size": 16
         },
         "text": "Index Dump — All Stations",
         "x": 0.5,
         "xanchor": "center"
        },
        "updatemenus": [
         {
          "active": 0,
          "buttons": [
           {
            "args": [
             {
              "visible": [
               true,
               true,
               true,
               true
              ]
             },
             {
              "title": "index_radioactive_releas — All Stations"
             }
            ],
            "label": "All stations",
            "method": "update"
           },
           {
            "args": [
             {
              "visible": [
               true,
               false,
               false,
               false
              ]
             },
             {
              "title": "index_radioactive_releas — Khmelnytskyi NPP"
             }
            ],
            "label": "Khmelnytskyi NPP",
            "method": "update"
           },
           {
            "args": [
             {
              "visible": [
               false,
               true,
               false,
               false
              ]
             },
             {
              "title": "index_radioactive_releas — Rivne NPP"
             }
            ],
            "label": "Rivne NPP",
            "method": "update"
           },
           {
            "args": [
             {
              "visible": [
               false,
               false,
               true,
               false
              ]
             },
             {
              "title": "index_radioactive_releas — South Ukrainian NPP"
             }
            ],
            "label": "South Ukrainian NPP",
            "method": "update"
           },
           {
            "args": [
             {
              "visible": [
               false,
               false,
               false,
               true
              ]
             },
             {
              "title": "index_radioactive_releas — Zaporizhzhia NPP"
             }
            ],
            "label": "Zaporizhzhia NPP",
            "method": "update"
           }
          ],
          "direction": "down",
          "pad": {
           "r": 10,
           "t": 10
          },
          "showactive": true,
          "x": 1.05,
          "xanchor": "left",
          "y": 1,
          "yanchor": "top"
         },
         {
          "active": 0,
          "buttons": [
           {
            "args": [
             {
              "y": [
               [
                0.11,
                0.23,
                0.11,
                0.13,
                0.13,
                0.12,
                0.15,
                0.12,
                0.12,
                0.17,
                0.13,
                0.13,
                0.13,
                0.18,
                0.17,
                0.14,
                0.11,
                0.16,
                0.12,
                0.07,
                0.07,
                0.51,
                0.55,
                0.31,
                0.44,
                0.52,
                0.85,
                0.36,
                0.63
               ],
               [
                0.78,
                0.92,
                0.7,
                0.66,
                0.8,
                0.91,
                0.7,
                0.77,
                0.99,
                0.93,
                0.83,
                0.64,
                0.78,
                0.66,
                0.48,
                0.47,
                0.55,
                0.63,
                0.59,
                0.71,
                0.6,
                0.72,
                0.6,
                0.63,
                0.46,
                0.59,
                0.41,
                0.42,
                0.36
               ],
               [
                0.136,
                0.19,
                0.25,
                0.18,
                0.381,
                0.2,
                0.203,
                0.133,
                0.24,
                0.213,
                0.189,
                0.181,
                0.219,
                0.2,
                4.505,
                3.6,
                3.85,
                3.04,
                2.98,
                3.68,
                3.75,
                4.68,
                4.32,
                3.503,
                3.693,
                4.967,
                4.901,
                4.529,
                3.455
               ],
               [
                0.149,
                0.115,
                0.87,
                0.94,
                0.83,
                0.72,
                0.92,
                0.99,
                0.75,
                0.99,
                1.08,
                0.95,
                0.84,
                0.75,
                0.76,
                0.83,
                0.94,
                1.07,
                0.84,
                null,
                null,
                null,
                null,
                null,
                null,
                null,
                null,
                null,
                null
               ]
              ]
             },
             {
              "annotations": [
               {
                "align": "left",
                "font": {
                 "size": 12
                },
                "showarrow": false,
                "text": "Numeric,% The total ratio of<br>radioactive emissions into the<br>atmosphere",
                "x": 1.05,
                "xanchor": "left",
                "xref": "paper",
                "y": 0.4,
                "yanchor": "middle",
                "yref": "paper"
               }
              ],
              "title": {
               "font": {
                "size": 16
               },
               "text": "Index Radioactive  Releas — All Stations",
               "x": 0.5,
               "xanchor": "center"
              },
              "yaxis": {
               "range": [
                0,
                5.967
               ]
              }
             }
            ],
            "label": "Index Radioactive  Releas",
            "method": "update"
           },
           {
            "args": [
             {
              "y": [
               [
                26.8,
                27.6,
                30,
                33,
                33.3,
                35,
                32,
                33,
                31,
                36,
                34,
                32,
                31,
                83,
                39,
                28,
                84,
                33,
                31,
                28,
                30,
                29,
                54,
                31,
                31,
                31,
                39,
                30,
                38
               ],
               [
                147,
                73,
                45,
                77,
                39,
                37,
                40,
                37,
                36,
                26,
                31,
                31,
                31,
                31,
                29,
                67,
                36,
                176,
                31,
                94,
                356,
                198,
                36,
                65,
                32,
                30,
                19,
                16,
                17
               ],
               [
                76,
                75,
                88,
                85,
                83,
                84,
                68,
                55,
                60,
                259,
                70,
                69,
                83,
                99,
                75,
                96,
                83,
                98,
                65,
                76,
                65,
                88,
                101,
                84,
                71,
                87,
                99,
                67,
                68
               ],
               [
                260,
                262,
                235,
                240,
                265,
                234,
                253,
                552,
                250,
                250,
                256,
                241,
                241,
                143,
                67,
                62,
                65,
                64,
                64,
                null,
                null,
                null,
                null,
                null,
                null,
                null,
                null,
                null,
                null
               ]
              ]
             },
             {
              "annotations": [
               {
                "align": "left",
                "font": {
                 "size": 12
                },
                "showarrow": false,
                "text": "Number, KBK/day The average daily<br>value of radioactivity of gas-<br>aerosol emissions of iodine<br>radionuclides into the environment",
                "x": 1.05,
                "xanchor": "left",
                "xref": "paper",
                "y": 0.4,
                "yanchor": "middle",
                "yref": "paper"
               }
              ],
              "title": {
               "font": {
                "size": 16
               },
               "text": "Iodine Radionuclides — All Stations",
               "x": 0.5,
               "xanchor": "center"
              },
              "yaxis": {
               "range": [
                0,
                553
               ]
              }
             }
            ],
            "label": "Iodine Radionuclides",
            "method": "update"
           },
           {
            "args": [
             {
              "y": [
               [
                null,
                null,
                null,
                null,
                null,
                null,
                null,
                null,
                null,
                null,
                null,
                null,
                null,
                null,
                null,
                null,
                null,
                null,
                null,
                null,
                null,
                null,
                null,
                null,
                null,
                null,
                null,
                null,
                null
               ],
               [
                null,
                null,
                null,
                null,
                null,
                null,
                null,
                null,
                null,
                null,
                null,
                null,
                null,
                null,
                null,
                null,
                null,
                null,
                null,
                null,
                null,
                null,
                null,
                null,
                null,
                null,
                null,
                null,
                null
               ],
               [
                null,
                null,
                null,
                null,
                null,
                null,
                null,
                null,
                null,
                null,
                null,
                null,
                null,
                null,
                null,
                null,
                null,
                null,
                null,
                null,
                null,
                null,
                null,
                null,
                null,
                null,
                null,
                null,
                null
               ],
               [
                null,
                null,
                null,
                null,
                null,
                null,
                null,
                null,
                null,
                null,
                null,
                null,
                null,
                null,
                null,
                null,
                null,
                null,
                null,
                null,
                null,
                null,
                null,
                null,
                null,
                null,
                null,
                null,
                null
               ]
              ]
             },
             {
              "annotations": [
               {
                "align": "left",
                "font": {
                 "size": 12
                },
                "showarrow": false,
                "text": "Number, % Percentage of the<br>permissible daily levels of iodine<br>radionuclide emissions into the<br>environment",
                "x": 1.05,
                "xanchor": "left",
                "xref": "paper",
                "y": 0.4,
                "yanchor": "middle",
                "yref": "paper"
               }
              ],
              "title": {
               "font": {
                "size": 16
               },
               "text": "Iodine Radionuclides Index — All Stations",
               "x": 0.5,
               "xanchor": "center"
              },
              "yaxis": {
               "range": [
                0,
                null
               ]
              }
             }
            ],
            "label": "Iodine Radionuclides Index",
            "method": "update"
           },
           {
            "args": [
             {
              "y": [
               [
                37.5,
                27.6,
                30,
                40,
                34.4,
                35.2,
                33,
                39,
                31,
                37,
                33,
                39,
                31,
                39,
                35,
                28,
                32,
                36,
                33,
                28,
                30,
                29,
                35,
                32,
                31,
                31,
                33,
                38,
                33
               ],
               [
                269,
                231,
                210,
                223,
                201,
                287,
                290,
                271,
                291,
                229,
                289,
                246,
                225,
                178,
                179,
                311,
                227,
                256,
                236,
                219,
                311,
                296,
                326,
                227,
                240,
                362,
                297,
                239,
                234
               ],
               [
                116,
                177,
                162,
                200,
                165,
                268,
                374,
                380,
                233,
                226,
                299,
                261,
                155,
                181,
                264,
                278,
                197,
                223,
                217,
                225,
                145,
                171,
                194,
                200,
                167,
                154,
                203,
                103,
                91
               ],
               [
                650,
                640,
                611,
                750,
                697,
                637,
                571,
                630,
                505,
                523,
                713,
                721,
                433,
                644,
                693,
                754,
                604,
                500,
                450,
                null,
                null,
                null,
                null,
                null,
                null,
                null,
                null,
                null,
                null
               ]
              ]
             },
             {
              "annotations": [
               {
                "align": "left",
                "font": {
                 "size": 12
                },
                "showarrow": false,
                "text": "Number, KBK/day The average daily<br>value of radioactivity of gas-<br>aerosol emissions of long-lived<br>radionuclides in the environment",
                "x": 1.05,
                "xanchor": "left",
                "xref": "paper",
                "y": 0.4,
                "yanchor": "middle",
                "yref": "paper"
               }
              ],
              "title": {
               "font": {
                "size": 16
               },
               "text": "Stable Radionuclides — All Stations",
               "x": 0.5,
               "xanchor": "center"
              },
              "yaxis": {
               "range": [
                0,
                755
               ]
              }
             }
            ],
            "label": "Stable Radionuclides",
            "method": "update"
           },
           {
            "args": [
             {
              "y": [
               [
                29.4,
                21.1,
                24,
                101,
                11.2,
                25.1,
                22,
                16,
                18,
                19,
                19,
                16,
                19,
                22,
                20,
                22,
                35,
                40,
                30,
                41,
                59,
                31,
                33,
                37,
                57,
                32,
                44,
                64,
                590
               ],
               [
                587,
                367,
                299,
                188,
                316,
                181,
                294,
                720,
                783,
                184,
                290,
                136,
                351,
                254,
                391,
                247,
                158,
                621,
                1046,
                431,
                129,
                329,
                532,
                324,
                244,
                159,
                178,
                175,
                212
               ],
               [
                136,
                103,
                110,
                89,
                45,
                79,
                77,
                75,
                73,
                72,
                46,
                33,
                49,
                45,
                55,
                25,
                33,
                97,
                53,
                70,
                30,
                55,
                55,
                33,
                21,
                33,
                35,
                23,
                20
               ],
               [
                1980,
                453,
                876,
                304,
                1652,
                230,
                300,
                234,
                695,
                244,
                398,
                239,
                256,
                661,
                265,
                504,
                2115,
                1011,
                202,
                null,
                null,
                null,
                null,
                null,
                null,
                null,
                null,
                null,
                null
               ]
              ]
             },
             {
              "annotations": [
               {
                "align": "left",
                "font": {
                 "size": 12
                },
                "showarrow": false,
                "text": "Number, KBK/month Radioactivity of<br>gas-aerosol emissions of rapper<br>radionuclide CS-137 into the<br>environment",
                "x": 1.05,
                "xanchor": "left",
                "xref": "paper",
                "y": 0.4,
                "yanchor": "middle",
                "yref": "paper"
               }
              ],
              "title": {
               "font": {
                "size": 16
               },
               "text": "Cs 137 Emission — All Stations",
               "x": 0.5,
               "xanchor": "center"
              },
              "yaxis": {
               "range": [
                0,
                2116
               ]
              }
             }
            ],
            "label": "Cs 137 Emission",
            "method": "update"
           },
           {
            "args": [
             {
              "y": [
               [
                13.8,
                12.2,
                13,
                103,
                24.4,
                14,
                64,
                102,
                15,
                171,
                18,
                196,
                12,
                16,
                14,
                15,
                23,
                20,
                22,
                19,
                22,
                17,
                23,
                16,
                17,
                14,
                21,
                23,
                21
               ],
               [
                165,
                281,
                557,
                72,
                318,
                3639,
                839,
                348,
                895,
                447,
                447,
                418,
                1253,
                776,
                281,
                559,
                872,
                583,
                201,
                117,
                756,
                772,
                921,
                150,
                129,
                1862,
                368,
                126,
                109
               ],
               [
                373,
                449,
                410,
                281,
                151,
                453,
                454,
                342,
                277,
                332,
                412,
                254,
                274,
                164,
                475,
                427,
                180,
                269,
                158,
                212,
                156,
                224,
                284,
                150,
                36,
                202,
                302,
                123,
                23
               ],
               [
                1020,
                1003,
                201,
                868,
                944,
                342,
                442,
                335,
                187,
                188,
                199,
                118,
                222,
                324,
                301,
                366,
                413,
                313,
                163,
                null,
                null,
                null,
                null,
                null,
                null,
                null,
                null,
                null,
                null
               ]
              ]
             },
             {
              "annotations": [
               {
                "align": "left",
                "font": {
                 "size": 12
                },
                "showarrow": false,
                "text": "Number, KBK/month Radioactivity of<br>gas-aerosol emissions of rapper<br>radionuclide CO-60 in the<br>environment",
                "x": 1.05,
                "xanchor": "left",
                "xref": "paper",
                "y": 0.4,
                "yanchor": "middle",
                "yref": "paper"
               }
              ],
              "title": {
               "font": {
                "size": 16
               },
               "text": "Co 60 Emission — All Stations",
               "x": 0.5,
               "xanchor": "center"
              },
              "yaxis": {
               "range": [
                0,
                3640
               ]
              }
             }
            ],
            "label": "Co 60 Emission",
            "method": "update"
           },
           {
            "args": [
             {
              "y": [
               [
                380,
                1380,
                700,
                1573,
                263,
                1390,
                547,
                5700,
                148,
                319,
                783,
                1790,
                947,
                687,
                587,
                587,
                540,
                987,
                232,
                345,
                67,
                318,
                96,
                2360,
                636,
                1550,
                1730,
                128,
                297
               ],
               [
                4800,
                13704,
                13576,
                13414,
                20239,
                13270,
                15485,
                16796,
                14099,
                7325,
                12181,
                7745,
                5413,
                13600,
                13408,
                9941,
                5875,
                8654,
                9032,
                5209,
                5536,
                4925,
                6520,
                5999,
                3221,
                3380,
                5813,
                3479,
                2311
               ],
               [
                390,
                2373,
                1515,
                287,
                479,
                800,
                2109,
                255,
                456,
                469,
                1073,
                339,
                2059,
                569,
                623,
                149,
                617,
                653,
                199,
                602,
                162,
                1962,
                4707,
                306,
                356,
                2868,
                19797,
                2626,
                2081
               ],
               [
                4330,
                4627,
                5890,
                3600,
                3608,
                3813,
                3182,
                3766,
                3686,
                9179,
                20248,
                4389,
                4265,
                5082,
                3442,
                3295,
                3097,
                3581,
                2033,
                null,
                null,
                null,
                null,
                null,
                null,
                null,
                null,
                null,
                null
               ]
              ]
             },
             {
              "annotations": [
               {
                "align": "left",
                "font": {
                 "size": 12
                },
                "showarrow": false,
                "text": "Number, KBK/month Radioactivity of<br>liquid (aquatic) discharge of<br>rapper radionuclide CS-137 into the<br>environment",
                "x": 1.05,
                "xanchor": "left",
                "xref": "paper",
                "y": 0.4,
                "yanchor": "middle",
                "yref": "paper"
               }
              ],
              "title": {
               "font": {
                "size": 16
               },
               "text": "Cs 137 Dump — All Stations",
               "x": 0.5,
               "xanchor": "center"
              },
              "yaxis": {
               "range": [
                0,
                20249
               ]
              }
             }
            ],
            "label": "Cs 137 Dump",
            "method": "update"
           },
           {
            "args": [
             {
              "y": [
               [
                null,
                null,
                null,
                null,
                null,
                null,
                null,
                null,
                null,
                null,
                null,
                null,
                null,
                null,
                null,
                null,
                null,
                76,
                15,
                7,
                2.21,
                9.2,
                4.3,
                111,
                25,
                32,
                39,
                13,
                11
               ],
               [
                620,
                813,
                651,
                464,
                1661,
                944,
                699,
                677,
                796,
                648,
                823,
                577,
                1081,
                813,
                774,
                486,
                517,
                1426,
                1555,
                740,
                557,
                746,
                673,
                552,
                511,
                652,
                1246,
                905,
                873
               ],
               [
                370,
                696,
                645,
                150,
                385,
                663,
                663,
                91,
                213,
                376,
                679,
                235,
                692,
                516,
                634,
                81,
                581,
                649,
                197,
                639,
                168,
                1912,
                782,
                149,
                231,
                1757,
                5909,
                167,
                215
               ],
               [
                3670,
                3432,
                3500,
                3100,
                3739,
                3062,
                3577,
                3363,
                3595,
                3355,
                8189,
                4342,
                3406,
                3514,
                3076,
                4869,
                2998,
                3421,
                9000,
                null,
                null,
                null,
                null,
                null,
                null,
                null,
                null,
                null,
                null
               ]
              ]
             },
             {
              "annotations": [
               {
                "align": "left",
                "font": {
                 "size": 12
                },
                "showarrow": false,
                "text": "Number, KBK/month Radioactivity of<br>liquid (water) discharge of rapper<br>radionuclide CO-60 into the<br>environment",
                "x": 1.05,
                "xanchor": "left",
                "xref": "paper",
                "y": 0.4,
                "yanchor": "middle",
                "yref": "paper"
               }
              ],
              "title": {
               "font": {
                "size": 16
               },
               "text": "Co 60 Dump — All Stations",
               "x": 0.5,
               "xanchor": "center"
              },
              "yaxis": {
               "range": [
                0,
                null
               ]
              }
             }
            ],
            "label": "Co 60 Dump",
            "method": "update"
           },
           {
            "args": [
             {
              "y": [
               [
                0.03,
                0.11,
                0.13,
                0.146,
                null,
                0.103,
                0.113,
                0.214,
                0.01,
                0.03,
                0.08,
                0.125,
                0.04,
                0.07,
                0.11,
                0.14,
                0.03,
                0.107,
                0.14,
                0.14,
                null,
                0.025,
                0.028,
                0.107,
                0.035,
                0.112,
                0.198,
                0.204,
                0.016
               ],
               [
                0.096,
                0.28,
                0.39,
                0.5,
                0.26,
                0.46,
                0.58,
                0.76,
                0.29,
                0.55,
                0.79,
                0.95,
                0.13,
                0.34,
                0.63,
                0.82,
                0.11,
                0.22,
                0.36,
                0.55,
                0.11,
                0.27,
                0.35,
                0.45,
                0.1,
                0.19,
                0.31,
                0.45,
                0.09
               ],
               [
                0.284,
                0.98,
                1.67,
                1.81,
                0.41,
                1.08,
                1.902,
                1.996,
                0.25,
                0.601,
                1.101,
                1.386,
                0.904,
                1.5,
                1.947,
                2.07,
                0.59,
                1.19,
                1.41,
                2.23,
                0.21,
                2.22,
                2.89,
                3.042,
                0.234,
                2.012,
                3.897,
                4.209,
                0.341
               ],
               [
                0.33,
                0.91,
                1.52,
                2.14,
                0.39,
                1.05,
                1.64,
                2,
                0.39,
                1.15,
                1.76,
                2.35,
                0.39,
                0.69,
                1.25,
                1.62,
                0.13,
                0.83,
                0.38,
                null,
                null,
                null,
                null,
                null,
                null,
                null,
                null,
                null,
                null
               ]
              ]
             },
             {
              "annotations": [
               {
                "align": "left",
                "font": {
                 "size": 12
                },
                "showarrow": false,
                "text": "Number, % The total index of<br>dumping radioactive substances<br>(increasing since the beginning of<br>the year)",
                "x": 1.05,
                "xanchor": "left",
                "xref": "paper",
                "y": 0.4,
                "yanchor": "middle",
                "yref": "paper"
               }
              ],
              "title": {
               "font": {
                "size": 16
               },
               "text": "Index Dump — All Stations",
               "x": 0.5,
               "xanchor": "center"
              },
              "yaxis": {
               "range": [
                0,
                5.209
               ]
              }
             }
            ],
            "label": "Index Dump",
            "method": "update"
           }
          ],
          "direction": "down",
          "pad": {
           "r": 10,
           "t": 10
          },
          "showactive": true,
          "x": 1.05,
          "xanchor": "left",
          "y": 0.9,
          "yanchor": "top"
         }
        ],
        "width": 1000,
        "xaxis": {
         "domain": [
          0,
          0.94
         ],
         "showgrid": true,
         "showline": true,
         "tickangle": -45,
         "title": {
          "text": "Date"
         }
        },
        "yaxis": {
         "title": {
          "text": "Value"
         }
        }
       }
      }
     },
     "metadata": {},
     "output_type": "display_data"
    }
   ],
   "source": [
    "import textwrap\n",
    "\n",
    "import pandas as pd\n",
    "import plotly.graph_objects as go\n",
    "\n",
    "# Make sure that the columns with metrics are numeric.\n",
    "for metric in metrics:\n",
    "    dataset_df[metric] = pd.to_numeric(dataset_df[metric], errors=\"coerce\")\n",
    "\n",
    "# Next, we group the data by stations.\n",
    "stations_en_list = sorted(set(dataset_df[\"station_en\"]))\n",
    "station_data = {\n",
    "    station: dataset_df[dataset_df[\"station_en\"] == station]\n",
    "    for station in stations_en_list\n",
    "}\n",
    "\n",
    "# Precalculate y-values ​​for each station and metric\n",
    "y_values = {station: {} for station in stations_en_list}\n",
    "for station in stations_en_list:\n",
    "    for metric in metrics:\n",
    "        y_values[station][metric] = station_data[station][metric].tolist()\n",
    "\n",
    "# We define the initial metric (index_radioactive_releas).\n",
    "if \"index_radioactive_releas\" in metrics:\n",
    "    metrics.remove(\"index_radioactive_releas\")\n",
    "    metrics.insert(0, \"index_radioactive_releas\")\n",
    "\n",
    "default_metric = metrics[0]\n",
    "\n",
    "# Generate initial routes for each station by default (all show default_metric).\n",
    "traces = []\n",
    "for station in stations_en_list:\n",
    "    trace = go.Scatter(\n",
    "        x=station_data[station][\"date\"],\n",
    "        y=y_values[station][default_metric],\n",
    "        name=station,\n",
    "        visible=True,\n",
    "    )\n",
    "    traces.append(trace)\n",
    "\n",
    "# Create a figure with the initial traces.\n",
    "fig = go.Figure(data=traces)\n",
    "\n",
    "# Calculate the global maximum for the first metric\n",
    "global_max = max(\n",
    "    [\n",
    "        (\n",
    "            max(y_values[station][default_metric])\n",
    "            if y_values[station][default_metric]\n",
    "            else 0\n",
    "        )\n",
    "        for station in stations_en_list\n",
    "    ]\n",
    ")\n",
    "\n",
    "# Creating buttons for filtering by stations\n",
    "station_buttons = []\n",
    "\n",
    "# \"All stations\" button for all stations\n",
    "station_buttons.append(\n",
    "    dict(\n",
    "        label=\"All stations\",\n",
    "        method=\"update\",\n",
    "        args=[\n",
    "            {\"visible\": [True] * len(traces)},\n",
    "            {\"title\": f\"{default_metric} — All Stations\"},\n",
    "        ],\n",
    "    )\n",
    ")\n",
    "\n",
    "# Separate buttons for each station.\n",
    "for i, station in enumerate(stations_en_list):\n",
    "    visibility = [False] * len(traces)\n",
    "    visibility[i] = True\n",
    "    station_buttons.append(\n",
    "        dict(\n",
    "            label=station,\n",
    "            method=\"update\",\n",
    "            args=[\n",
    "                {\"visible\": visibility},\n",
    "                {\"title\": f\"{default_metric} — {station}\"},\n",
    "            ],\n",
    "        )\n",
    "    )\n",
    "\n",
    "# Forming buttons for selecting metrics.\n",
    "metric_buttons = []\n",
    "for metric in metrics:\n",
    "    # For each metric, prepare new y-data for each trace.\n",
    "    new_y = [y_values[station][metric] for station in stations_en_list]\n",
    "\n",
    "    # Calculate the global maximum to set the y-axis range\n",
    "    global_max_metric = max(\n",
    "        [\n",
    "            max(y_values[station][metric]) if y_values[station][metric] else 0\n",
    "            for station in stations_en_list\n",
    "        ]\n",
    "    )\n",
    "\n",
    "    # Get the title and description from mapping.\n",
    "    metric_clear = metric.replace(\" \", \"\")\n",
    "    metric_title = metric_mapping[metric_clear][\"title_en\"]\n",
    "    description_text = metric_mapping[metric_clear][\"description_en\"]\n",
    "\n",
    "    # Auto-wrap lines, for example, 35 characters each\n",
    "    wrapped_description = \"<br>\".join(textwrap.wrap(description_text, width=35))\n",
    "\n",
    "    metric_buttons.append(\n",
    "        dict(\n",
    "            label=metric_title,\n",
    "            method=\"update\",\n",
    "            args=[\n",
    "                {\"y\": new_y},\n",
    "                {\n",
    "                    \"yaxis\": {\"range\": [0, global_max_metric + 1]},\n",
    "                    \"title\": {\n",
    "                        \"text\": f\"{metric_title} — All Stations\",\n",
    "                        \"x\": 0.5,\n",
    "                        \"xanchor\": \"center\",\n",
    "                        \"font\": {\"size\": 16},\n",
    "                    },\n",
    "                    \"annotations\": [\n",
    "                        dict(\n",
    "                            x=1.05,\n",
    "                            y=0.40,\n",
    "                            xref=\"paper\",\n",
    "                            yref=\"paper\",\n",
    "                            showarrow=False,\n",
    "                            font=dict(size=12),\n",
    "                            align=\"left\",\n",
    "                            xanchor=\"left\",\n",
    "                            yanchor=\"middle\",\n",
    "                            text=wrapped_description,\n",
    "                        )\n",
    "                    ],\n",
    "                },\n",
    "            ],\n",
    "        )\n",
    "    )\n",
    "\n",
    "\n",
    "# Add two dropdown menus to the layout (one for stations, the other for metrics).\n",
    "fig.update_layout(\n",
    "    title={\n",
    "        \"text\": f\"{metric_title} — All Stations\",\n",
    "        \"x\": 0.5,\n",
    "        \"xanchor\": \"center\",\n",
    "        \"font\": {\"size\": 16},\n",
    "    },\n",
    "    updatemenus=[\n",
    "        dict(\n",
    "            buttons=station_buttons,\n",
    "            direction=\"down\",\n",
    "            showactive=True,\n",
    "            x=1.05,\n",
    "            xanchor=\"left\",\n",
    "            y=1.0,\n",
    "            yanchor=\"top\",\n",
    "            pad={\"r\": 10, \"t\": 10},\n",
    "            active=0,\n",
    "        ),\n",
    "        dict(\n",
    "            buttons=metric_buttons,\n",
    "            direction=\"down\",\n",
    "            showactive=True,\n",
    "            x=1.05,\n",
    "            xanchor=\"left\",\n",
    "            y=0.9,\n",
    "            yanchor=\"top\",\n",
    "            pad={\"r\": 10, \"t\": 10},\n",
    "            active=0,\n",
    "        ),\n",
    "    ],\n",
    "    xaxis_title=\"Date\",\n",
    "    xaxis=dict(tickangle=-45, showgrid=True, showline=True, domain=[0, 0.94]),\n",
    "    yaxis_title=\"Value\",\n",
    "    template=\"plotly_dark\",\n",
    "    width=1000,\n",
    "    height=600,\n",
    "    margin=dict(r=150),\n",
    "    # Place the legend on the left of the graph.\n",
    "    legend=dict(\n",
    "        orientation=\"v\",\n",
    "        x=1.05,\n",
    "        y=0.75,\n",
    "        xanchor=\"left\",\n",
    "        borderwidth=1,\n",
    "        font=dict(\n",
    "            size=12,\n",
    "            color=\"white\",\n",
    "        ),\n",
    "    ),\n",
    "    annotations=[\n",
    "        dict(\n",
    "            x=1.05,\n",
    "            y=0.40,\n",
    "            xref=\"paper\",\n",
    "            yref=\"paper\",\n",
    "            showarrow=False,\n",
    "            font=dict(size=12),\n",
    "            align=\"left\",\n",
    "            xanchor=\"left\",\n",
    "            yanchor=\"middle\",\n",
    "            text=wrapped_description,\n",
    "        )\n",
    "    ],\n",
    ")\n",
    "\n",
    "fig.show()"
   ]
  },
  {
   "cell_type": "markdown",
   "metadata": {},
   "source": [
    "This interactive graph show as stations makes a different emissions in  \n",
    "atmosphere. "
   ]
  },
  {
   "cell_type": "markdown",
   "metadata": {},
   "source": [
    "## Summary  \n",
    "\n",
    "So, in this book we:  \n",
    "- taken a open dataset from govemental site  \n",
    "- explore it with Python and Pandas  \n",
    "- finding anomalies in a data  \n",
    "- create a informative graph with key metrics  \n",
    "\n",
    "Thank you for doing this open data research with me.  \n",
    "Good luck!  "
   ]
  }
 ],
 "metadata": {
  "colab": {
   "provenance": []
  },
  "kernelspec": {
   "display_name": "ukrainian-npps-awV9Ewx3-py3.12",
   "language": "python",
   "name": "python3"
  },
  "language_info": {
   "codemirror_mode": {
    "name": "ipython",
    "version": 3
   },
   "file_extension": ".py",
   "mimetype": "text/x-python",
   "name": "python",
   "nbconvert_exporter": "python",
   "pygments_lexer": "ipython3",
   "version": "3.12.4"
  }
 },
 "nbformat": 4,
 "nbformat_minor": 4
}
