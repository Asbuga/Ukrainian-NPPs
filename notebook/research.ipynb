{
 "cells": [
  {
   "cell_type": "markdown",
   "metadata": {
    "id": "-qcZ4rJUYPQn"
   },
   "source": [
    "# 📊 Ukrainian NPPs: Open Data Analysis \n",
    "\n",
    "This project explores open datasets on radioactive emissions and discharges from  \n",
    "nuclear power plants (NPPs) in Ukraine. Using Python, Pandas, and Plotly, we  \n",
    "analyze environmental indicators across several stations and visualize quarterly  \n",
    "changes over time.\n",
    "\n",
    "The goal is to better understand trends in emission levels and present the data  \n",
    "in an accessible, interactive format. All data is retrieved from publicly  \n",
    "available government sources.\n",
    "\n",
    "🧪 **Technologies:** Python, Pandas, Plotly, Jupyter Notebook \n",
    "\n",
    "📈 **Focus:** Data analysis, API integration, interactive visualizations \n",
    "\n",
    "📂 **Data Source:** [Open data portal][1]\n",
    "\n",
    "📦 **Dataset Page:** [Ecological and radiation situation in the area of ​​nuclear power plants][2]\n",
    "\n",
    "🔌 **API docs:** [How to retrieve a dataset (API)?][3]\n",
    "\n",
    "[1]: https://data.gov.ua/en/\n",
    "\n",
    "[2]: https://data.gov.ua/en/dataset/4a9d3d56-bd95-4c3e-97e7-1cdc7bcbd445/resource/d55eebcf-4660-4919-96b3-4894be5a6cda\n",
    "\n",
    "[3]: https://data.gov.ua/pages/aboutuser2#:~:text=%D0%AF%D0%BA%C2%A0%D0%B7%D0%B0%D0%B1%D1%80%D0%B0%D1%82%D0%B8%20%D0%BD%D0%B0%D0%B1%D1%96%D1%80%20%D0%B4%D0%B0%D0%BD%D0%B8%D1%85%20(API)%3F"
   ]
  },
  {
   "cell_type": "markdown",
   "metadata": {},
   "source": [
    "## Work with API  \n",
    "\n",
    "Create variables according to the API documentation for loading dataset metadata  \n",
    "and exploring them. Takes dataset_id on a dataset page."
   ]
  },
  {
   "cell_type": "code",
   "execution_count": 1,
   "metadata": {},
   "outputs": [],
   "source": [
    "dataset_id = \"4a9d3d56-bd95-4c3e-97e7-1cdc7bcbd445\""
   ]
  },
  {
   "cell_type": "markdown",
   "metadata": {},
   "source": [
    "## Research dataset metadata\n",
    "\n",
    "Download dataset metadata."
   ]
  },
  {
   "cell_type": "code",
   "execution_count": 7,
   "metadata": {},
   "outputs": [
    {
     "name": "stdout",
     "output_type": "stream",
     "text": [
      "Metadata and resources is fetched.\n"
     ]
    }
   ],
   "source": [
    "try:\n",
    "    from src.client import DataGovUAClient\n",
    "except ModuleNotFoundError:\n",
    "    import sys\n",
    "    from pathlib import Path\n",
    "\n",
    "\n",
    "    project_root = Path().resolve().parent\n",
    "    if str(project_root) not in sys.path:\n",
    "        sys.path.insert(0, str(project_root))\n",
    "else:\n",
    "    from src.client import DataGovUAClient\n",
    "\n",
    "\n",
    "sesion = DataGovUAClient(dataset_id)\n",
    "sesion.fetch_metadata()\n"
   ]
  },
  {
   "cell_type": "markdown",
   "metadata": {},
   "source": [
    "You can reseach metadata with call `sesion.metadata`."
   ]
  },
  {
   "cell_type": "markdown",
   "metadata": {},
   "source": [
    "Add an identifier for the dataset passport and dataset. We see them in metadata.  \n",
    "For more details, look carefully at the link"
   ]
  },
  {
   "cell_type": "code",
   "execution_count": 8,
   "metadata": {},
   "outputs": [],
   "source": [
    "dataset_id = \"d55eebcf-4660-4919-96b3-4894be5a6cda\"\n",
    "passport_id = \"afa0c772-2554-4b9a-98b4-980e54b1e21a\""
   ]
  },
  {
   "cell_type": "markdown",
   "metadata": {},
   "source": [
    "Next takes links on resources from metadata via id."
   ]
  },
  {
   "cell_type": "code",
   "execution_count": 9,
   "metadata": {},
   "outputs": [
    {
     "name": "stdout",
     "output_type": "stream",
     "text": [
      "https://data.gov.ua/dataset/c445c6ea-f0c3-4167-abb1-5afb4a0e5499/resource/d55eebcf-4660-4919-96b3-4894be5a6cda/download/nuclear_safety_q4_2024.xlsx\n",
      "https://data.gov.ua/dataset/c445c6ea-f0c3-4167-abb1-5afb4a0e5499/resource/afa0c772-2554-4b9a-98b4-980e54b1e21a/download/pasport-naboru-danikh.xlsx\n"
     ]
    }
   ],
   "source": [
    "dataset_url = sesion.get_resource_url(resource_id=dataset_id)\n",
    "passport_url = sesion.get_resource_url(resource_id=passport_id)\n",
    "\n",
    "print(dataset_url)\n",
    "print(passport_url)"
   ]
  },
  {
   "cell_type": "markdown",
   "metadata": {},
   "source": [
    "## Dataset passport overview\n",
    "\n",
    "Now we have two different dataset: it's passport and dataset with annual  \n",
    "observations. First of all, let\"s see at a pasport  of dataset. Let's put  \n",
    "it in a tabular form."
   ]
  },
  {
   "cell_type": "code",
   "execution_count": 10,
   "metadata": {},
   "outputs": [
    {
     "data": {
      "text/html": [
       "<style type=\"text/css\">\n",
       "#T_313ec th {\n",
       "  text-align: center;\n",
       "}\n",
       "#T_313ec td {\n",
       "  white-space: pre-wrap;\n",
       "  text-align: left;\n",
       "  width: 300px;\n",
       "}\n",
       "</style>\n",
       "<table id=\"T_313ec\">\n",
       "  <thead>\n",
       "    <tr>\n",
       "      <th class=\"blank level0\" >&nbsp;</th>\n",
       "      <th id=\"T_313ec_level0_col0\" class=\"col_heading level0 col0\" >Назва набору</th>\n",
       "      <th id=\"T_313ec_level0_col1\" class=\"col_heading level0 col1\" >Екологічна та радіаційна обстановка в зоні розташування атомних електростанцій</th>\n",
       "      <th id=\"T_313ec_level0_col2\" class=\"col_heading level0 col2\" >Примітка</th>\n",
       "    </tr>\n",
       "  </thead>\n",
       "  <tbody>\n",
       "    <tr>\n",
       "      <th id=\"T_313ec_level0_row0\" class=\"row_heading level0 row0\" >0</th>\n",
       "      <td id=\"T_313ec_row0_col0\" class=\"data row0 col0\" >Формати файлів</td>\n",
       "      <td id=\"T_313ec_row0_col1\" class=\"data row0 col1\" >xlsx, csv</td>\n",
       "      <td id=\"T_313ec_row0_col2\" class=\"data row0 col2\" ></td>\n",
       "    </tr>\n",
       "    <tr>\n",
       "      <th id=\"T_313ec_level0_row1\" class=\"row_heading level0 row1\" >1</th>\n",
       "      <td id=\"T_313ec_row1_col0\" class=\"data row1 col0\" >Шаблон назв файлів</td>\n",
       "      <td id=\"T_313ec_row1_col1\" class=\"data row1 col1\" >nuclear_safety_QN_РРРР</td>\n",
       "      <td id=\"T_313ec_row1_col2\" class=\"data row1 col2\" ></td>\n",
       "    </tr>\n",
       "    <tr>\n",
       "      <th id=\"T_313ec_level0_row2\" class=\"row_heading level0 row2\" >2</th>\n",
       "      <td id=\"T_313ec_row2_col0\" class=\"data row2 col0\" >Ключові слова</td>\n",
       "      <td id=\"T_313ec_row2_col1\" class=\"data row2 col1\" >енергоатом, викид, викиди, скид, скиди, радіоактивність, цезій, кобальт, аес, атомна станція, атомні станції</td>\n",
       "      <td id=\"T_313ec_row2_col2\" class=\"data row2 col2\" ></td>\n",
       "    </tr>\n",
       "    <tr>\n",
       "      <th id=\"T_313ec_level0_row3\" class=\"row_heading level0 row3\" >3</th>\n",
       "      <td id=\"T_313ec_row3_col0\" class=\"data row3 col0\" >Періодичність оприлюднення</td>\n",
       "      <td id=\"T_313ec_row3_col1\" class=\"data row3 col1\" >Щоквартально, до 25 числа місяця, наступного за звітнім періодом</td>\n",
       "      <td id=\"T_313ec_row3_col2\" class=\"data row3 col2\" ></td>\n",
       "    </tr>\n",
       "    <tr>\n",
       "      <th id=\"T_313ec_level0_row4\" class=\"row_heading level0 row4\" >4</th>\n",
       "      <td id=\"T_313ec_row4_col0\" class=\"data row4 col0\" >Додаткові уточнення</td>\n",
       "      <td id=\"T_313ec_row4_col1\" class=\"data row4 col1\" >У випадку відсутності інформації або наявності значень нижчих за мінімальну активність, що може бути виміряною, залишати комірку пустою</td>\n",
       "      <td id=\"T_313ec_row4_col2\" class=\"data row4 col2\" ></td>\n",
       "    </tr>\n",
       "    <tr>\n",
       "      <th id=\"T_313ec_level0_row5\" class=\"row_heading level0 row5\" >5</th>\n",
       "      <td id=\"T_313ec_row5_col0\" class=\"data row5 col0\" ></td>\n",
       "      <td id=\"T_313ec_row5_col1\" class=\"data row5 col1\" ></td>\n",
       "      <td id=\"T_313ec_row5_col2\" class=\"data row5 col2\" ></td>\n",
       "    </tr>\n",
       "    <tr>\n",
       "      <th id=\"T_313ec_level0_row6\" class=\"row_heading level0 row6\" >6</th>\n",
       "      <td id=\"T_313ec_row6_col0\" class=\"data row6 col0\" >Структура набору:</td>\n",
       "      <td id=\"T_313ec_row6_col1\" class=\"data row6 col1\" ></td>\n",
       "      <td id=\"T_313ec_row6_col2\" class=\"data row6 col2\" ></td>\n",
       "    </tr>\n",
       "    <tr>\n",
       "      <th id=\"T_313ec_level0_row7\" class=\"row_heading level0 row7\" >7</th>\n",
       "      <td id=\"T_313ec_row7_col0\" class=\"data row7 col0\" >Назва поля</td>\n",
       "      <td id=\"T_313ec_row7_col1\" class=\"data row7 col1\" >Переклад на українську</td>\n",
       "      <td id=\"T_313ec_row7_col2\" class=\"data row7 col2\" >Опис</td>\n",
       "    </tr>\n",
       "    <tr>\n",
       "      <th id=\"T_313ec_level0_row8\" class=\"row_heading level0 row8\" >8</th>\n",
       "      <td id=\"T_313ec_row8_col0\" class=\"data row8 col0\" >year</td>\n",
       "      <td id=\"T_313ec_row8_col1\" class=\"data row8 col1\" >рік</td>\n",
       "      <td id=\"T_313ec_row8_col2\" class=\"data row8 col2\" >Формат РРРР</td>\n",
       "    </tr>\n",
       "    <tr>\n",
       "      <th id=\"T_313ec_level0_row9\" class=\"row_heading level0 row9\" >9</th>\n",
       "      <td id=\"T_313ec_row9_col0\" class=\"data row9 col0\" >quarter</td>\n",
       "      <td id=\"T_313ec_row9_col1\" class=\"data row9 col1\" >квартал</td>\n",
       "      <td id=\"T_313ec_row9_col2\" class=\"data row9 col2\" >Число від 1 до 4, де\n",
       "\"1\" означає період січень-березень\n",
       "\"2\" - квітень-червень\n",
       "\"3\" - липень-вересень\n",
       "\"4\" - жовтень-грудень</td>\n",
       "    </tr>\n",
       "    <tr>\n",
       "      <th id=\"T_313ec_level0_row10\" class=\"row_heading level0 row10\" >10</th>\n",
       "      <td id=\"T_313ec_row10_col0\" class=\"data row10 col0\" >Station</td>\n",
       "      <td id=\"T_313ec_row10_col1\" class=\"data row10 col1\" >Назва станції</td>\n",
       "      <td id=\"T_313ec_row10_col2\" class=\"data row10 col2\" >Текст\n",
       "Назва без змін</td>\n",
       "    </tr>\n",
       "    <tr>\n",
       "      <th id=\"T_313ec_level0_row11\" class=\"row_heading level0 row11\" >11</th>\n",
       "      <td id=\"T_313ec_row11_col0\" class=\"data row11 col0\" >Irg</td>\n",
       "      <td id=\"T_313ec_row11_col1\" class=\"data row11 col1\" >ІРГ</td>\n",
       "      <td id=\"T_313ec_row11_col2\" class=\"data row11 col2\" >Число, ГБк/добу\n",
       "Середньодобове значення радіоактивності газо-аерозольних викидів інертних радіоактивних газів у навколишнє середовище</td>\n",
       "    </tr>\n",
       "    <tr>\n",
       "      <th id=\"T_313ec_level0_row12\" class=\"row_heading level0 row12\" >12</th>\n",
       "      <td id=\"T_313ec_row12_col0\" class=\"data row12 col0\" >irg_index</td>\n",
       "      <td id=\"T_313ec_row12_col1\" class=\"data row12 col1\" >Індекс викидів ІРГ</td>\n",
       "      <td id=\"T_313ec_row12_col2\" class=\"data row12 col2\" >Число, %\n",
       "Відсоток від допустимого добового рівня викидів інертних радіоактивних газів у навколишнє середовище</td>\n",
       "    </tr>\n",
       "    <tr>\n",
       "      <th id=\"T_313ec_level0_row13\" class=\"row_heading level0 row13\" >13</th>\n",
       "      <td id=\"T_313ec_row13_col0\" class=\"data row13 col0\" >iodine_radionuclides</td>\n",
       "      <td id=\"T_313ec_row13_col1\" class=\"data row13 col1\" >Радіонуклідів йоду</td>\n",
       "      <td id=\"T_313ec_row13_col2\" class=\"data row13 col2\" >Число, кБк/добу\n",
       "Середньодобове значення радіоактивності газо-аерозольних викидів радіонуклідів йоду у навколишнє середовище</td>\n",
       "    </tr>\n",
       "    <tr>\n",
       "      <th id=\"T_313ec_level0_row14\" class=\"row_heading level0 row14\" >14</th>\n",
       "      <td id=\"T_313ec_row14_col0\" class=\"data row14 col0\" >iodine_radionuclides_index</td>\n",
       "      <td id=\"T_313ec_row14_col1\" class=\"data row14 col1\" >Індекс викидів радіонуклідів йоду</td>\n",
       "      <td id=\"T_313ec_row14_col2\" class=\"data row14 col2\" >Число, %\n",
       "Відсоток від допустимого добового рівня викидів радіонуклідів йоду у навколишнє середовище</td>\n",
       "    </tr>\n",
       "    <tr>\n",
       "      <th id=\"T_313ec_level0_row15\" class=\"row_heading level0 row15\" >15</th>\n",
       "      <td id=\"T_313ec_row15_col0\" class=\"data row15 col0\" >stable_radionuclides</td>\n",
       "      <td id=\"T_313ec_row15_col1\" class=\"data row15 col1\" >ДІН</td>\n",
       "      <td id=\"T_313ec_row15_col2\" class=\"data row15 col2\" >Число, кБк/добу\n",
       "Середньодобове значення радіоактивності газо-аерозольних викидів довгоіснуючих радіонуклідів у навколишнє середовище</td>\n",
       "    </tr>\n",
       "    <tr>\n",
       "      <th id=\"T_313ec_level0_row16\" class=\"row_heading level0 row16\" >16</th>\n",
       "      <td id=\"T_313ec_row16_col0\" class=\"data row16 col0\" >stable_radionuclides_index</td>\n",
       "      <td id=\"T_313ec_row16_col1\" class=\"data row16 col1\" >Індекс викидів ДІН</td>\n",
       "      <td id=\"T_313ec_row16_col2\" class=\"data row16 col2\" >Число, %\n",
       "Відсоток від допустимого добового рівня викидів довгоіснуючих радіонуклідів у навколишнє середовище</td>\n",
       "    </tr>\n",
       "    <tr>\n",
       "      <th id=\"T_313ec_level0_row17\" class=\"row_heading level0 row17\" >17</th>\n",
       "      <td id=\"T_313ec_row17_col0\" class=\"data row17 col0\" >cs_137_emission</td>\n",
       "      <td id=\"T_313ec_row17_col1\" class=\"data row17 col1\" >Викид Cs-137</td>\n",
       "      <td id=\"T_313ec_row17_col2\" class=\"data row17 col2\" >Число, кБк/місяць\n",
       "Радіоактивність газо-аерозольних викидів реперного радіонукліду Cs-137 у навколишнє середовище</td>\n",
       "    </tr>\n",
       "    <tr>\n",
       "      <th id=\"T_313ec_level0_row18\" class=\"row_heading level0 row18\" >18</th>\n",
       "      <td id=\"T_313ec_row18_col0\" class=\"data row18 col0\" >co_60_emission</td>\n",
       "      <td id=\"T_313ec_row18_col1\" class=\"data row18 col1\" >Викид Co-60</td>\n",
       "      <td id=\"T_313ec_row18_col2\" class=\"data row18 col2\" >Число, кБк/місяць\n",
       "Радіоактивність газо-аерозольних викидів реперного радіонукліду Co-60 у навколишнє середовище</td>\n",
       "    </tr>\n",
       "    <tr>\n",
       "      <th id=\"T_313ec_level0_row19\" class=\"row_heading level0 row19\" >19</th>\n",
       "      <td id=\"T_313ec_row19_col0\" class=\"data row19 col0\" >cs_137_dump</td>\n",
       "      <td id=\"T_313ec_row19_col1\" class=\"data row19 col1\" >Скид Cs-137</td>\n",
       "      <td id=\"T_313ec_row19_col2\" class=\"data row19 col2\" >Число, кБк/місяць\n",
       "Радіоактивність рідкого (водного) скиду реперного радіонукліду Cs-137 у навколишнє середовище</td>\n",
       "    </tr>\n",
       "    <tr>\n",
       "      <th id=\"T_313ec_level0_row20\" class=\"row_heading level0 row20\" >20</th>\n",
       "      <td id=\"T_313ec_row20_col0\" class=\"data row20 col0\" >co_60_dump</td>\n",
       "      <td id=\"T_313ec_row20_col1\" class=\"data row20 col1\" >Скид Co-60</td>\n",
       "      <td id=\"T_313ec_row20_col2\" class=\"data row20 col2\" >Число, кБк/місяць\n",
       "Радіоактивність рідкого (водного) скиду реперного радіонукліду Co-60 у навколишнє середовище</td>\n",
       "    </tr>\n",
       "    <tr>\n",
       "      <th id=\"T_313ec_level0_row21\" class=\"row_heading level0 row21\" >21</th>\n",
       "      <td id=\"T_313ec_row21_col0\" class=\"data row21 col0\" >volume</td>\n",
       "      <td id=\"T_313ec_row21_col1\" class=\"data row21 col1\" >Об'єм</td>\n",
       "      <td id=\"T_313ec_row21_col2\" class=\"data row21 col2\" >Число, куб. м\n",
       "Загальний об'єм водних скидів за звітний період</td>\n",
       "    </tr>\n",
       "    <tr>\n",
       "      <th id=\"T_313ec_level0_row22\" class=\"row_heading level0 row22\" >22</th>\n",
       "      <td id=\"T_313ec_row22_col0\" class=\"data row22 col0\" >index_radioactive _ releas</td>\n",
       "      <td id=\"T_313ec_row22_col1\" class=\"data row22 col1\" >Показник радіоактивного викиду</td>\n",
       "      <td id=\"T_313ec_row22_col2\" class=\"data row22 col2\" >Число,%\n",
       "Сумарний показник радіоактивних викидів в атмосферу</td>\n",
       "    </tr>\n",
       "    <tr>\n",
       "      <th id=\"T_313ec_level0_row23\" class=\"row_heading level0 row23\" >23</th>\n",
       "      <td id=\"T_313ec_row23_col0\" class=\"data row23 col0\" >index_dump</td>\n",
       "      <td id=\"T_313ec_row23_col1\" class=\"data row23 col1\" >Індекс скиду</td>\n",
       "      <td id=\"T_313ec_row23_col2\" class=\"data row23 col2\" >Число, %\n",
       "Сумарний індекс скиду радіоактивних речовин (наростаючим підсумком з початку року)</td>\n",
       "    </tr>\n",
       "  </tbody>\n",
       "</table>\n"
      ],
      "text/plain": [
       "<pandas.io.formats.style.Styler at 0x25a3d05bb60>"
      ]
     },
     "execution_count": 10,
     "metadata": {},
     "output_type": "execute_result"
    }
   ],
   "source": [
    "passport_df = sesion.load_dataframe(resource_url=passport_url)\n",
    "\n",
    "# Customizes table styles.\n",
    "columns_rename = list(passport_df.columns[:-1]) + [\"Примітка\"]\n",
    "passport_df.columns = columns_rename\n",
    "\n",
    "(\n",
    "    passport_df.fillna(\"\").style.set_table_styles(\n",
    "        [\n",
    "            {\"selector\": \"th\", \"props\": [(\"text-align\", \"center\")]},\n",
    "            {\n",
    "                \"selector\": \"td\",\n",
    "                \"props\": [\n",
    "                    (\"white-space\", \"pre-wrap\"),\n",
    "                    (\"text-align\", \"left\"),\n",
    "                    (\"width\", \"300px\"),\n",
    "                ],\n",
    "            },\n",
    "        ]\n",
    "    )\n",
    ")"
   ]
  },
  {
   "cell_type": "markdown",
   "metadata": {},
   "source": [
    "For analysis and detailing, we will select indicators under the following \n",
    "indices metrics:"
   ]
  },
  {
   "cell_type": "code",
   "execution_count": null,
   "metadata": {},
   "outputs": [
    {
     "data": {
      "text/plain": [
       "['iodine_radionuclides',\n",
       " 'iodine_radionuclides_index',\n",
       " 'stable_radionuclides',\n",
       " 'cs_137_emission',\n",
       " 'co_60_emission',\n",
       " 'cs_137_dump',\n",
       " 'co_60_dump',\n",
       " 'index_radioactive_releas',\n",
       " 'index_dump']"
      ]
     },
     "execution_count": 25,
     "metadata": {},
     "output_type": "execute_result"
    }
   ],
   "source": [
    "metrics = [\n",
    "    \"iodine_ radionuclides\",\n",
    "    \"iodine_ radionuclides_index\",\n",
    "    \"stable_radionuclides\",\n",
    "    \"cs_137_emission\",\n",
    "    \"co_60_ emission\",\n",
    "    \"cs_137_dump\",\n",
    "    \"co_60_dump\",\n",
    "    \"index_radioactive_releas\",\n",
    "    \"index_dump\",\n",
    "]"
   ]
  },
  {
   "cell_type": "markdown",
   "metadata": {
    "id": "eoHwyuEFYPQr"
   },
   "source": [
    "## Dataset acquisition and analysis\n",
    "\n",
    "First, let's download the dataset from the link."
   ]
  },
  {
   "cell_type": "code",
   "execution_count": 12,
   "metadata": {},
   "outputs": [
    {
     "data": {
      "text/html": [
       "<div>\n",
       "<style scoped>\n",
       "    .dataframe tbody tr th:only-of-type {\n",
       "        vertical-align: middle;\n",
       "    }\n",
       "\n",
       "    .dataframe tbody tr th {\n",
       "        vertical-align: top;\n",
       "    }\n",
       "\n",
       "    .dataframe thead th {\n",
       "        text-align: right;\n",
       "    }\n",
       "</style>\n",
       "<table border=\"1\" class=\"dataframe\">\n",
       "  <thead>\n",
       "    <tr style=\"text-align: right;\">\n",
       "      <th></th>\n",
       "      <th>year</th>\n",
       "      <th>quarter</th>\n",
       "      <th>station</th>\n",
       "      <th>irg</th>\n",
       "      <th>irg_index</th>\n",
       "      <th>iodine_ radionuclides</th>\n",
       "      <th>iodine_ radionuclides_index</th>\n",
       "      <th>stable_radionuclides</th>\n",
       "      <th>stable_ radionuclides_index</th>\n",
       "      <th>cs_137_emission</th>\n",
       "      <th>co_60_ emission</th>\n",
       "      <th>cs_137_dump</th>\n",
       "      <th>co_60_dump</th>\n",
       "      <th>volume</th>\n",
       "      <th>index_radioactive_releas</th>\n",
       "      <th>index_dump</th>\n",
       "    </tr>\n",
       "  </thead>\n",
       "  <tbody>\n",
       "    <tr>\n",
       "      <th>0</th>\n",
       "      <td>2018</td>\n",
       "      <td>1</td>\n",
       "      <td>ЗАЕС</td>\n",
       "      <td>89.0</td>\n",
       "      <td>0.13</td>\n",
       "      <td>260.0</td>\n",
       "      <td>&lt;0,01</td>\n",
       "      <td>650.0</td>\n",
       "      <td>0.03</td>\n",
       "      <td>1980.0</td>\n",
       "      <td>1020.0</td>\n",
       "      <td>4330.0</td>\n",
       "      <td>3670.0</td>\n",
       "      <td>833000.0</td>\n",
       "      <td>0.149</td>\n",
       "      <td>0.33</td>\n",
       "    </tr>\n",
       "    <tr>\n",
       "      <th>1</th>\n",
       "      <td>2018</td>\n",
       "      <td>1</td>\n",
       "      <td>РАЕС</td>\n",
       "      <td>105.0</td>\n",
       "      <td>0.16</td>\n",
       "      <td>147.0</td>\n",
       "      <td>&lt;0,01</td>\n",
       "      <td>269.0</td>\n",
       "      <td>0.07</td>\n",
       "      <td>587.0</td>\n",
       "      <td>165.0</td>\n",
       "      <td>4800.0</td>\n",
       "      <td>620.0</td>\n",
       "      <td>2220000.0</td>\n",
       "      <td>0.780</td>\n",
       "      <td>0.096</td>\n",
       "    </tr>\n",
       "    <tr>\n",
       "      <th>2</th>\n",
       "      <td>2018</td>\n",
       "      <td>1</td>\n",
       "      <td>ЮУАЕС</td>\n",
       "      <td>45.0</td>\n",
       "      <td>0.10</td>\n",
       "      <td>76.0</td>\n",
       "      <td>&lt;0,01</td>\n",
       "      <td>116.0</td>\n",
       "      <td>0.02</td>\n",
       "      <td>136.0</td>\n",
       "      <td>373.0</td>\n",
       "      <td>390.0</td>\n",
       "      <td>370.0</td>\n",
       "      <td>14600.0</td>\n",
       "      <td>0.136</td>\n",
       "      <td>0.284</td>\n",
       "    </tr>\n",
       "    <tr>\n",
       "      <th>3</th>\n",
       "      <td>2018</td>\n",
       "      <td>1</td>\n",
       "      <td>ХАЕС</td>\n",
       "      <td>31.0</td>\n",
       "      <td>0.07</td>\n",
       "      <td>26.8</td>\n",
       "      <td>&lt;0,01</td>\n",
       "      <td>37.5</td>\n",
       "      <td>&lt;0,01</td>\n",
       "      <td>29.4</td>\n",
       "      <td>13.8</td>\n",
       "      <td>380.0</td>\n",
       "      <td>NaN</td>\n",
       "      <td>22070.0</td>\n",
       "      <td>0.110</td>\n",
       "      <td>0.03</td>\n",
       "    </tr>\n",
       "    <tr>\n",
       "      <th>4</th>\n",
       "      <td>2018</td>\n",
       "      <td>2</td>\n",
       "      <td>ЗАЕС</td>\n",
       "      <td>84.0</td>\n",
       "      <td>0.12</td>\n",
       "      <td>262.0</td>\n",
       "      <td>&lt;0,01</td>\n",
       "      <td>640.0</td>\n",
       "      <td>0.03</td>\n",
       "      <td>453.0</td>\n",
       "      <td>1003.0</td>\n",
       "      <td>4627.0</td>\n",
       "      <td>3432.0</td>\n",
       "      <td>812667.0</td>\n",
       "      <td>0.115</td>\n",
       "      <td>0.91</td>\n",
       "    </tr>\n",
       "  </tbody>\n",
       "</table>\n",
       "</div>"
      ],
      "text/plain": [
       "   year  quarter station    irg  irg_index  iodine_ radionuclides  \\\n",
       "0  2018        1    ЗАЕС   89.0       0.13                  260.0   \n",
       "1  2018        1    РАЕС  105.0       0.16                  147.0   \n",
       "2  2018        1   ЮУАЕС   45.0       0.10                   76.0   \n",
       "3  2018        1    ХАЕС   31.0       0.07                   26.8   \n",
       "4  2018        2    ЗАЕС   84.0       0.12                  262.0   \n",
       "\n",
       "  iodine_ radionuclides_index  stable_radionuclides  \\\n",
       "0                       <0,01                 650.0   \n",
       "1                       <0,01                 269.0   \n",
       "2                       <0,01                 116.0   \n",
       "3                  <0,01                       37.5   \n",
       "4                       <0,01                 640.0   \n",
       "\n",
       "  stable_ radionuclides_index  cs_137_emission  co_60_ emission  cs_137_dump  \\\n",
       "0                        0.03           1980.0           1020.0       4330.0   \n",
       "1                        0.07            587.0            165.0       4800.0   \n",
       "2                        0.02            136.0            373.0        390.0   \n",
       "3             <0,01                       29.4             13.8        380.0   \n",
       "4                        0.03            453.0           1003.0       4627.0   \n",
       "\n",
       "   co_60_dump     volume  index_radioactive_releas index_dump  \n",
       "0      3670.0   833000.0                     0.149       0.33  \n",
       "1       620.0  2220000.0                     0.780      0.096  \n",
       "2       370.0    14600.0                     0.136      0.284  \n",
       "3         NaN    22070.0                     0.110       0.03  \n",
       "4      3432.0   812667.0                     0.115       0.91  "
      ]
     },
     "execution_count": 12,
     "metadata": {},
     "output_type": "execute_result"
    }
   ],
   "source": [
    "dataset_df = sesion.load_dataframe(resource_url=dataset_url)\n",
    "dataset_df.head()"
   ]
  },
  {
   "cell_type": "markdown",
   "metadata": {
    "id": "BOx7R8dvYPQv"
   },
   "source": [
    "### Format data\n",
    "We will format the quarter and year data as \"DD.MM.YYYY\".  \n",
    "This will be needed for visualization."
   ]
  },
  {
   "cell_type": "code",
   "execution_count": null,
   "metadata": {
    "colab": {
     "base_uri": "https://localhost:8080/"
    },
    "executionInfo": {
     "elapsed": 255,
     "status": "ok",
     "timestamp": 1725016085533,
     "user": {
      "displayName": "Andi",
      "userId": "10349201529472998137"
     },
     "user_tz": -180
    },
    "id": "dgrI4eHuYPQv",
    "outputId": "a1e61ddd-f252-4cd0-e4c9-3c42044c48ad"
   },
   "outputs": [
    {
     "data": {
      "text/html": [
       "<div>\n",
       "<style scoped>\n",
       "    .dataframe tbody tr th:only-of-type {\n",
       "        vertical-align: middle;\n",
       "    }\n",
       "\n",
       "    .dataframe tbody tr th {\n",
       "        vertical-align: top;\n",
       "    }\n",
       "\n",
       "    .dataframe thead th {\n",
       "        text-align: right;\n",
       "    }\n",
       "</style>\n",
       "<table border=\"1\" class=\"dataframe\">\n",
       "  <thead>\n",
       "    <tr style=\"text-align: right;\">\n",
       "      <th></th>\n",
       "      <th>year</th>\n",
       "      <th>quarter</th>\n",
       "      <th>date</th>\n",
       "    </tr>\n",
       "  </thead>\n",
       "  <tbody>\n",
       "    <tr>\n",
       "      <th>0</th>\n",
       "      <td>2018</td>\n",
       "      <td>1</td>\n",
       "      <td>31.03.2018</td>\n",
       "    </tr>\n",
       "    <tr>\n",
       "      <th>1</th>\n",
       "      <td>2018</td>\n",
       "      <td>1</td>\n",
       "      <td>31.03.2018</td>\n",
       "    </tr>\n",
       "    <tr>\n",
       "      <th>2</th>\n",
       "      <td>2018</td>\n",
       "      <td>1</td>\n",
       "      <td>31.03.2018</td>\n",
       "    </tr>\n",
       "    <tr>\n",
       "      <th>3</th>\n",
       "      <td>2018</td>\n",
       "      <td>1</td>\n",
       "      <td>31.03.2018</td>\n",
       "    </tr>\n",
       "    <tr>\n",
       "      <th>4</th>\n",
       "      <td>2018</td>\n",
       "      <td>2</td>\n",
       "      <td>30.06.2018</td>\n",
       "    </tr>\n",
       "  </tbody>\n",
       "</table>\n",
       "</div>"
      ],
      "text/plain": [
       "   year  quarter        date\n",
       "0  2018        1  31.03.2018\n",
       "1  2018        1  31.03.2018\n",
       "2  2018        1  31.03.2018\n",
       "3  2018        1  31.03.2018\n",
       "4  2018        2  30.06.2018"
      ]
     },
     "execution_count": 15,
     "metadata": {},
     "output_type": "execute_result"
    }
   ],
   "source": [
    "from src.utils import get_date\n",
    "\n",
    "\n",
    "dataset_df[\"date\"] = dataset_df.apply(\n",
    "    lambda row: get_date(year=row[\"year\"], quarter=row[\"quarter\"]), axis=1\n",
    ")\n",
    "dataset_df[[\"year\", \"quarter\", \"date\"]].head()"
   ]
  },
  {
   "cell_type": "markdown",
   "metadata": {},
   "source": [
    "Let's list all nuclear power plants."
   ]
  },
  {
   "cell_type": "code",
   "execution_count": 16,
   "metadata": {},
   "outputs": [
    {
     "data": {
      "text/plain": [
       "('ЗАЕС', 'РАЕС', 'ЮУАЕС', 'ХАЕС', 'ПАЕС')"
      ]
     },
     "execution_count": 16,
     "metadata": {},
     "output_type": "execute_result"
    }
   ],
   "source": [
    "stations = dataset_df[\"station\"].unique()\n",
    "tuple(stations)"
   ]
  },
  {
   "cell_type": "markdown",
   "metadata": {},
   "source": [
    "In April 2022, Energoatom, by its order, approved the change of the name of the  \n",
    "NPP from “South Ukrainian Nuclear Power Plant” to “South Ukrainian Nuclear Power  \n",
    "Plant”. In accordance with the Resolution of the Cabinet of Ministers No. 1061  \n",
    "of September 27, 2022, the government finally approved the renaming of the NPP  \n",
    "from “South Ukrainian Nuclear Power Plant” to “South Ukrainian” \n",
    "[1](https://epravda.com.ua/news/2022/09/29/692034/).\n",
    "\n",
    "Will make station names more readable."
   ]
  },
  {
   "cell_type": "code",
   "execution_count": 20,
   "metadata": {},
   "outputs": [
    {
     "data": {
      "text/html": [
       "<div>\n",
       "<style scoped>\n",
       "    .dataframe tbody tr th:only-of-type {\n",
       "        vertical-align: middle;\n",
       "    }\n",
       "\n",
       "    .dataframe tbody tr th {\n",
       "        vertical-align: top;\n",
       "    }\n",
       "\n",
       "    .dataframe thead th {\n",
       "        text-align: right;\n",
       "    }\n",
       "</style>\n",
       "<table border=\"1\" class=\"dataframe\">\n",
       "  <thead>\n",
       "    <tr style=\"text-align: right;\">\n",
       "      <th></th>\n",
       "      <th>station</th>\n",
       "      <th>station_en</th>\n",
       "    </tr>\n",
       "  </thead>\n",
       "  <tbody>\n",
       "    <tr>\n",
       "      <th>0</th>\n",
       "      <td>ЗАЕС</td>\n",
       "      <td>Zaporizhzhia NPP</td>\n",
       "    </tr>\n",
       "    <tr>\n",
       "      <th>1</th>\n",
       "      <td>РАЕС</td>\n",
       "      <td>Rivne NPP</td>\n",
       "    </tr>\n",
       "    <tr>\n",
       "      <th>2</th>\n",
       "      <td>ЮУАЕС</td>\n",
       "      <td>South Ukrainian NPP</td>\n",
       "    </tr>\n",
       "    <tr>\n",
       "      <th>3</th>\n",
       "      <td>ХАЕС</td>\n",
       "      <td>Khmelnytskyi NPP</td>\n",
       "    </tr>\n",
       "    <tr>\n",
       "      <th>4</th>\n",
       "      <td>ЗАЕС</td>\n",
       "      <td>Zaporizhzhia NPP</td>\n",
       "    </tr>\n",
       "  </tbody>\n",
       "</table>\n",
       "</div>"
      ],
      "text/plain": [
       "  station           station_en\n",
       "0    ЗАЕС     Zaporizhzhia NPP\n",
       "1    РАЕС            Rivne NPP\n",
       "2   ЮУАЕС  South Ukrainian NPP\n",
       "3    ХАЕС     Khmelnytskyi NPP\n",
       "4    ЗАЕС     Zaporizhzhia NPP"
      ]
     },
     "execution_count": 20,
     "metadata": {},
     "output_type": "execute_result"
    }
   ],
   "source": [
    "station_map = {\n",
    "    \"ЗАЕС\": \"Zaporizhzhia NPP\",\n",
    "    \"РАЕС\": \"Rivne NPP\",\n",
    "    \"ПАЕС\": \"South Ukrainian NPP\",\n",
    "    \"ХАЕС\": \"Khmelnytskyi NPP\",\n",
    "    \"ЮУАЕС\": \"South Ukrainian NPP\",\n",
    "}\n",
    "\n",
    "dataset_df[\"station_en\"] = dataset_df[\"station\"].map(station_map)\n",
    "dataset_df[[\"station\", \"station_en\"]].head()"
   ]
  },
  {
   "cell_type": "markdown",
   "metadata": {},
   "source": [
    "As you can see in the result, the replacement was successful."
   ]
  },
  {
   "cell_type": "markdown",
   "metadata": {},
   "source": [
    "## Dataset visualization "
   ]
  },
  {
   "cell_type": "code",
   "execution_count": null,
   "metadata": {},
   "outputs": [
    {
     "data": {
      "application/vnd.plotly.v1+json": {
       "config": {
        "plotlyServerURL": "https://plot.ly"
       },
       "data": [
        {
         "name": "Khmelnytskyi NPP",
         "type": "scatter",
         "visible": true,
         "x": [
          "31.03.2018",
          "30.06.2018",
          "30.09.2018",
          "31.12.2018",
          "31.03.2019",
          "30.06.2019",
          "30.09.2019",
          "31.12.2019",
          "31.03.2020",
          "30.06.2020",
          "30.09.2020",
          "31.12.2020",
          "31.03.2021",
          "30.06.2021",
          "30.09.2021",
          "31.12.2021",
          "31.03.2022",
          "30.06.2022",
          "30.09.2022",
          "31.12.2022",
          "31.03.2023",
          "30.06.2023",
          "30.09.2023",
          "31.12.2023",
          "31.03.2024",
          "30.06.2024",
          "30.09.2024",
          "31.12.2024"
         ],
         "y": {
          "bdata": "KVyPwvUovD9xPQrXo3DNPylcj8L1KLw/pHA9CtejwD+kcD0K16PAP7gehetRuL4/MzMzMzMzwz+4HoXrUbi+P7gehetRuL4/w/UoXI/CxT+kcD0K16PAP6RwPQrXo8A/pHA9CtejwD8K16NwPQrHP8P1KFyPwsU/7FG4HoXrwT8pXI/C9Si8P3sUrkfhesQ/uB6F61G4vj/sUbgeheuxP+xRuB6F67E/UrgehetR4D+amZmZmZnhP9ejcD0K19M/KVyPwvUo3D+kcD0K16PgPzMzMzMzM+s/CtejcD0K1z8=",
          "dtype": "f8"
         }
        },
        {
         "name": "Rivne NPP",
         "type": "scatter",
         "visible": true,
         "x": [
          "31.03.2018",
          "30.06.2018",
          "30.09.2018",
          "31.12.2018",
          "31.03.2019",
          "30.06.2019",
          "30.09.2019",
          "31.12.2019",
          "31.03.2020",
          "30.06.2020",
          "30.09.2020",
          "31.12.2020",
          "31.03.2021",
          "30.06.2021",
          "30.09.2021",
          "31.12.2021",
          "31.03.2022",
          "30.06.2022",
          "30.09.2022",
          "31.12.2022",
          "31.03.2023",
          "30.06.2023",
          "30.09.2023",
          "31.12.2023",
          "31.03.2024",
          "30.06.2024",
          "30.09.2024",
          "31.12.2024"
         ],
         "y": {
          "bdata": "9ihcj8L16D9xPQrXo3DtP2ZmZmZmZuY/H4XrUbge5T+amZmZmZnpPx+F61G4Hu0/ZmZmZmZm5j+kcD0K16PoP65H4XoUru8/w/UoXI/C7T+PwvUoXI/qP3sUrkfheuQ/9ihcj8L16D8fhetRuB7lP7gehetRuN4/FK5H4XoU3j+amZmZmZnhPylcj8L1KOQ/4XoUrkfh4j+4HoXrUbjmPzMzMzMzM+M/CtejcD0K5z8zMzMzMzPjPylcj8L1KOQ/cT0K16Nw3T/hehSuR+HiPz0K16NwPdo/4XoUrkfh2j8=",
          "dtype": "f8"
         }
        },
        {
         "name": "South Ukrainian NPP",
         "type": "scatter",
         "visible": true,
         "x": [
          "31.03.2018",
          "30.06.2018",
          "30.09.2018",
          "31.12.2018",
          "31.03.2019",
          "30.06.2019",
          "30.09.2019",
          "31.12.2019",
          "31.03.2020",
          "30.06.2020",
          "30.09.2020",
          "31.12.2020",
          "31.03.2021",
          "30.06.2021",
          "30.09.2021",
          "31.12.2021",
          "31.03.2022",
          "30.06.2022",
          "30.09.2022",
          "31.12.2022",
          "31.03.2023",
          "30.06.2023",
          "30.09.2023",
          "31.12.2023",
          "31.03.2024",
          "30.06.2024",
          "30.09.2024",
          "31.12.2024"
         ],
         "y": {
          "bdata": "nMQgsHJowT9SuB6F61HIPwAAAAAAANA/CtejcD0Kxz/8qfHSTWLYP5qZmZmZmck/lkOLbOf7yT+gGi/dJAbBP7gehetRuM4/3SQGgZVDyz/+1HjpJjHIP166SQwCK8c/1XjpJjEIzD+amZmZmZnJP4XrUbgeBRJAzczMzMzMDEDNzMzMzMwOQFK4HoXrUQhA16NwPQrXB0BxPQrXo3ANQAAAAAAAAA5AuB6F61G4EkBI4XoUrkcRQKAaL90kBgxAJQaBlUOLDUCR7Xw/Nd4TQLTIdr6fmhNABFYOLbIdEkA=",
          "dtype": "f8"
         }
        },
        {
         "name": "Zaporizhzhia NPP",
         "type": "scatter",
         "visible": true,
         "x": [
          "31.03.2018",
          "30.06.2018",
          "30.09.2018",
          "31.12.2018",
          "31.03.2019",
          "30.06.2019",
          "30.09.2019",
          "31.12.2019",
          "31.03.2020",
          "30.06.2020",
          "30.09.2020",
          "31.12.2020",
          "31.03.2021",
          "30.06.2021",
          "30.09.2021",
          "31.12.2021",
          "31.03.2022",
          "30.06.2022",
          "30.09.2022",
          "31.12.2022",
          "31.03.2023",
          "30.06.2023",
          "30.09.2023",
          "31.12.2023",
          "31.03.2024",
          "30.06.2024",
          "30.09.2024",
          "31.12.2024"
         ],
         "y": {
          "bdata": "30+Nl24Swz9xPQrXo3C9P9ejcD0K1+s/FK5H4XoU7j+PwvUoXI/qPwrXo3A9Cuc/cT0K16Nw7T+uR+F6FK7vPwAAAAAAAOg/rkfhehSu7z9I4XoUrkfxP2ZmZmZmZu4/4XoUrkfh6j8AAAAAAADoP1K4HoXrUeg/j8L1KFyP6j8UrkfhehTuPx+F61G4HvE/4XoUrkfh6j8AAAAAAAD4fwAAAAAAAPh/AAAAAAAA+H8AAAAAAAD4fwAAAAAAAPh/AAAAAAAA+H8AAAAAAAD4fwAAAAAAAPh/AAAAAAAA+H8=",
          "dtype": "f8"
         }
        }
       ],
       "layout": {
        "height": 600,
        "legend": {
         "bgcolor": "rgba(0,0,0,0)",
         "borderwidth": 1,
         "font": {
          "color": "white",
          "size": 12
         },
         "itemwidth": 40,
         "orientation": "v",
         "title": {
          "text": "Station"
         },
         "x": 1.02,
         "xanchor": "left",
         "y": 1,
         "yanchor": "top"
        },
        "margin": {
         "r": 150
        },
        "template": {
         "data": {
          "bar": [
           {
            "error_x": {
             "color": "#f2f5fa"
            },
            "error_y": {
             "color": "#f2f5fa"
            },
            "marker": {
             "line": {
              "color": "rgb(17,17,17)",
              "width": 0.5
             },
             "pattern": {
              "fillmode": "overlay",
              "size": 10,
              "solidity": 0.2
             }
            },
            "type": "bar"
           }
          ],
          "barpolar": [
           {
            "marker": {
             "line": {
              "color": "rgb(17,17,17)",
              "width": 0.5
             },
             "pattern": {
              "fillmode": "overlay",
              "size": 10,
              "solidity": 0.2
             }
            },
            "type": "barpolar"
           }
          ],
          "carpet": [
           {
            "aaxis": {
             "endlinecolor": "#A2B1C6",
             "gridcolor": "#506784",
             "linecolor": "#506784",
             "minorgridcolor": "#506784",
             "startlinecolor": "#A2B1C6"
            },
            "baxis": {
             "endlinecolor": "#A2B1C6",
             "gridcolor": "#506784",
             "linecolor": "#506784",
             "minorgridcolor": "#506784",
             "startlinecolor": "#A2B1C6"
            },
            "type": "carpet"
           }
          ],
          "choropleth": [
           {
            "colorbar": {
             "outlinewidth": 0,
             "ticks": ""
            },
            "type": "choropleth"
           }
          ],
          "contour": [
           {
            "colorbar": {
             "outlinewidth": 0,
             "ticks": ""
            },
            "colorscale": [
             [
              0,
              "#0d0887"
             ],
             [
              0.1111111111111111,
              "#46039f"
             ],
             [
              0.2222222222222222,
              "#7201a8"
             ],
             [
              0.3333333333333333,
              "#9c179e"
             ],
             [
              0.4444444444444444,
              "#bd3786"
             ],
             [
              0.5555555555555556,
              "#d8576b"
             ],
             [
              0.6666666666666666,
              "#ed7953"
             ],
             [
              0.7777777777777778,
              "#fb9f3a"
             ],
             [
              0.8888888888888888,
              "#fdca26"
             ],
             [
              1,
              "#f0f921"
             ]
            ],
            "type": "contour"
           }
          ],
          "contourcarpet": [
           {
            "colorbar": {
             "outlinewidth": 0,
             "ticks": ""
            },
            "type": "contourcarpet"
           }
          ],
          "heatmap": [
           {
            "colorbar": {
             "outlinewidth": 0,
             "ticks": ""
            },
            "colorscale": [
             [
              0,
              "#0d0887"
             ],
             [
              0.1111111111111111,
              "#46039f"
             ],
             [
              0.2222222222222222,
              "#7201a8"
             ],
             [
              0.3333333333333333,
              "#9c179e"
             ],
             [
              0.4444444444444444,
              "#bd3786"
             ],
             [
              0.5555555555555556,
              "#d8576b"
             ],
             [
              0.6666666666666666,
              "#ed7953"
             ],
             [
              0.7777777777777778,
              "#fb9f3a"
             ],
             [
              0.8888888888888888,
              "#fdca26"
             ],
             [
              1,
              "#f0f921"
             ]
            ],
            "type": "heatmap"
           }
          ],
          "histogram": [
           {
            "marker": {
             "pattern": {
              "fillmode": "overlay",
              "size": 10,
              "solidity": 0.2
             }
            },
            "type": "histogram"
           }
          ],
          "histogram2d": [
           {
            "colorbar": {
             "outlinewidth": 0,
             "ticks": ""
            },
            "colorscale": [
             [
              0,
              "#0d0887"
             ],
             [
              0.1111111111111111,
              "#46039f"
             ],
             [
              0.2222222222222222,
              "#7201a8"
             ],
             [
              0.3333333333333333,
              "#9c179e"
             ],
             [
              0.4444444444444444,
              "#bd3786"
             ],
             [
              0.5555555555555556,
              "#d8576b"
             ],
             [
              0.6666666666666666,
              "#ed7953"
             ],
             [
              0.7777777777777778,
              "#fb9f3a"
             ],
             [
              0.8888888888888888,
              "#fdca26"
             ],
             [
              1,
              "#f0f921"
             ]
            ],
            "type": "histogram2d"
           }
          ],
          "histogram2dcontour": [
           {
            "colorbar": {
             "outlinewidth": 0,
             "ticks": ""
            },
            "colorscale": [
             [
              0,
              "#0d0887"
             ],
             [
              0.1111111111111111,
              "#46039f"
             ],
             [
              0.2222222222222222,
              "#7201a8"
             ],
             [
              0.3333333333333333,
              "#9c179e"
             ],
             [
              0.4444444444444444,
              "#bd3786"
             ],
             [
              0.5555555555555556,
              "#d8576b"
             ],
             [
              0.6666666666666666,
              "#ed7953"
             ],
             [
              0.7777777777777778,
              "#fb9f3a"
             ],
             [
              0.8888888888888888,
              "#fdca26"
             ],
             [
              1,
              "#f0f921"
             ]
            ],
            "type": "histogram2dcontour"
           }
          ],
          "mesh3d": [
           {
            "colorbar": {
             "outlinewidth": 0,
             "ticks": ""
            },
            "type": "mesh3d"
           }
          ],
          "parcoords": [
           {
            "line": {
             "colorbar": {
              "outlinewidth": 0,
              "ticks": ""
             }
            },
            "type": "parcoords"
           }
          ],
          "pie": [
           {
            "automargin": true,
            "type": "pie"
           }
          ],
          "scatter": [
           {
            "marker": {
             "line": {
              "color": "#283442"
             }
            },
            "type": "scatter"
           }
          ],
          "scatter3d": [
           {
            "line": {
             "colorbar": {
              "outlinewidth": 0,
              "ticks": ""
             }
            },
            "marker": {
             "colorbar": {
              "outlinewidth": 0,
              "ticks": ""
             }
            },
            "type": "scatter3d"
           }
          ],
          "scattercarpet": [
           {
            "marker": {
             "colorbar": {
              "outlinewidth": 0,
              "ticks": ""
             }
            },
            "type": "scattercarpet"
           }
          ],
          "scattergeo": [
           {
            "marker": {
             "colorbar": {
              "outlinewidth": 0,
              "ticks": ""
             }
            },
            "type": "scattergeo"
           }
          ],
          "scattergl": [
           {
            "marker": {
             "line": {
              "color": "#283442"
             }
            },
            "type": "scattergl"
           }
          ],
          "scattermap": [
           {
            "marker": {
             "colorbar": {
              "outlinewidth": 0,
              "ticks": ""
             }
            },
            "type": "scattermap"
           }
          ],
          "scattermapbox": [
           {
            "marker": {
             "colorbar": {
              "outlinewidth": 0,
              "ticks": ""
             }
            },
            "type": "scattermapbox"
           }
          ],
          "scatterpolar": [
           {
            "marker": {
             "colorbar": {
              "outlinewidth": 0,
              "ticks": ""
             }
            },
            "type": "scatterpolar"
           }
          ],
          "scatterpolargl": [
           {
            "marker": {
             "colorbar": {
              "outlinewidth": 0,
              "ticks": ""
             }
            },
            "type": "scatterpolargl"
           }
          ],
          "scatterternary": [
           {
            "marker": {
             "colorbar": {
              "outlinewidth": 0,
              "ticks": ""
             }
            },
            "type": "scatterternary"
           }
          ],
          "surface": [
           {
            "colorbar": {
             "outlinewidth": 0,
             "ticks": ""
            },
            "colorscale": [
             [
              0,
              "#0d0887"
             ],
             [
              0.1111111111111111,
              "#46039f"
             ],
             [
              0.2222222222222222,
              "#7201a8"
             ],
             [
              0.3333333333333333,
              "#9c179e"
             ],
             [
              0.4444444444444444,
              "#bd3786"
             ],
             [
              0.5555555555555556,
              "#d8576b"
             ],
             [
              0.6666666666666666,
              "#ed7953"
             ],
             [
              0.7777777777777778,
              "#fb9f3a"
             ],
             [
              0.8888888888888888,
              "#fdca26"
             ],
             [
              1,
              "#f0f921"
             ]
            ],
            "type": "surface"
           }
          ],
          "table": [
           {
            "cells": {
             "fill": {
              "color": "#506784"
             },
             "line": {
              "color": "rgb(17,17,17)"
             }
            },
            "header": {
             "fill": {
              "color": "#2a3f5f"
             },
             "line": {
              "color": "rgb(17,17,17)"
             }
            },
            "type": "table"
           }
          ]
         },
         "layout": {
          "annotationdefaults": {
           "arrowcolor": "#f2f5fa",
           "arrowhead": 0,
           "arrowwidth": 1
          },
          "autotypenumbers": "strict",
          "coloraxis": {
           "colorbar": {
            "outlinewidth": 0,
            "ticks": ""
           }
          },
          "colorscale": {
           "diverging": [
            [
             0,
             "#8e0152"
            ],
            [
             0.1,
             "#c51b7d"
            ],
            [
             0.2,
             "#de77ae"
            ],
            [
             0.3,
             "#f1b6da"
            ],
            [
             0.4,
             "#fde0ef"
            ],
            [
             0.5,
             "#f7f7f7"
            ],
            [
             0.6,
             "#e6f5d0"
            ],
            [
             0.7,
             "#b8e186"
            ],
            [
             0.8,
             "#7fbc41"
            ],
            [
             0.9,
             "#4d9221"
            ],
            [
             1,
             "#276419"
            ]
           ],
           "sequential": [
            [
             0,
             "#0d0887"
            ],
            [
             0.1111111111111111,
             "#46039f"
            ],
            [
             0.2222222222222222,
             "#7201a8"
            ],
            [
             0.3333333333333333,
             "#9c179e"
            ],
            [
             0.4444444444444444,
             "#bd3786"
            ],
            [
             0.5555555555555556,
             "#d8576b"
            ],
            [
             0.6666666666666666,
             "#ed7953"
            ],
            [
             0.7777777777777778,
             "#fb9f3a"
            ],
            [
             0.8888888888888888,
             "#fdca26"
            ],
            [
             1,
             "#f0f921"
            ]
           ],
           "sequentialminus": [
            [
             0,
             "#0d0887"
            ],
            [
             0.1111111111111111,
             "#46039f"
            ],
            [
             0.2222222222222222,
             "#7201a8"
            ],
            [
             0.3333333333333333,
             "#9c179e"
            ],
            [
             0.4444444444444444,
             "#bd3786"
            ],
            [
             0.5555555555555556,
             "#d8576b"
            ],
            [
             0.6666666666666666,
             "#ed7953"
            ],
            [
             0.7777777777777778,
             "#fb9f3a"
            ],
            [
             0.8888888888888888,
             "#fdca26"
            ],
            [
             1,
             "#f0f921"
            ]
           ]
          },
          "colorway": [
           "#636efa",
           "#EF553B",
           "#00cc96",
           "#ab63fa",
           "#FFA15A",
           "#19d3f3",
           "#FF6692",
           "#B6E880",
           "#FF97FF",
           "#FECB52"
          ],
          "font": {
           "color": "#f2f5fa"
          },
          "geo": {
           "bgcolor": "rgb(17,17,17)",
           "lakecolor": "rgb(17,17,17)",
           "landcolor": "rgb(17,17,17)",
           "showlakes": true,
           "showland": true,
           "subunitcolor": "#506784"
          },
          "hoverlabel": {
           "align": "left"
          },
          "hovermode": "closest",
          "mapbox": {
           "style": "dark"
          },
          "paper_bgcolor": "rgb(17,17,17)",
          "plot_bgcolor": "rgb(17,17,17)",
          "polar": {
           "angularaxis": {
            "gridcolor": "#506784",
            "linecolor": "#506784",
            "ticks": ""
           },
           "bgcolor": "rgb(17,17,17)",
           "radialaxis": {
            "gridcolor": "#506784",
            "linecolor": "#506784",
            "ticks": ""
           }
          },
          "scene": {
           "xaxis": {
            "backgroundcolor": "rgb(17,17,17)",
            "gridcolor": "#506784",
            "gridwidth": 2,
            "linecolor": "#506784",
            "showbackground": true,
            "ticks": "",
            "zerolinecolor": "#C8D4E3"
           },
           "yaxis": {
            "backgroundcolor": "rgb(17,17,17)",
            "gridcolor": "#506784",
            "gridwidth": 2,
            "linecolor": "#506784",
            "showbackground": true,
            "ticks": "",
            "zerolinecolor": "#C8D4E3"
           },
           "zaxis": {
            "backgroundcolor": "rgb(17,17,17)",
            "gridcolor": "#506784",
            "gridwidth": 2,
            "linecolor": "#506784",
            "showbackground": true,
            "ticks": "",
            "zerolinecolor": "#C8D4E3"
           }
          },
          "shapedefaults": {
           "line": {
            "color": "#f2f5fa"
           }
          },
          "sliderdefaults": {
           "bgcolor": "#C8D4E3",
           "bordercolor": "rgb(17,17,17)",
           "borderwidth": 1,
           "tickwidth": 0
          },
          "ternary": {
           "aaxis": {
            "gridcolor": "#506784",
            "linecolor": "#506784",
            "ticks": ""
           },
           "baxis": {
            "gridcolor": "#506784",
            "linecolor": "#506784",
            "ticks": ""
           },
           "bgcolor": "rgb(17,17,17)",
           "caxis": {
            "gridcolor": "#506784",
            "linecolor": "#506784",
            "ticks": ""
           }
          },
          "title": {
           "x": 0.05
          },
          "updatemenudefaults": {
           "bgcolor": "#506784",
           "borderwidth": 0
          },
          "xaxis": {
           "automargin": true,
           "gridcolor": "#283442",
           "linecolor": "#506784",
           "ticks": "",
           "title": {
            "standoff": 15
           },
           "zerolinecolor": "#283442",
           "zerolinewidth": 2
          },
          "yaxis": {
           "automargin": true,
           "gridcolor": "#283442",
           "linecolor": "#506784",
           "ticks": "",
           "title": {
            "standoff": 15
           },
           "zerolinecolor": "#283442",
           "zerolinewidth": 2
          }
         }
        },
        "title": {
         "text": "Radioactive Release — Zaporizhzhia NPP"
        },
        "updatemenus": [
         {
          "active": 0,
          "buttons": [
           {
            "args": [
             {
              "visible": [
               true,
               true,
               true,
               true
              ]
             },
             {
              "title": "Radioactive Release — All Station"
             }
            ],
            "label": "All",
            "method": "update"
           },
           {
            "args": [
             {
              "visible": [
               true,
               false,
               false,
               false
              ]
             },
             {
              "title": "Radioactive Release — Khmelnytskyi NPP"
             }
            ],
            "label": "Khmelnytskyi NPP",
            "method": "update"
           },
           {
            "args": [
             {
              "visible": [
               false,
               true,
               false,
               false
              ]
             },
             {
              "title": "Radioactive Release — Rivne NPP"
             }
            ],
            "label": "Rivne NPP",
            "method": "update"
           },
           {
            "args": [
             {
              "visible": [
               false,
               false,
               true,
               false
              ]
             },
             {
              "title": "Radioactive Release — South Ukrainian NPP"
             }
            ],
            "label": "South Ukrainian NPP",
            "method": "update"
           },
           {
            "args": [
             {
              "visible": [
               false,
               false,
               false,
               true
              ]
             },
             {
              "title": "Radioactive Release — Zaporizhzhia NPP"
             }
            ],
            "label": "Zaporizhzhia NPP",
            "method": "update"
           }
          ],
          "type": "dropdown",
          "x": 1,
          "xanchor": "right",
          "y": 1.2
         }
        ],
        "width": 800,
        "xaxis": {
         "domain": [
          0,
          0.94
         ],
         "showgrid": true,
         "showline": true,
         "tickangle": -45,
         "title": {
          "text": "Date"
         }
        },
        "yaxis": {
         "range": [
          0,
          5.967
         ],
         "title": {
          "text": "Release Index"
         }
        }
       }
      }
     },
     "metadata": {},
     "output_type": "display_data"
    }
   ],
   "source": [
    "import plotly.graph_objects as go\n",
    "\n",
    "stations_en_list = sorted(set(station_map.values()))\n",
    "index_radioactive_max = dataset_df[\"index_radioactive_releas\"].max()\n",
    "\n",
    "fig = go.Figure()\n",
    "\n",
    "# Create a separate graph with data for each station.\n",
    "traces = []\n",
    "for i, station in enumerate(stations_en_list):\n",
    "    df_station = dataset_df[dataset_df[\"station_en\"] == station]\n",
    "\n",
    "    trace = go.Scatter(\n",
    "        x=df_station[\"date\"],\n",
    "        y=df_station[\"index_radioactive_releas\"],\n",
    "        name=station,\n",
    "        visible=True,\n",
    "    )\n",
    "    traces.append(trace)\n",
    "    fig.add_trace(trace)\n",
    "\n",
    "# Customize buttons for selecting stations.\n",
    "buttons = []\n",
    "\n",
    "# Button for selecting all stations.\n",
    "buttons.append(\n",
    "    dict(\n",
    "        label=\"All\",\n",
    "        method=\"update\",\n",
    "        args=[\n",
    "            {\"visible\": [True] * len(traces)},\n",
    "            {\"title\": \"Radioactive Release — All Station\"},\n",
    "        ],\n",
    "    )\n",
    ")\n",
    "\n",
    "# Buttons for selecting separately station.\n",
    "for i, station in enumerate(stations_en_list):\n",
    "    visibility = [False] * len(traces)\n",
    "    visibility[i] = True\n",
    "    buttons.append(\n",
    "        dict(\n",
    "            label=station,\n",
    "            method=\"update\",\n",
    "            args=[\n",
    "                {\"visible\": visibility},\n",
    "                {\"title\": f\"Radioactive Release — {station}\"},\n",
    "            ],\n",
    "        )\n",
    "    )\n",
    "\n",
    "# Add a menu.\n",
    "fig.update_layout(\n",
    "    updatemenus=[\n",
    "        dict(\n",
    "            type=\"dropdown\",\n",
    "            active=0,\n",
    "            buttons=buttons,\n",
    "            xanchor=\"right\",\n",
    "            x=1,\n",
    "            y=1.2,\n",
    "        )\n",
    "    ],\n",
    "    title=f\"Radioactive Release — {station}\",\n",
    "    xaxis_title=\"Date\",\n",
    "    xaxis=dict(tickangle=-45, showgrid=True, showline=True, domain=[0, 0.94]),\n",
    "    yaxis_title=\"Release Index\",\n",
    "    yaxis=dict(range=[0, index_radioactive_max + 1]),\n",
    "    template=\"plotly_dark\",\n",
    "    width=800,\n",
    "    height=600,\n",
    "    legend=dict(\n",
    "        title=\"Station\",\n",
    "        orientation=\"v\",  # вертикальне розміщення\n",
    "        x=1.02,  # праворуч від графіку\n",
    "        y=1,  # зверху\n",
    "        xanchor=\"left\",  # легенда притиснута до лівого краю x=1.02\n",
    "        yanchor=\"top\",\n",
    "        bgcolor=\"rgba(0,0,0,0)\",  # прозорий фон\n",
    "        borderwidth=1,\n",
    "        font=dict(\n",
    "            size=12,\n",
    "            color=\"white\",  # або \"black\" залежно від теми\n",
    "        ),\n",
    "        itemwidth=40,  # фіксує ширину кожного елементу (потрібно для стабільності)\n",
    "    ),\n",
    "    margin=dict(r=150),\n",
    ")\n",
    "\n",
    "fig.show()"
   ]
  },
  {
   "cell_type": "code",
   "execution_count": null,
   "metadata": {},
   "outputs": [
    {
     "data": {
      "application/vnd.plotly.v1+json": {
       "config": {
        "plotlyServerURL": "https://plot.ly"
       },
       "data": [
        {
         "legendgroup": "Khmelnytskyi NPP",
         "name": "Khmelnytskyi NPP",
         "type": "scatter",
         "visible": false,
         "x": [
          "31.03.2018",
          "30.06.2018",
          "30.09.2018",
          "31.12.2018",
          "31.03.2019",
          "30.06.2019",
          "30.09.2019",
          "31.12.2019",
          "31.03.2020",
          "30.06.2020",
          "30.09.2020",
          "31.12.2020",
          "31.03.2021",
          "30.06.2021",
          "30.09.2021",
          "31.12.2021",
          "31.03.2022",
          "30.06.2022",
          "30.09.2022",
          "31.12.2022",
          "31.03.2023",
          "30.06.2023",
          "30.09.2023",
          "31.12.2023",
          "31.03.2024",
          "30.06.2024",
          "30.09.2024",
          "31.12.2024"
         ],
         "y": {
          "bdata": "zczMzMzMOkCamZmZmZk7QAAAAAAAAD5AAAAAAACAQEBmZmZmZqZAQAAAAAAAgEFAAAAAAAAAQEAAAAAAAIBAQAAAAAAAAD9AAAAAAAAAQkAAAAAAAABBQAAAAAAAAEBAAAAAAAAAP0AAAAAAAMBUQAAAAAAAgENAAAAAAAAAPEAAAAAAAABVQAAAAAAAgEBAAAAAAAAAP0AAAAAAAAA8QAAAAAAAAD5AAAAAAAAAPUAAAAAAAABLQAAAAAAAAD9AAAAAAAAAP0AAAAAAAAA/QAAAAAAAgENAAAAAAAAAPkA=",
          "dtype": "f8"
         }
        },
        {
         "legendgroup": "Rivne NPP",
         "name": "Rivne NPP",
         "type": "scatter",
         "visible": false,
         "x": [
          "31.03.2018",
          "30.06.2018",
          "30.09.2018",
          "31.12.2018",
          "31.03.2019",
          "30.06.2019",
          "30.09.2019",
          "31.12.2019",
          "31.03.2020",
          "30.06.2020",
          "30.09.2020",
          "31.12.2020",
          "31.03.2021",
          "30.06.2021",
          "30.09.2021",
          "31.12.2021",
          "31.03.2022",
          "30.06.2022",
          "30.09.2022",
          "31.12.2022",
          "31.03.2023",
          "30.06.2023",
          "30.09.2023",
          "31.12.2023",
          "31.03.2024",
          "30.06.2024",
          "30.09.2024",
          "31.12.2024"
         ],
         "y": {
          "bdata": "AAAAAABgYkAAAAAAAEBSQAAAAAAAgEZAAAAAAABAU0AAAAAAAIBDQAAAAAAAgEJAAAAAAAAAREAAAAAAAIBCQAAAAAAAAEJAAAAAAAAAOkAAAAAAAAA/QAAAAAAAAD9AAAAAAAAAP0AAAAAAAAA/QAAAAAAAAD1AAAAAAADAUEAAAAAAAABCQAAAAAAAAGZAAAAAAAAAP0AAAAAAAIBXQAAAAAAAQHZAAAAAAADAaEAAAAAAAABCQAAAAAAAQFBAAAAAAAAAQEAAAAAAAAA+QAAAAAAAADNAAAAAAAAAMEA=",
          "dtype": "f8"
         }
        },
        {
         "legendgroup": "South Ukrainian NPP",
         "name": "South Ukrainian NPP",
         "type": "scatter",
         "visible": false,
         "x": [
          "31.03.2018",
          "30.06.2018",
          "30.09.2018",
          "31.12.2018",
          "31.03.2019",
          "30.06.2019",
          "30.09.2019",
          "31.12.2019",
          "31.03.2020",
          "30.06.2020",
          "30.09.2020",
          "31.12.2020",
          "31.03.2021",
          "30.06.2021",
          "30.09.2021",
          "31.12.2021",
          "31.03.2022",
          "30.06.2022",
          "30.09.2022",
          "31.12.2022",
          "31.03.2023",
          "30.06.2023",
          "30.09.2023",
          "31.12.2023",
          "31.03.2024",
          "30.06.2024",
          "30.09.2024",
          "31.12.2024"
         ],
         "y": {
          "bdata": "AAAAAAAAU0AAAAAAAMBSQAAAAAAAAFZAAAAAAABAVUAAAAAAAMBUQAAAAAAAAFVAAAAAAAAAUUAAAAAAAIBLQAAAAAAAAE5AAAAAAAAwcEAAAAAAAIBRQAAAAAAAQFFAAAAAAADAVEAAAAAAAMBYQAAAAAAAwFJAAAAAAAAAWEAAAAAAAMBUQAAAAAAAgFhAAAAAAABAUEAAAAAAAABTQAAAAAAAQFBAAAAAAAAAVkAAAAAAAEBZQAAAAAAAAFVAAAAAAADAUUAAAAAAAMBVQAAAAAAAwFhAAAAAAADAUEA=",
          "dtype": "f8"
         }
        },
        {
         "legendgroup": "Zaporizhzhia NPP",
         "name": "Zaporizhzhia NPP",
         "type": "scatter",
         "visible": false,
         "x": [
          "31.03.2018",
          "30.06.2018",
          "30.09.2018",
          "31.12.2018",
          "31.03.2019",
          "30.06.2019",
          "30.09.2019",
          "31.12.2019",
          "31.03.2020",
          "30.06.2020",
          "30.09.2020",
          "31.12.2020",
          "31.03.2021",
          "30.06.2021",
          "30.09.2021",
          "31.12.2021",
          "31.03.2022",
          "30.06.2022",
          "30.09.2022",
          "31.12.2022",
          "31.03.2023",
          "30.06.2023",
          "30.09.2023",
          "31.12.2023",
          "31.03.2024",
          "30.06.2024",
          "30.09.2024",
          "31.12.2024"
         ],
         "y": {
          "bdata": "AAAAAABAcEAAAAAAAGBwQAAAAAAAYG1AAAAAAAAAbkAAAAAAAJBwQAAAAAAAQG1AAAAAAACgb0AAAAAAAECBQAAAAAAAQG9AAAAAAABAb0AAAAAAAABwQAAAAAAAIG5AAAAAAAAgbkAAAAAAAOBhQAAAAAAAwFBAAAAAAAAAT0AAAAAAAEBQQAAAAAAAAFBAAAAAAAAAUEAAAAAAAAD4fwAAAAAAAPh/AAAAAAAA+H8AAAAAAAD4fwAAAAAAAPh/AAAAAAAA+H8AAAAAAAD4fwAAAAAAAPh/AAAAAAAA+H8=",
          "dtype": "f8"
         }
        },
        {
         "legendgroup": "Khmelnytskyi NPP",
         "name": "Khmelnytskyi NPP",
         "type": "scatter",
         "visible": false,
         "x": [
          "31.03.2018",
          "30.06.2018",
          "30.09.2018",
          "31.12.2018",
          "31.03.2019",
          "30.06.2019",
          "30.09.2019",
          "31.12.2019",
          "31.03.2020",
          "30.06.2020",
          "30.09.2020",
          "31.12.2020",
          "31.03.2021",
          "30.06.2021",
          "30.09.2021",
          "31.12.2021",
          "31.03.2022",
          "30.06.2022",
          "30.09.2022",
          "31.12.2022",
          "31.03.2023",
          "30.06.2023",
          "30.09.2023",
          "31.12.2023",
          "31.03.2024",
          "30.06.2024",
          "30.09.2024",
          "31.12.2024"
         ],
         "y": {
          "bdata": "AAAAAAAA+H8AAAAAAAD4fwAAAAAAAPh/AAAAAAAA+H8AAAAAAAD4fwAAAAAAAPh/AAAAAAAA+H8AAAAAAAD4fwAAAAAAAPh/AAAAAAAA+H8AAAAAAAD4fwAAAAAAAPh/AAAAAAAA+H8AAAAAAAD4fwAAAAAAAPh/AAAAAAAA+H8AAAAAAAD4fwAAAAAAAPh/AAAAAAAA+H8AAAAAAAD4fwAAAAAAAPh/AAAAAAAA+H8AAAAAAAD4fwAAAAAAAPh/AAAAAAAA+H8AAAAAAAD4fwAAAAAAAPh/AAAAAAAA+H8=",
          "dtype": "f8"
         }
        },
        {
         "legendgroup": "Rivne NPP",
         "name": "Rivne NPP",
         "type": "scatter",
         "visible": false,
         "x": [
          "31.03.2018",
          "30.06.2018",
          "30.09.2018",
          "31.12.2018",
          "31.03.2019",
          "30.06.2019",
          "30.09.2019",
          "31.12.2019",
          "31.03.2020",
          "30.06.2020",
          "30.09.2020",
          "31.12.2020",
          "31.03.2021",
          "30.06.2021",
          "30.09.2021",
          "31.12.2021",
          "31.03.2022",
          "30.06.2022",
          "30.09.2022",
          "31.12.2022",
          "31.03.2023",
          "30.06.2023",
          "30.09.2023",
          "31.12.2023",
          "31.03.2024",
          "30.06.2024",
          "30.09.2024",
          "31.12.2024"
         ],
         "y": {
          "bdata": "AAAAAAAA+H8AAAAAAAD4fwAAAAAAAPh/AAAAAAAA+H8AAAAAAAD4fwAAAAAAAPh/AAAAAAAA+H8AAAAAAAD4fwAAAAAAAPh/AAAAAAAA+H8AAAAAAAD4fwAAAAAAAPh/AAAAAAAA+H8AAAAAAAD4fwAAAAAAAPh/AAAAAAAA+H8AAAAAAAD4fwAAAAAAAPh/AAAAAAAA+H8AAAAAAAD4fwAAAAAAAPh/AAAAAAAA+H8AAAAAAAD4fwAAAAAAAPh/AAAAAAAA+H8AAAAAAAD4fwAAAAAAAPh/AAAAAAAA+H8=",
          "dtype": "f8"
         }
        },
        {
         "legendgroup": "South Ukrainian NPP",
         "name": "South Ukrainian NPP",
         "type": "scatter",
         "visible": false,
         "x": [
          "31.03.2018",
          "30.06.2018",
          "30.09.2018",
          "31.12.2018",
          "31.03.2019",
          "30.06.2019",
          "30.09.2019",
          "31.12.2019",
          "31.03.2020",
          "30.06.2020",
          "30.09.2020",
          "31.12.2020",
          "31.03.2021",
          "30.06.2021",
          "30.09.2021",
          "31.12.2021",
          "31.03.2022",
          "30.06.2022",
          "30.09.2022",
          "31.12.2022",
          "31.03.2023",
          "30.06.2023",
          "30.09.2023",
          "31.12.2023",
          "31.03.2024",
          "30.06.2024",
          "30.09.2024",
          "31.12.2024"
         ],
         "y": {
          "bdata": "AAAAAAAA+H8AAAAAAAD4fwAAAAAAAPh/AAAAAAAA+H8AAAAAAAD4fwAAAAAAAPh/AAAAAAAA+H8AAAAAAAD4fwAAAAAAAPh/AAAAAAAA+H8AAAAAAAD4fwAAAAAAAPh/AAAAAAAA+H8AAAAAAAD4fwAAAAAAAPh/AAAAAAAA+H8AAAAAAAD4fwAAAAAAAPh/AAAAAAAA+H8AAAAAAAD4fwAAAAAAAPh/AAAAAAAA+H8AAAAAAAD4fwAAAAAAAPh/AAAAAAAA+H8AAAAAAAD4fwAAAAAAAPh/AAAAAAAA+H8=",
          "dtype": "f8"
         }
        },
        {
         "legendgroup": "Zaporizhzhia NPP",
         "name": "Zaporizhzhia NPP",
         "type": "scatter",
         "visible": false,
         "x": [
          "31.03.2018",
          "30.06.2018",
          "30.09.2018",
          "31.12.2018",
          "31.03.2019",
          "30.06.2019",
          "30.09.2019",
          "31.12.2019",
          "31.03.2020",
          "30.06.2020",
          "30.09.2020",
          "31.12.2020",
          "31.03.2021",
          "30.06.2021",
          "30.09.2021",
          "31.12.2021",
          "31.03.2022",
          "30.06.2022",
          "30.09.2022",
          "31.12.2022",
          "31.03.2023",
          "30.06.2023",
          "30.09.2023",
          "31.12.2023",
          "31.03.2024",
          "30.06.2024",
          "30.09.2024",
          "31.12.2024"
         ],
         "y": {
          "bdata": "AAAAAAAA+H8AAAAAAAD4fwAAAAAAAPh/AAAAAAAA+H8AAAAAAAD4fwAAAAAAAPh/AAAAAAAA+H8AAAAAAAD4fwAAAAAAAPh/AAAAAAAA+H8AAAAAAAD4fwAAAAAAAPh/AAAAAAAA+H8AAAAAAAD4fwAAAAAAAPh/AAAAAAAA+H8AAAAAAAD4fwAAAAAAAPh/AAAAAAAA+H8AAAAAAAD4fwAAAAAAAPh/AAAAAAAA+H8AAAAAAAD4fwAAAAAAAPh/AAAAAAAA+H8AAAAAAAD4fwAAAAAAAPh/AAAAAAAA+H8=",
          "dtype": "f8"
         }
        },
        {
         "legendgroup": "Khmelnytskyi NPP",
         "name": "Khmelnytskyi NPP",
         "type": "scatter",
         "visible": false,
         "x": [
          "31.03.2018",
          "30.06.2018",
          "30.09.2018",
          "31.12.2018",
          "31.03.2019",
          "30.06.2019",
          "30.09.2019",
          "31.12.2019",
          "31.03.2020",
          "30.06.2020",
          "30.09.2020",
          "31.12.2020",
          "31.03.2021",
          "30.06.2021",
          "30.09.2021",
          "31.12.2021",
          "31.03.2022",
          "30.06.2022",
          "30.09.2022",
          "31.12.2022",
          "31.03.2023",
          "30.06.2023",
          "30.09.2023",
          "31.12.2023",
          "31.03.2024",
          "30.06.2024",
          "30.09.2024",
          "31.12.2024"
         ],
         "y": {
          "bdata": "AAAAAADAQkCamZmZmZk7QAAAAAAAAD5AAAAAAAAAREAzMzMzMzNBQJqZmZmZmUFAAAAAAACAQEAAAAAAAIBDQAAAAAAAAD9AAAAAAACAQkAAAAAAAIBAQAAAAAAAgENAAAAAAAAAP0AAAAAAAIBDQAAAAAAAgEFAAAAAAAAAPEAAAAAAAABAQAAAAAAAAEJAAAAAAACAQEAAAAAAAAA8QAAAAAAAAD5AAAAAAAAAPUAAAAAAAIBBQAAAAAAAAEBAAAAAAAAAP0AAAAAAAAA/QAAAAAAAgEBAAAAAAAAAQ0A=",
          "dtype": "f8"
         }
        },
        {
         "legendgroup": "Rivne NPP",
         "name": "Rivne NPP",
         "type": "scatter",
         "visible": false,
         "x": [
          "31.03.2018",
          "30.06.2018",
          "30.09.2018",
          "31.12.2018",
          "31.03.2019",
          "30.06.2019",
          "30.09.2019",
          "31.12.2019",
          "31.03.2020",
          "30.06.2020",
          "30.09.2020",
          "31.12.2020",
          "31.03.2021",
          "30.06.2021",
          "30.09.2021",
          "31.12.2021",
          "31.03.2022",
          "30.06.2022",
          "30.09.2022",
          "31.12.2022",
          "31.03.2023",
          "30.06.2023",
          "30.09.2023",
          "31.12.2023",
          "31.03.2024",
          "30.06.2024",
          "30.09.2024",
          "31.12.2024"
         ],
         "y": {
          "bdata": "AAAAAADQcEAAAAAAAOBsQAAAAAAAQGpAAAAAAADga0AAAAAAACBpQAAAAAAA8HFAAAAAAAAgckAAAAAAAPBwQAAAAAAAMHJAAAAAAACgbEAAAAAAABByQAAAAAAAwG5AAAAAAAAgbEAAAAAAAEBmQAAAAAAAYGZAAAAAAABwc0AAAAAAAGBsQAAAAAAAAHBAAAAAAACAbUAAAAAAAGBrQAAAAAAAcHNAAAAAAACAckAAAAAAAGB0QAAAAAAAYGxAAAAAAAAAbkAAAAAAAKB2QAAAAAAAkHJAAAAAAADgbUA=",
          "dtype": "f8"
         }
        },
        {
         "legendgroup": "South Ukrainian NPP",
         "name": "South Ukrainian NPP",
         "type": "scatter",
         "visible": false,
         "x": [
          "31.03.2018",
          "30.06.2018",
          "30.09.2018",
          "31.12.2018",
          "31.03.2019",
          "30.06.2019",
          "30.09.2019",
          "31.12.2019",
          "31.03.2020",
          "30.06.2020",
          "30.09.2020",
          "31.12.2020",
          "31.03.2021",
          "30.06.2021",
          "30.09.2021",
          "31.12.2021",
          "31.03.2022",
          "30.06.2022",
          "30.09.2022",
          "31.12.2022",
          "31.03.2023",
          "30.06.2023",
          "30.09.2023",
          "31.12.2023",
          "31.03.2024",
          "30.06.2024",
          "30.09.2024",
          "31.12.2024"
         ],
         "y": {
          "bdata": "AAAAAAAAXUAAAAAAACBmQAAAAAAAQGRAAAAAAAAAaUAAAAAAAKBkQAAAAAAAwHBAAAAAAABgd0AAAAAAAMB3QAAAAAAAIG1AAAAAAABAbEAAAAAAALByQAAAAAAAUHBAAAAAAABgY0AAAAAAAKBmQAAAAAAAgHBAAAAAAABgcUAAAAAAAKBoQAAAAAAA4GtAAAAAAAAga0AAAAAAACBsQAAAAAAAIGJAAAAAAABgZUAAAAAAAEBoQAAAAAAAAGlAAAAAAADgZEAAAAAAAEBjQAAAAAAAYGlAAAAAAADAWUA=",
          "dtype": "f8"
         }
        },
        {
         "legendgroup": "Zaporizhzhia NPP",
         "name": "Zaporizhzhia NPP",
         "type": "scatter",
         "visible": false,
         "x": [
          "31.03.2018",
          "30.06.2018",
          "30.09.2018",
          "31.12.2018",
          "31.03.2019",
          "30.06.2019",
          "30.09.2019",
          "31.12.2019",
          "31.03.2020",
          "30.06.2020",
          "30.09.2020",
          "31.12.2020",
          "31.03.2021",
          "30.06.2021",
          "30.09.2021",
          "31.12.2021",
          "31.03.2022",
          "30.06.2022",
          "30.09.2022",
          "31.12.2022",
          "31.03.2023",
          "30.06.2023",
          "30.09.2023",
          "31.12.2023",
          "31.03.2024",
          "30.06.2024",
          "30.09.2024",
          "31.12.2024"
         ],
         "y": {
          "bdata": "AAAAAABQhEAAAAAAAACEQAAAAAAAGINAAAAAAABwh0AAAAAAAMiFQAAAAAAA6INAAAAAAADYgUAAAAAAALCDQAAAAAAAkH9AAAAAAABYgEAAAAAAAEiGQAAAAAAAiIZAAAAAAAAQe0AAAAAAACCEQAAAAAAAqIVAAAAAAACQh0AAAAAAAOCCQAAAAAAAQH9AAAAAAAAgfEAAAAAAAAD4fwAAAAAAAPh/AAAAAAAA+H8AAAAAAAD4fwAAAAAAAPh/AAAAAAAA+H8AAAAAAAD4fwAAAAAAAPh/AAAAAAAA+H8=",
          "dtype": "f8"
         }
        },
        {
         "legendgroup": "Khmelnytskyi NPP",
         "name": "Khmelnytskyi NPP",
         "type": "scatter",
         "visible": false,
         "x": [
          "31.03.2018",
          "30.06.2018",
          "30.09.2018",
          "31.12.2018",
          "31.03.2019",
          "30.06.2019",
          "30.09.2019",
          "31.12.2019",
          "31.03.2020",
          "30.06.2020",
          "30.09.2020",
          "31.12.2020",
          "31.03.2021",
          "30.06.2021",
          "30.09.2021",
          "31.12.2021",
          "31.03.2022",
          "30.06.2022",
          "30.09.2022",
          "31.12.2022",
          "31.03.2023",
          "30.06.2023",
          "30.09.2023",
          "31.12.2023",
          "31.03.2024",
          "30.06.2024",
          "30.09.2024",
          "31.12.2024"
         ],
         "y": {
          "bdata": "ZmZmZmZmPUCamZmZmRk1QAAAAAAAADhAAAAAAABAWUBmZmZmZmYmQJqZmZmZGTlAAAAAAAAANkAAAAAAAAAwQAAAAAAAADJAAAAAAAAAM0AAAAAAAAAzQAAAAAAAADBAAAAAAAAAM0AAAAAAAAA2QAAAAAAAADRAAAAAAAAANkAAAAAAAIBBQAAAAAAAAERAAAAAAAAAPkAAAAAAAIBEQAAAAAAAgE1AAAAAAAAAP0AAAAAAAIBAQAAAAAAAgEJAAAAAAACATEAAAAAAAABAQAAAAAAAAEZAAAAAAAAAUEA=",
          "dtype": "f8"
         }
        },
        {
         "legendgroup": "Rivne NPP",
         "name": "Rivne NPP",
         "type": "scatter",
         "visible": false,
         "x": [
          "31.03.2018",
          "30.06.2018",
          "30.09.2018",
          "31.12.2018",
          "31.03.2019",
          "30.06.2019",
          "30.09.2019",
          "31.12.2019",
          "31.03.2020",
          "30.06.2020",
          "30.09.2020",
          "31.12.2020",
          "31.03.2021",
          "30.06.2021",
          "30.09.2021",
          "31.12.2021",
          "31.03.2022",
          "30.06.2022",
          "30.09.2022",
          "31.12.2022",
          "31.03.2023",
          "30.06.2023",
          "30.09.2023",
          "31.12.2023",
          "31.03.2024",
          "30.06.2024",
          "30.09.2024",
          "31.12.2024"
         ],
         "y": {
          "bdata": "AAAAAABYgkAAAAAAAPB2QAAAAAAAsHJAAAAAAACAZ0AAAAAAAMBzQAAAAAAAoGZAAAAAAABgckAAAAAAAICGQAAAAAAAeIhAAAAAAAAAZ0AAAAAAACByQAAAAAAAAGFAAAAAAADwdUAAAAAAAMBvQAAAAAAAcHhAAAAAAADgbkAAAAAAAMBjQAAAAAAAaINAAAAAAABYkEAAAAAAAPB6QAAAAAAAIGBAAAAAAACQdEAAAAAAAKCAQAAAAAAAQHRAAAAAAACAbkAAAAAAAOBjQAAAAAAAQGZAAAAAAADgZUA=",
          "dtype": "f8"
         }
        },
        {
         "legendgroup": "South Ukrainian NPP",
         "name": "South Ukrainian NPP",
         "type": "scatter",
         "visible": false,
         "x": [
          "31.03.2018",
          "30.06.2018",
          "30.09.2018",
          "31.12.2018",
          "31.03.2019",
          "30.06.2019",
          "30.09.2019",
          "31.12.2019",
          "31.03.2020",
          "30.06.2020",
          "30.09.2020",
          "31.12.2020",
          "31.03.2021",
          "30.06.2021",
          "30.09.2021",
          "31.12.2021",
          "31.03.2022",
          "30.06.2022",
          "30.09.2022",
          "31.12.2022",
          "31.03.2023",
          "30.06.2023",
          "30.09.2023",
          "31.12.2023",
          "31.03.2024",
          "30.06.2024",
          "30.09.2024",
          "31.12.2024"
         ],
         "y": {
          "bdata": "AAAAAAAAYUAAAAAAAMBZQAAAAAAAgFtAAAAAAABAVkAAAAAAAIBGQAAAAAAAwFNAAAAAAABAU0AAAAAAAMBSQAAAAAAAQFJAAAAAAAAAUkAAAAAAAABHQAAAAAAAgEBAAAAAAACASEAAAAAAAIBGQAAAAAAAgEtAAAAAAAAAOUAAAAAAAIBAQAAAAAAAQFhAAAAAAACASkAAAAAAAIBRQAAAAAAAAD5AAAAAAACAS0AAAAAAAIBLQAAAAAAAgEBAAAAAAAAANUAAAAAAAIBAQAAAAAAAgEFAAAAAAAAAN0A=",
          "dtype": "f8"
         }
        },
        {
         "legendgroup": "Zaporizhzhia NPP",
         "name": "Zaporizhzhia NPP",
         "type": "scatter",
         "visible": false,
         "x": [
          "31.03.2018",
          "30.06.2018",
          "30.09.2018",
          "31.12.2018",
          "31.03.2019",
          "30.06.2019",
          "30.09.2019",
          "31.12.2019",
          "31.03.2020",
          "30.06.2020",
          "30.09.2020",
          "31.12.2020",
          "31.03.2021",
          "30.06.2021",
          "30.09.2021",
          "31.12.2021",
          "31.03.2022",
          "30.06.2022",
          "30.09.2022",
          "31.12.2022",
          "31.03.2023",
          "30.06.2023",
          "30.09.2023",
          "31.12.2023",
          "31.03.2024",
          "30.06.2024",
          "30.09.2024",
          "31.12.2024"
         ],
         "y": {
          "bdata": "AAAAAADwnkAAAAAAAFB8QAAAAAAAYItAAAAAAAAAc0AAAAAAANCZQAAAAAAAwGxAAAAAAADAckAAAAAAAEBtQAAAAAAAuIVAAAAAAACAbkAAAAAAAOB4QAAAAAAA4G1AAAAAAAAAcEAAAAAAAKiEQAAAAAAAkHBAAAAAAACAf0AAAAAAAIagQAAAAAAAmI9AAAAAAABAaUAAAAAAAAD4fwAAAAAAAPh/AAAAAAAA+H8AAAAAAAD4fwAAAAAAAPh/AAAAAAAA+H8AAAAAAAD4fwAAAAAAAPh/AAAAAAAA+H8=",
          "dtype": "f8"
         }
        },
        {
         "legendgroup": "Khmelnytskyi NPP",
         "name": "Khmelnytskyi NPP",
         "type": "scatter",
         "visible": false,
         "x": [
          "31.03.2018",
          "30.06.2018",
          "30.09.2018",
          "31.12.2018",
          "31.03.2019",
          "30.06.2019",
          "30.09.2019",
          "31.12.2019",
          "31.03.2020",
          "30.06.2020",
          "30.09.2020",
          "31.12.2020",
          "31.03.2021",
          "30.06.2021",
          "30.09.2021",
          "31.12.2021",
          "31.03.2022",
          "30.06.2022",
          "30.09.2022",
          "31.12.2022",
          "31.03.2023",
          "30.06.2023",
          "30.09.2023",
          "31.12.2023",
          "31.03.2024",
          "30.06.2024",
          "30.09.2024",
          "31.12.2024"
         ],
         "y": {
          "bdata": "mpmZmZmZK0BmZmZmZmYoQAAAAAAAACpAAAAAAADAWUBmZmZmZmY4QAAAAAAAACxAAAAAAAAAUEAAAAAAAIBZQAAAAAAAAC5AAAAAAABgZUAAAAAAAAAyQAAAAAAAgGhAAAAAAAAAKEAAAAAAAAAwQAAAAAAAACxAAAAAAAAALkAAAAAAAAA3QAAAAAAAADRAAAAAAAAANkAAAAAAAAAzQAAAAAAAADZAAAAAAAAAMUAAAAAAAAA3QAAAAAAAADBAAAAAAAAAMUAAAAAAAAAsQAAAAAAAADVAAAAAAAAAN0A=",
          "dtype": "f8"
         }
        },
        {
         "legendgroup": "Rivne NPP",
         "name": "Rivne NPP",
         "type": "scatter",
         "visible": false,
         "x": [
          "31.03.2018",
          "30.06.2018",
          "30.09.2018",
          "31.12.2018",
          "31.03.2019",
          "30.06.2019",
          "30.09.2019",
          "31.12.2019",
          "31.03.2020",
          "30.06.2020",
          "30.09.2020",
          "31.12.2020",
          "31.03.2021",
          "30.06.2021",
          "30.09.2021",
          "31.12.2021",
          "31.03.2022",
          "30.06.2022",
          "30.09.2022",
          "31.12.2022",
          "31.03.2023",
          "30.06.2023",
          "30.09.2023",
          "31.12.2023",
          "31.03.2024",
          "30.06.2024",
          "30.09.2024",
          "31.12.2024"
         ],
         "y": {
          "bdata": "AAAAAACgZEAAAAAAAJBxQAAAAAAAaIFAAAAAAAAAUkAAAAAAAOBzQAAAAAAAbqxAAAAAAAA4ikAAAAAAAMB1QAAAAAAA+ItAAAAAAADwe0AAAAAAAPB7QAAAAAAAIHpAAAAAAACUk0AAAAAAAECIQAAAAAAAkHFAAAAAAAB4gUAAAAAAAECLQAAAAAAAOIJAAAAAAAAgaUAAAAAAAEBdQAAAAAAAoIdAAAAAAAAgiEAAAAAAAMiMQAAAAAAAwGJAAAAAAAAgYEAAAAAAABidQAAAAAAAAHdAAAAAAACAX0A=",
          "dtype": "f8"
         }
        },
        {
         "legendgroup": "South Ukrainian NPP",
         "name": "South Ukrainian NPP",
         "type": "scatter",
         "visible": false,
         "x": [
          "31.03.2018",
          "30.06.2018",
          "30.09.2018",
          "31.12.2018",
          "31.03.2019",
          "30.06.2019",
          "30.09.2019",
          "31.12.2019",
          "31.03.2020",
          "30.06.2020",
          "30.09.2020",
          "31.12.2020",
          "31.03.2021",
          "30.06.2021",
          "30.09.2021",
          "31.12.2021",
          "31.03.2022",
          "30.06.2022",
          "30.09.2022",
          "31.12.2022",
          "31.03.2023",
          "30.06.2023",
          "30.09.2023",
          "31.12.2023",
          "31.03.2024",
          "30.06.2024",
          "30.09.2024",
          "31.12.2024"
         ],
         "y": {
          "bdata": "AAAAAABQd0AAAAAAABB8QAAAAAAAoHlAAAAAAACQcUAAAAAAAOBiQAAAAAAAUHxAAAAAAABgfEAAAAAAAGB1QAAAAAAAUHFAAAAAAADAdEAAAAAAAMB5QAAAAAAAwG9AAAAAAAAgcUAAAAAAAIBkQAAAAAAAsH1AAAAAAACwekAAAAAAAIBmQAAAAAAA0HBAAAAAAADAY0AAAAAAAIBqQAAAAAAAgGNAAAAAAAAAbEAAAAAAAMBxQAAAAAAAwGJAAAAAAAAAQkAAAAAAAEBpQAAAAAAA4HJAAAAAAADAXkA=",
          "dtype": "f8"
         }
        },
        {
         "legendgroup": "Zaporizhzhia NPP",
         "name": "Zaporizhzhia NPP",
         "type": "scatter",
         "visible": false,
         "x": [
          "31.03.2018",
          "30.06.2018",
          "30.09.2018",
          "31.12.2018",
          "31.03.2019",
          "30.06.2019",
          "30.09.2019",
          "31.12.2019",
          "31.03.2020",
          "30.06.2020",
          "30.09.2020",
          "31.12.2020",
          "31.03.2021",
          "30.06.2021",
          "30.09.2021",
          "31.12.2021",
          "31.03.2022",
          "30.06.2022",
          "30.09.2022",
          "31.12.2022",
          "31.03.2023",
          "30.06.2023",
          "30.09.2023",
          "31.12.2023",
          "31.03.2024",
          "30.06.2024",
          "30.09.2024",
          "31.12.2024"
         ],
         "y": {
          "bdata": "AAAAAADgj0AAAAAAAFiPQAAAAAAAIGlAAAAAAAAgi0AAAAAAAICNQAAAAAAAYHVAAAAAAACge0AAAAAAAPB0QAAAAAAAYGdAAAAAAACAZ0AAAAAAAOBoQAAAAAAAgF1AAAAAAADAa0AAAAAAAEB0QAAAAAAA0HJAAAAAAADgdkAAAAAAANB5QAAAAAAAkHNAAAAAAABgZEAAAAAAAAD4fwAAAAAAAPh/AAAAAAAA+H8AAAAAAAD4fwAAAAAAAPh/AAAAAAAA+H8AAAAAAAD4fwAAAAAAAPh/AAAAAAAA+H8=",
          "dtype": "f8"
         }
        },
        {
         "legendgroup": "Khmelnytskyi NPP",
         "name": "Khmelnytskyi NPP",
         "type": "scatter",
         "visible": false,
         "x": [
          "31.03.2018",
          "30.06.2018",
          "30.09.2018",
          "31.12.2018",
          "31.03.2019",
          "30.06.2019",
          "30.09.2019",
          "31.12.2019",
          "31.03.2020",
          "30.06.2020",
          "30.09.2020",
          "31.12.2020",
          "31.03.2021",
          "30.06.2021",
          "30.09.2021",
          "31.12.2021",
          "31.03.2022",
          "30.06.2022",
          "30.09.2022",
          "31.12.2022",
          "31.03.2023",
          "30.06.2023",
          "30.09.2023",
          "31.12.2023",
          "31.03.2024",
          "30.06.2024",
          "30.09.2024",
          "31.12.2024"
         ],
         "y": {
          "bdata": "AAAAAADAd0AAAAAAAJCVQAAAAAAA4IVAAAAAAACUmEAAAAAAAHBwQAAAAAAAuJVAAAAAAAAYgUAAAAAAAES2QAAAAAAAgGJAAAAAAADwc0AAAAAAAHiIQAAAAAAA+JtAAAAAAACYjUAAAAAAAHiFQAAAAAAAWIJAAAAAAABYgkAAAAAAAOCAQAAAAAAA2I5AAAAAAAAAbUAAAAAAAJB1QAAAAAAAwFBAAAAAAADgc0AAAAAAAABYQAAAAAAAcKJAAAAAAADgg0AAAAAAADiYQAAAAAAACJtAAAAAAAAAYEA=",
          "dtype": "f8"
         }
        },
        {
         "legendgroup": "Rivne NPP",
         "name": "Rivne NPP",
         "type": "scatter",
         "visible": false,
         "x": [
          "31.03.2018",
          "30.06.2018",
          "30.09.2018",
          "31.12.2018",
          "31.03.2019",
          "30.06.2019",
          "30.09.2019",
          "31.12.2019",
          "31.03.2020",
          "30.06.2020",
          "30.09.2020",
          "31.12.2020",
          "31.03.2021",
          "30.06.2021",
          "30.09.2021",
          "31.12.2021",
          "31.03.2022",
          "30.06.2022",
          "30.09.2022",
          "31.12.2022",
          "31.03.2023",
          "30.06.2023",
          "30.09.2023",
          "31.12.2023",
          "31.03.2024",
          "30.06.2024",
          "30.09.2024",
          "31.12.2024"
         ],
         "y": {
          "bdata": "AAAAAADAskAAAAAAAMTKQAAAAAAAhMpAAAAAAAAzykAAAAAAwMPTQAAAAAAA68lAAAAAAIA+zkAAAAAAAGfQQAAAAACAictAAAAAAACdvEAAAAAAgMrHQAAAAAAAQb5AAAAAAAAltUAAAAAAAJDKQAAAAAAAMMpAAAAAAIBqw0AAAAAAAPO2QAAAAAAA58BAAAAAAACkwUAAAAAAAFm0QAAAAAAAoLVAAAAAAAA9s0AAAAAAAHi5QAAAAAAAb7dAAAAAAAAqqUAAAAAAAGiqQAAAAAAAtbZAAAAAAAAuq0A=",
          "dtype": "f8"
         }
        },
        {
         "legendgroup": "South Ukrainian NPP",
         "name": "South Ukrainian NPP",
         "type": "scatter",
         "visible": false,
         "x": [
          "31.03.2018",
          "30.06.2018",
          "30.09.2018",
          "31.12.2018",
          "31.03.2019",
          "30.06.2019",
          "30.09.2019",
          "31.12.2019",
          "31.03.2020",
          "30.06.2020",
          "30.09.2020",
          "31.12.2020",
          "31.03.2021",
          "30.06.2021",
          "30.09.2021",
          "31.12.2021",
          "31.03.2022",
          "30.06.2022",
          "30.09.2022",
          "31.12.2022",
          "31.03.2023",
          "30.06.2023",
          "30.09.2023",
          "31.12.2023",
          "31.03.2024",
          "30.06.2024",
          "30.09.2024",
          "31.12.2024"
         ],
         "y": {
          "bdata": "AAAAAABgeEAAAAAAAIqiQAAAAAAArJdAAAAAAADwcUAAAAAAAPB9QAAAAAAAAIlAAAAAAAB6oEAAAAAAAOBvQAAAAAAAgHxAAAAAAABQfUAAAAAAAMSQQAAAAAAAMHVAAAAAAAAWoEAAAAAAAMiBQAAAAAAAeINAAAAAAACgYkAAAAAAAEiDQAAAAAAAaIRAAAAAAADgaEAAAAAAANCCQAAAAAAAQGRAAAAAAAConkAAAAAAAGOyQAAAAAAAIHNAAAAAAABAdkAAAAAAAGimQAAAAABAVdNAAAAAAACEpEA=",
          "dtype": "f8"
         }
        },
        {
         "legendgroup": "Zaporizhzhia NPP",
         "name": "Zaporizhzhia NPP",
         "type": "scatter",
         "visible": false,
         "x": [
          "31.03.2018",
          "30.06.2018",
          "30.09.2018",
          "31.12.2018",
          "31.03.2019",
          "30.06.2019",
          "30.09.2019",
          "31.12.2019",
          "31.03.2020",
          "30.06.2020",
          "30.09.2020",
          "31.12.2020",
          "31.03.2021",
          "30.06.2021",
          "30.09.2021",
          "31.12.2021",
          "31.03.2022",
          "30.06.2022",
          "30.09.2022",
          "31.12.2022",
          "31.03.2023",
          "30.06.2023",
          "30.09.2023",
          "31.12.2023",
          "31.03.2024",
          "30.06.2024",
          "30.09.2024",
          "31.12.2024"
         ],
         "y": {
          "bdata": "AAAAAADqsEAAAAAAABOyQAAAAAAAArdAAAAAAAAgrEAAAAAAADCsQAAAAAAAyq1AAAAAAADcqEAAAAAAAGytQAAAAAAAzKxAAAAAAIDtwUAAAAAAAMbTQAAAAAAAJbFAAAAAAACpsEAAAAAAANqzQAAAAAAA5KpAAAAAAAC+qUAAAAAAADKoQAAAAAAA+qtAAAAAAADEn0AAAAAAAAD4fwAAAAAAAPh/AAAAAAAA+H8AAAAAAAD4fwAAAAAAAPh/AAAAAAAA+H8AAAAAAAD4fwAAAAAAAPh/AAAAAAAA+H8=",
          "dtype": "f8"
         }
        },
        {
         "legendgroup": "Khmelnytskyi NPP",
         "name": "Khmelnytskyi NPP",
         "type": "scatter",
         "visible": false,
         "x": [
          "31.03.2018",
          "30.06.2018",
          "30.09.2018",
          "31.12.2018",
          "31.03.2019",
          "30.06.2019",
          "30.09.2019",
          "31.12.2019",
          "31.03.2020",
          "30.06.2020",
          "30.09.2020",
          "31.12.2020",
          "31.03.2021",
          "30.06.2021",
          "30.09.2021",
          "31.12.2021",
          "31.03.2022",
          "30.06.2022",
          "30.09.2022",
          "31.12.2022",
          "31.03.2023",
          "30.06.2023",
          "30.09.2023",
          "31.12.2023",
          "31.03.2024",
          "30.06.2024",
          "30.09.2024",
          "31.12.2024"
         ],
         "y": {
          "bdata": "AAAAAAAA+H8AAAAAAAD4fwAAAAAAAPh/AAAAAAAA+H8AAAAAAAD4fwAAAAAAAPh/AAAAAAAA+H8AAAAAAAD4fwAAAAAAAPh/AAAAAAAA+H8AAAAAAAD4fwAAAAAAAPh/AAAAAAAA+H8AAAAAAAD4fwAAAAAAAPh/AAAAAAAA+H8AAAAAAAD4fwAAAAAAAFNAAAAAAAAALkAAAAAAAAAcQK5H4XoUrgFAZmZmZmZmIkAzMzMzMzMRQAAAAAAAwFtAAAAAAAAAOUAAAAAAAABAQAAAAAAAgENAAAAAAAAAKkA=",
          "dtype": "f8"
         }
        },
        {
         "legendgroup": "Rivne NPP",
         "name": "Rivne NPP",
         "type": "scatter",
         "visible": false,
         "x": [
          "31.03.2018",
          "30.06.2018",
          "30.09.2018",
          "31.12.2018",
          "31.03.2019",
          "30.06.2019",
          "30.09.2019",
          "31.12.2019",
          "31.03.2020",
          "30.06.2020",
          "30.09.2020",
          "31.12.2020",
          "31.03.2021",
          "30.06.2021",
          "30.09.2021",
          "31.12.2021",
          "31.03.2022",
          "30.06.2022",
          "30.09.2022",
          "31.12.2022",
          "31.03.2023",
          "30.06.2023",
          "30.09.2023",
          "31.12.2023",
          "31.03.2024",
          "30.06.2024",
          "30.09.2024",
          "31.12.2024"
         ],
         "y": {
          "bdata": "AAAAAABgg0AAAAAAAGiJQAAAAAAAWIRAAAAAAAAAfUAAAAAAAPSZQAAAAAAAgI1AAAAAAADYhUAAAAAAACiFQAAAAAAA4IhAAAAAAABAhEAAAAAAALiJQAAAAAAACIJAAAAAAADkkEAAAAAAAGiJQAAAAAAAMIhAAAAAAABgfkAAAAAAACiAQAAAAAAASJZAAAAAAABMmEAAAAAAACCHQAAAAAAAaIFAAAAAAABQh0AAAAAAAAiFQAAAAAAAQIFAAAAAAADwf0AAAAAAAGCEQAAAAAAAeJNAAAAAAABIjEA=",
          "dtype": "f8"
         }
        },
        {
         "legendgroup": "South Ukrainian NPP",
         "name": "South Ukrainian NPP",
         "type": "scatter",
         "visible": false,
         "x": [
          "31.03.2018",
          "30.06.2018",
          "30.09.2018",
          "31.12.2018",
          "31.03.2019",
          "30.06.2019",
          "30.09.2019",
          "31.12.2019",
          "31.03.2020",
          "30.06.2020",
          "30.09.2020",
          "31.12.2020",
          "31.03.2021",
          "30.06.2021",
          "30.09.2021",
          "31.12.2021",
          "31.03.2022",
          "30.06.2022",
          "30.09.2022",
          "31.12.2022",
          "31.03.2023",
          "30.06.2023",
          "30.09.2023",
          "31.12.2023",
          "31.03.2024",
          "30.06.2024",
          "30.09.2024",
          "31.12.2024"
         ],
         "y": {
          "bdata": "AAAAAAAgd0AAAAAAAMCFQAAAAAAAKIRAAAAAAADAYkAAAAAAABB4QAAAAAAAuIRAAAAAAAC4hEAAAAAAAMBWQAAAAAAAoGpAAAAAAACAd0AAAAAAADiFQAAAAAAAYG1AAAAAAACghUAAAAAAACCAQAAAAAAA0INAAAAAAABAVEAAAAAAACiCQAAAAAAASIRAAAAAAACgaEAAAAAAAPiDQAAAAAAAAGVAAAAAAADgnUAAAAAAAHCIQAAAAAAAoGJAAAAAAADgbEAAAAAAAHSbQAAAAAAAFbdAAAAAAADgZEA=",
          "dtype": "f8"
         }
        },
        {
         "legendgroup": "Zaporizhzhia NPP",
         "name": "Zaporizhzhia NPP",
         "type": "scatter",
         "visible": false,
         "x": [
          "31.03.2018",
          "30.06.2018",
          "30.09.2018",
          "31.12.2018",
          "31.03.2019",
          "30.06.2019",
          "30.09.2019",
          "31.12.2019",
          "31.03.2020",
          "30.06.2020",
          "30.09.2020",
          "31.12.2020",
          "31.03.2021",
          "30.06.2021",
          "30.09.2021",
          "31.12.2021",
          "31.03.2022",
          "30.06.2022",
          "30.09.2022",
          "31.12.2022",
          "31.03.2023",
          "30.06.2023",
          "30.09.2023",
          "31.12.2023",
          "31.03.2024",
          "30.06.2024",
          "30.09.2024",
          "31.12.2024"
         ],
         "y": {
          "bdata": "AAAAAACsrEAAAAAAANCqQAAAAAAAWKtAAAAAAAA4qEAAAAAAADatQAAAAAAA7KdAAAAAAADyq0AAAAAAAEaqQAAAAAAAFqxAAAAAAAA2qkAAAAAAAP2/QAAAAAAA9rBAAAAAAACcqkAAAAAAAHSrQAAAAAAACKhAAAAAAAAFs0AAAAAAAGynQAAAAAAAuqpAAAAAAACUwUAAAAAAAAD4fwAAAAAAAPh/AAAAAAAA+H8AAAAAAAD4fwAAAAAAAPh/AAAAAAAA+H8AAAAAAAD4fwAAAAAAAPh/AAAAAAAA+H8=",
          "dtype": "f8"
         }
        },
        {
         "legendgroup": "Khmelnytskyi NPP",
         "name": "Khmelnytskyi NPP",
         "type": "scatter",
         "visible": true,
         "x": [
          "31.03.2018",
          "30.06.2018",
          "30.09.2018",
          "31.12.2018",
          "31.03.2019",
          "30.06.2019",
          "30.09.2019",
          "31.12.2019",
          "31.03.2020",
          "30.06.2020",
          "30.09.2020",
          "31.12.2020",
          "31.03.2021",
          "30.06.2021",
          "30.09.2021",
          "31.12.2021",
          "31.03.2022",
          "30.06.2022",
          "30.09.2022",
          "31.12.2022",
          "31.03.2023",
          "30.06.2023",
          "30.09.2023",
          "31.12.2023",
          "31.03.2024",
          "30.06.2024",
          "30.09.2024",
          "31.12.2024"
         ],
         "y": {
          "bdata": "KVyPwvUovD9xPQrXo3DNPylcj8L1KLw/pHA9CtejwD+kcD0K16PAP7gehetRuL4/MzMzMzMzwz+4HoXrUbi+P7gehetRuL4/w/UoXI/CxT+kcD0K16PAP6RwPQrXo8A/pHA9CtejwD8K16NwPQrHP8P1KFyPwsU/7FG4HoXrwT8pXI/C9Si8P3sUrkfhesQ/uB6F61G4vj/sUbgeheuxP+xRuB6F67E/UrgehetR4D+amZmZmZnhP9ejcD0K19M/KVyPwvUo3D+kcD0K16PgPzMzMzMzM+s/CtejcD0K1z8=",
          "dtype": "f8"
         }
        },
        {
         "legendgroup": "Rivne NPP",
         "name": "Rivne NPP",
         "type": "scatter",
         "visible": true,
         "x": [
          "31.03.2018",
          "30.06.2018",
          "30.09.2018",
          "31.12.2018",
          "31.03.2019",
          "30.06.2019",
          "30.09.2019",
          "31.12.2019",
          "31.03.2020",
          "30.06.2020",
          "30.09.2020",
          "31.12.2020",
          "31.03.2021",
          "30.06.2021",
          "30.09.2021",
          "31.12.2021",
          "31.03.2022",
          "30.06.2022",
          "30.09.2022",
          "31.12.2022",
          "31.03.2023",
          "30.06.2023",
          "30.09.2023",
          "31.12.2023",
          "31.03.2024",
          "30.06.2024",
          "30.09.2024",
          "31.12.2024"
         ],
         "y": {
          "bdata": "9ihcj8L16D9xPQrXo3DtP2ZmZmZmZuY/H4XrUbge5T+amZmZmZnpPx+F61G4Hu0/ZmZmZmZm5j+kcD0K16PoP65H4XoUru8/w/UoXI/C7T+PwvUoXI/qP3sUrkfheuQ/9ihcj8L16D8fhetRuB7lP7gehetRuN4/FK5H4XoU3j+amZmZmZnhPylcj8L1KOQ/4XoUrkfh4j+4HoXrUbjmPzMzMzMzM+M/CtejcD0K5z8zMzMzMzPjPylcj8L1KOQ/cT0K16Nw3T/hehSuR+HiPz0K16NwPdo/4XoUrkfh2j8=",
          "dtype": "f8"
         }
        },
        {
         "legendgroup": "South Ukrainian NPP",
         "name": "South Ukrainian NPP",
         "type": "scatter",
         "visible": true,
         "x": [
          "31.03.2018",
          "30.06.2018",
          "30.09.2018",
          "31.12.2018",
          "31.03.2019",
          "30.06.2019",
          "30.09.2019",
          "31.12.2019",
          "31.03.2020",
          "30.06.2020",
          "30.09.2020",
          "31.12.2020",
          "31.03.2021",
          "30.06.2021",
          "30.09.2021",
          "31.12.2021",
          "31.03.2022",
          "30.06.2022",
          "30.09.2022",
          "31.12.2022",
          "31.03.2023",
          "30.06.2023",
          "30.09.2023",
          "31.12.2023",
          "31.03.2024",
          "30.06.2024",
          "30.09.2024",
          "31.12.2024"
         ],
         "y": {
          "bdata": "nMQgsHJowT9SuB6F61HIPwAAAAAAANA/CtejcD0Kxz/8qfHSTWLYP5qZmZmZmck/lkOLbOf7yT+gGi/dJAbBP7gehetRuM4/3SQGgZVDyz/+1HjpJjHIP166SQwCK8c/1XjpJjEIzD+amZmZmZnJP4XrUbgeBRJAzczMzMzMDEDNzMzMzMwOQFK4HoXrUQhA16NwPQrXB0BxPQrXo3ANQAAAAAAAAA5AuB6F61G4EkBI4XoUrkcRQKAaL90kBgxAJQaBlUOLDUCR7Xw/Nd4TQLTIdr6fmhNABFYOLbIdEkA=",
          "dtype": "f8"
         }
        },
        {
         "legendgroup": "Zaporizhzhia NPP",
         "name": "Zaporizhzhia NPP",
         "type": "scatter",
         "visible": true,
         "x": [
          "31.03.2018",
          "30.06.2018",
          "30.09.2018",
          "31.12.2018",
          "31.03.2019",
          "30.06.2019",
          "30.09.2019",
          "31.12.2019",
          "31.03.2020",
          "30.06.2020",
          "30.09.2020",
          "31.12.2020",
          "31.03.2021",
          "30.06.2021",
          "30.09.2021",
          "31.12.2021",
          "31.03.2022",
          "30.06.2022",
          "30.09.2022",
          "31.12.2022",
          "31.03.2023",
          "30.06.2023",
          "30.09.2023",
          "31.12.2023",
          "31.03.2024",
          "30.06.2024",
          "30.09.2024",
          "31.12.2024"
         ],
         "y": {
          "bdata": "30+Nl24Swz9xPQrXo3C9P9ejcD0K1+s/FK5H4XoU7j+PwvUoXI/qPwrXo3A9Cuc/cT0K16Nw7T+uR+F6FK7vPwAAAAAAAOg/rkfhehSu7z9I4XoUrkfxP2ZmZmZmZu4/4XoUrkfh6j8AAAAAAADoP1K4HoXrUeg/j8L1KFyP6j8UrkfhehTuPx+F61G4HvE/4XoUrkfh6j8AAAAAAAD4fwAAAAAAAPh/AAAAAAAA+H8AAAAAAAD4fwAAAAAAAPh/AAAAAAAA+H8AAAAAAAD4fwAAAAAAAPh/AAAAAAAA+H8=",
          "dtype": "f8"
         }
        },
        {
         "legendgroup": "Khmelnytskyi NPP",
         "name": "Khmelnytskyi NPP",
         "type": "scatter",
         "visible": false,
         "x": [
          "31.03.2018",
          "30.06.2018",
          "30.09.2018",
          "31.12.2018",
          "31.03.2019",
          "30.06.2019",
          "30.09.2019",
          "31.12.2019",
          "31.03.2020",
          "30.06.2020",
          "30.09.2020",
          "31.12.2020",
          "31.03.2021",
          "30.06.2021",
          "30.09.2021",
          "31.12.2021",
          "31.03.2022",
          "30.06.2022",
          "30.09.2022",
          "31.12.2022",
          "31.03.2023",
          "30.06.2023",
          "30.09.2023",
          "31.12.2023",
          "31.03.2024",
          "30.06.2024",
          "30.09.2024",
          "31.12.2024"
         ],
         "y": {
          "bdata": "uB6F61G4nj8pXI/C9Si8P6RwPQrXo8A/46WbxCCwwj8AAAAAAAD4f5HtfD81Xro/IbByaJHtvD8xCKwcWmTLP3sUrkfheoQ/uB6F61G4nj97FK5H4Xq0PwAAAAAAAMA/exSuR+F6pD/sUbgeheuxPylcj8L1KLw/7FG4HoXrwT+4HoXrUbiePzEIrBxaZLs/7FG4HoXrwT/sUbgehevBPwAAAAAAAPh/mpmZmZmZmT956SYxCKycPzEIrBxaZLs/7FG4HoXroT956SYxCKy8P/LSTWIQWMk/6SYxCKwcyj8=",
          "dtype": "f8"
         }
        },
        {
         "legendgroup": "Rivne NPP",
         "name": "Rivne NPP",
         "type": "scatter",
         "visible": false,
         "x": [
          "31.03.2018",
          "30.06.2018",
          "30.09.2018",
          "31.12.2018",
          "31.03.2019",
          "30.06.2019",
          "30.09.2019",
          "31.12.2019",
          "31.03.2020",
          "30.06.2020",
          "30.09.2020",
          "31.12.2020",
          "31.03.2021",
          "30.06.2021",
          "30.09.2021",
          "31.12.2021",
          "31.03.2022",
          "30.06.2022",
          "30.09.2022",
          "31.12.2022",
          "31.03.2023",
          "30.06.2023",
          "30.09.2023",
          "31.12.2023",
          "31.03.2024",
          "30.06.2024",
          "30.09.2024",
          "31.12.2024"
         ],
         "y": {
          "bdata": "+n5qvHSTuD/sUbgehevRP/YoXI/C9dg/AAAAAAAA4D+kcD0K16PQP3E9CtejcN0/j8L1KFyP4j9SuB6F61HoP4/C9Shcj9I/mpmZmZmZ4T9I4XoUrkfpP2ZmZmZmZu4/pHA9CtejwD/D9Shcj8LVPylcj8L1KOQ/PQrXo3A96j8pXI/C9Si8Pylcj8L1KMw/CtejcD0K1z+amZmZmZnhPylcj8L1KLw/SOF6FK5H0T9mZmZmZmbWP83MzMzMzNw/mpmZmZmZuT9SuB6F61HIP9ejcD0K19M/zczMzMzM3D8=",
          "dtype": "f8"
         }
        },
        {
         "legendgroup": "South Ukrainian NPP",
         "name": "South Ukrainian NPP",
         "type": "scatter",
         "visible": false,
         "x": [
          "31.03.2018",
          "30.06.2018",
          "30.09.2018",
          "31.12.2018",
          "31.03.2019",
          "30.06.2019",
          "30.09.2019",
          "31.12.2019",
          "31.03.2020",
          "30.06.2020",
          "30.09.2020",
          "31.12.2020",
          "31.03.2021",
          "30.06.2021",
          "30.09.2021",
          "31.12.2021",
          "31.03.2022",
          "30.06.2022",
          "30.09.2022",
          "31.12.2022",
          "31.03.2023",
          "30.06.2023",
          "30.09.2023",
          "31.12.2023",
          "31.03.2024",
          "30.06.2024",
          "30.09.2024",
          "31.12.2024"
         ],
         "y": {
          "bdata": "kxgEVg4t0j9cj8L1KFzvP7gehetRuPo/9ihcj8L1/D89CtejcD3aP0jhehSuR/E/O99PjZdu/j9WDi2yne//PwAAAAAAANA/CKwcWmQ74z8EVg4tsp3xP5MYBFYOLfY/IbByaJHt7D8AAAAAAAD4P/T91HjpJv8/j8L1KFyPAEDhehSuR+HiPwrXo3A9CvM/j8L1KFyP9j/Xo3A9CtcBQOF6FK5H4co/w/UoXI/CAUAfhetRuB4HQLx0kxgEVghAwcqhRbbzzT9/arx0kxgAQJMYBFYOLQ9AvHSTGATWEEA=",
          "dtype": "f8"
         }
        },
        {
         "legendgroup": "Zaporizhzhia NPP",
         "name": "Zaporizhzhia NPP",
         "type": "scatter",
         "visible": false,
         "x": [
          "31.03.2018",
          "30.06.2018",
          "30.09.2018",
          "31.12.2018",
          "31.03.2019",
          "30.06.2019",
          "30.09.2019",
          "31.12.2019",
          "31.03.2020",
          "30.06.2020",
          "30.09.2020",
          "31.12.2020",
          "31.03.2021",
          "30.06.2021",
          "30.09.2021",
          "31.12.2021",
          "31.03.2022",
          "30.06.2022",
          "30.09.2022",
          "31.12.2022",
          "31.03.2023",
          "30.06.2023",
          "30.09.2023",
          "31.12.2023",
          "31.03.2024",
          "30.06.2024",
          "30.09.2024",
          "31.12.2024"
         ],
         "y": {
          "bdata": "H4XrUbge1T8fhetRuB7tP1K4HoXrUfg/H4XrUbgeAUD2KFyPwvXYP83MzMzMzPA/PQrXo3A9+j8AAAAAAAAAQPYoXI/C9dg/ZmZmZmZm8j8pXI/C9Sj8P83MzMzMzAJA9ihcj8L12D8UrkfhehTmPwAAAAAAAPQ/7FG4HoXr+T+kcD0K16PAP4/C9Shcj+o/UrgehetR2D8AAAAAAAD4fwAAAAAAAPh/AAAAAAAA+H8AAAAAAAD4fwAAAAAAAPh/AAAAAAAA+H8AAAAAAAD4fwAAAAAAAPh/AAAAAAAA+H8=",
          "dtype": "f8"
         }
        }
       ],
       "layout": {
        "height": 600,
        "legend": {
         "bgcolor": "rgba(0,0,0,0)",
         "borderwidth": 1,
         "font": {
          "color": "white",
          "size": 12
         },
         "itemwidth": 40,
         "orientation": "v",
         "title": {
          "text": "Station"
         },
         "x": 1.02,
         "xanchor": "left",
         "y": 1,
         "yanchor": "top"
        },
        "margin": {
         "r": 200
        },
        "template": {
         "data": {
          "bar": [
           {
            "error_x": {
             "color": "#f2f5fa"
            },
            "error_y": {
             "color": "#f2f5fa"
            },
            "marker": {
             "line": {
              "color": "rgb(17,17,17)",
              "width": 0.5
             },
             "pattern": {
              "fillmode": "overlay",
              "size": 10,
              "solidity": 0.2
             }
            },
            "type": "bar"
           }
          ],
          "barpolar": [
           {
            "marker": {
             "line": {
              "color": "rgb(17,17,17)",
              "width": 0.5
             },
             "pattern": {
              "fillmode": "overlay",
              "size": 10,
              "solidity": 0.2
             }
            },
            "type": "barpolar"
           }
          ],
          "carpet": [
           {
            "aaxis": {
             "endlinecolor": "#A2B1C6",
             "gridcolor": "#506784",
             "linecolor": "#506784",
             "minorgridcolor": "#506784",
             "startlinecolor": "#A2B1C6"
            },
            "baxis": {
             "endlinecolor": "#A2B1C6",
             "gridcolor": "#506784",
             "linecolor": "#506784",
             "minorgridcolor": "#506784",
             "startlinecolor": "#A2B1C6"
            },
            "type": "carpet"
           }
          ],
          "choropleth": [
           {
            "colorbar": {
             "outlinewidth": 0,
             "ticks": ""
            },
            "type": "choropleth"
           }
          ],
          "contour": [
           {
            "colorbar": {
             "outlinewidth": 0,
             "ticks": ""
            },
            "colorscale": [
             [
              0,
              "#0d0887"
             ],
             [
              0.1111111111111111,
              "#46039f"
             ],
             [
              0.2222222222222222,
              "#7201a8"
             ],
             [
              0.3333333333333333,
              "#9c179e"
             ],
             [
              0.4444444444444444,
              "#bd3786"
             ],
             [
              0.5555555555555556,
              "#d8576b"
             ],
             [
              0.6666666666666666,
              "#ed7953"
             ],
             [
              0.7777777777777778,
              "#fb9f3a"
             ],
             [
              0.8888888888888888,
              "#fdca26"
             ],
             [
              1,
              "#f0f921"
             ]
            ],
            "type": "contour"
           }
          ],
          "contourcarpet": [
           {
            "colorbar": {
             "outlinewidth": 0,
             "ticks": ""
            },
            "type": "contourcarpet"
           }
          ],
          "heatmap": [
           {
            "colorbar": {
             "outlinewidth": 0,
             "ticks": ""
            },
            "colorscale": [
             [
              0,
              "#0d0887"
             ],
             [
              0.1111111111111111,
              "#46039f"
             ],
             [
              0.2222222222222222,
              "#7201a8"
             ],
             [
              0.3333333333333333,
              "#9c179e"
             ],
             [
              0.4444444444444444,
              "#bd3786"
             ],
             [
              0.5555555555555556,
              "#d8576b"
             ],
             [
              0.6666666666666666,
              "#ed7953"
             ],
             [
              0.7777777777777778,
              "#fb9f3a"
             ],
             [
              0.8888888888888888,
              "#fdca26"
             ],
             [
              1,
              "#f0f921"
             ]
            ],
            "type": "heatmap"
           }
          ],
          "histogram": [
           {
            "marker": {
             "pattern": {
              "fillmode": "overlay",
              "size": 10,
              "solidity": 0.2
             }
            },
            "type": "histogram"
           }
          ],
          "histogram2d": [
           {
            "colorbar": {
             "outlinewidth": 0,
             "ticks": ""
            },
            "colorscale": [
             [
              0,
              "#0d0887"
             ],
             [
              0.1111111111111111,
              "#46039f"
             ],
             [
              0.2222222222222222,
              "#7201a8"
             ],
             [
              0.3333333333333333,
              "#9c179e"
             ],
             [
              0.4444444444444444,
              "#bd3786"
             ],
             [
              0.5555555555555556,
              "#d8576b"
             ],
             [
              0.6666666666666666,
              "#ed7953"
             ],
             [
              0.7777777777777778,
              "#fb9f3a"
             ],
             [
              0.8888888888888888,
              "#fdca26"
             ],
             [
              1,
              "#f0f921"
             ]
            ],
            "type": "histogram2d"
           }
          ],
          "histogram2dcontour": [
           {
            "colorbar": {
             "outlinewidth": 0,
             "ticks": ""
            },
            "colorscale": [
             [
              0,
              "#0d0887"
             ],
             [
              0.1111111111111111,
              "#46039f"
             ],
             [
              0.2222222222222222,
              "#7201a8"
             ],
             [
              0.3333333333333333,
              "#9c179e"
             ],
             [
              0.4444444444444444,
              "#bd3786"
             ],
             [
              0.5555555555555556,
              "#d8576b"
             ],
             [
              0.6666666666666666,
              "#ed7953"
             ],
             [
              0.7777777777777778,
              "#fb9f3a"
             ],
             [
              0.8888888888888888,
              "#fdca26"
             ],
             [
              1,
              "#f0f921"
             ]
            ],
            "type": "histogram2dcontour"
           }
          ],
          "mesh3d": [
           {
            "colorbar": {
             "outlinewidth": 0,
             "ticks": ""
            },
            "type": "mesh3d"
           }
          ],
          "parcoords": [
           {
            "line": {
             "colorbar": {
              "outlinewidth": 0,
              "ticks": ""
             }
            },
            "type": "parcoords"
           }
          ],
          "pie": [
           {
            "automargin": true,
            "type": "pie"
           }
          ],
          "scatter": [
           {
            "marker": {
             "line": {
              "color": "#283442"
             }
            },
            "type": "scatter"
           }
          ],
          "scatter3d": [
           {
            "line": {
             "colorbar": {
              "outlinewidth": 0,
              "ticks": ""
             }
            },
            "marker": {
             "colorbar": {
              "outlinewidth": 0,
              "ticks": ""
             }
            },
            "type": "scatter3d"
           }
          ],
          "scattercarpet": [
           {
            "marker": {
             "colorbar": {
              "outlinewidth": 0,
              "ticks": ""
             }
            },
            "type": "scattercarpet"
           }
          ],
          "scattergeo": [
           {
            "marker": {
             "colorbar": {
              "outlinewidth": 0,
              "ticks": ""
             }
            },
            "type": "scattergeo"
           }
          ],
          "scattergl": [
           {
            "marker": {
             "line": {
              "color": "#283442"
             }
            },
            "type": "scattergl"
           }
          ],
          "scattermap": [
           {
            "marker": {
             "colorbar": {
              "outlinewidth": 0,
              "ticks": ""
             }
            },
            "type": "scattermap"
           }
          ],
          "scattermapbox": [
           {
            "marker": {
             "colorbar": {
              "outlinewidth": 0,
              "ticks": ""
             }
            },
            "type": "scattermapbox"
           }
          ],
          "scatterpolar": [
           {
            "marker": {
             "colorbar": {
              "outlinewidth": 0,
              "ticks": ""
             }
            },
            "type": "scatterpolar"
           }
          ],
          "scatterpolargl": [
           {
            "marker": {
             "colorbar": {
              "outlinewidth": 0,
              "ticks": ""
             }
            },
            "type": "scatterpolargl"
           }
          ],
          "scatterternary": [
           {
            "marker": {
             "colorbar": {
              "outlinewidth": 0,
              "ticks": ""
             }
            },
            "type": "scatterternary"
           }
          ],
          "surface": [
           {
            "colorbar": {
             "outlinewidth": 0,
             "ticks": ""
            },
            "colorscale": [
             [
              0,
              "#0d0887"
             ],
             [
              0.1111111111111111,
              "#46039f"
             ],
             [
              0.2222222222222222,
              "#7201a8"
             ],
             [
              0.3333333333333333,
              "#9c179e"
             ],
             [
              0.4444444444444444,
              "#bd3786"
             ],
             [
              0.5555555555555556,
              "#d8576b"
             ],
             [
              0.6666666666666666,
              "#ed7953"
             ],
             [
              0.7777777777777778,
              "#fb9f3a"
             ],
             [
              0.8888888888888888,
              "#fdca26"
             ],
             [
              1,
              "#f0f921"
             ]
            ],
            "type": "surface"
           }
          ],
          "table": [
           {
            "cells": {
             "fill": {
              "color": "#506784"
             },
             "line": {
              "color": "rgb(17,17,17)"
             }
            },
            "header": {
             "fill": {
              "color": "#2a3f5f"
             },
             "line": {
              "color": "rgb(17,17,17)"
             }
            },
            "type": "table"
           }
          ]
         },
         "layout": {
          "annotationdefaults": {
           "arrowcolor": "#f2f5fa",
           "arrowhead": 0,
           "arrowwidth": 1
          },
          "autotypenumbers": "strict",
          "coloraxis": {
           "colorbar": {
            "outlinewidth": 0,
            "ticks": ""
           }
          },
          "colorscale": {
           "diverging": [
            [
             0,
             "#8e0152"
            ],
            [
             0.1,
             "#c51b7d"
            ],
            [
             0.2,
             "#de77ae"
            ],
            [
             0.3,
             "#f1b6da"
            ],
            [
             0.4,
             "#fde0ef"
            ],
            [
             0.5,
             "#f7f7f7"
            ],
            [
             0.6,
             "#e6f5d0"
            ],
            [
             0.7,
             "#b8e186"
            ],
            [
             0.8,
             "#7fbc41"
            ],
            [
             0.9,
             "#4d9221"
            ],
            [
             1,
             "#276419"
            ]
           ],
           "sequential": [
            [
             0,
             "#0d0887"
            ],
            [
             0.1111111111111111,
             "#46039f"
            ],
            [
             0.2222222222222222,
             "#7201a8"
            ],
            [
             0.3333333333333333,
             "#9c179e"
            ],
            [
             0.4444444444444444,
             "#bd3786"
            ],
            [
             0.5555555555555556,
             "#d8576b"
            ],
            [
             0.6666666666666666,
             "#ed7953"
            ],
            [
             0.7777777777777778,
             "#fb9f3a"
            ],
            [
             0.8888888888888888,
             "#fdca26"
            ],
            [
             1,
             "#f0f921"
            ]
           ],
           "sequentialminus": [
            [
             0,
             "#0d0887"
            ],
            [
             0.1111111111111111,
             "#46039f"
            ],
            [
             0.2222222222222222,
             "#7201a8"
            ],
            [
             0.3333333333333333,
             "#9c179e"
            ],
            [
             0.4444444444444444,
             "#bd3786"
            ],
            [
             0.5555555555555556,
             "#d8576b"
            ],
            [
             0.6666666666666666,
             "#ed7953"
            ],
            [
             0.7777777777777778,
             "#fb9f3a"
            ],
            [
             0.8888888888888888,
             "#fdca26"
            ],
            [
             1,
             "#f0f921"
            ]
           ]
          },
          "colorway": [
           "#636efa",
           "#EF553B",
           "#00cc96",
           "#ab63fa",
           "#FFA15A",
           "#19d3f3",
           "#FF6692",
           "#B6E880",
           "#FF97FF",
           "#FECB52"
          ],
          "font": {
           "color": "#f2f5fa"
          },
          "geo": {
           "bgcolor": "rgb(17,17,17)",
           "lakecolor": "rgb(17,17,17)",
           "landcolor": "rgb(17,17,17)",
           "showlakes": true,
           "showland": true,
           "subunitcolor": "#506784"
          },
          "hoverlabel": {
           "align": "left"
          },
          "hovermode": "closest",
          "mapbox": {
           "style": "dark"
          },
          "paper_bgcolor": "rgb(17,17,17)",
          "plot_bgcolor": "rgb(17,17,17)",
          "polar": {
           "angularaxis": {
            "gridcolor": "#506784",
            "linecolor": "#506784",
            "ticks": ""
           },
           "bgcolor": "rgb(17,17,17)",
           "radialaxis": {
            "gridcolor": "#506784",
            "linecolor": "#506784",
            "ticks": ""
           }
          },
          "scene": {
           "xaxis": {
            "backgroundcolor": "rgb(17,17,17)",
            "gridcolor": "#506784",
            "gridwidth": 2,
            "linecolor": "#506784",
            "showbackground": true,
            "ticks": "",
            "zerolinecolor": "#C8D4E3"
           },
           "yaxis": {
            "backgroundcolor": "rgb(17,17,17)",
            "gridcolor": "#506784",
            "gridwidth": 2,
            "linecolor": "#506784",
            "showbackground": true,
            "ticks": "",
            "zerolinecolor": "#C8D4E3"
           },
           "zaxis": {
            "backgroundcolor": "rgb(17,17,17)",
            "gridcolor": "#506784",
            "gridwidth": 2,
            "linecolor": "#506784",
            "showbackground": true,
            "ticks": "",
            "zerolinecolor": "#C8D4E3"
           }
          },
          "shapedefaults": {
           "line": {
            "color": "#f2f5fa"
           }
          },
          "sliderdefaults": {
           "bgcolor": "#C8D4E3",
           "bordercolor": "rgb(17,17,17)",
           "borderwidth": 1,
           "tickwidth": 0
          },
          "ternary": {
           "aaxis": {
            "gridcolor": "#506784",
            "linecolor": "#506784",
            "ticks": ""
           },
           "baxis": {
            "gridcolor": "#506784",
            "linecolor": "#506784",
            "ticks": ""
           },
           "bgcolor": "rgb(17,17,17)",
           "caxis": {
            "gridcolor": "#506784",
            "linecolor": "#506784",
            "ticks": ""
           }
          },
          "title": {
           "x": 0.05
          },
          "updatemenudefaults": {
           "bgcolor": "#506784",
           "borderwidth": 0
          },
          "xaxis": {
           "automargin": true,
           "gridcolor": "#283442",
           "linecolor": "#506784",
           "ticks": "",
           "title": {
            "standoff": 15
           },
           "zerolinecolor": "#283442",
           "zerolinewidth": 2
          },
          "yaxis": {
           "automargin": true,
           "gridcolor": "#283442",
           "linecolor": "#506784",
           "ticks": "",
           "title": {
            "standoff": 15
           },
           "zerolinecolor": "#283442",
           "zerolinewidth": 2
          }
         }
        },
        "title": {
         "text": "Metric: index_radioactive_releas"
        },
        "updatemenus": [
         {
          "active": 7,
          "buttons": [
           {
            "args": [
             {
              "visible": [
               true,
               true,
               true,
               true,
               false,
               false,
               false,
               false,
               false,
               false,
               false,
               false,
               false,
               false,
               false,
               false,
               false,
               false,
               false,
               false,
               false,
               false,
               false,
               false,
               false,
               false,
               false,
               false,
               false,
               false,
               false,
               false,
               false,
               false,
               false,
               false
              ]
             },
             {
              "title": "Metric: iodine_ radionuclides",
              "yaxis": {
               "range": [
                0,
                553
               ]
              },
              "yaxis_title": "Iodine  Radionuclides"
             }
            ],
            "label": "iodine_ radionuclides",
            "method": "update"
           },
           {
            "args": [
             {
              "visible": [
               false,
               false,
               false,
               false,
               true,
               true,
               true,
               true,
               false,
               false,
               false,
               false,
               false,
               false,
               false,
               false,
               false,
               false,
               false,
               false,
               false,
               false,
               false,
               false,
               false,
               false,
               false,
               false,
               false,
               false,
               false,
               false,
               false,
               false,
               false,
               false
              ]
             },
             {
              "title": "Metric: iodine_ radionuclides_index",
              "yaxis": {
               "range": [
                0,
                1
               ]
              },
              "yaxis_title": "Iodine  Radionuclides Index"
             }
            ],
            "label": "iodine_ radionuclides_index",
            "method": "update"
           },
           {
            "args": [
             {
              "visible": [
               false,
               false,
               false,
               false,
               false,
               false,
               false,
               false,
               true,
               true,
               true,
               true,
               false,
               false,
               false,
               false,
               false,
               false,
               false,
               false,
               false,
               false,
               false,
               false,
               false,
               false,
               false,
               false,
               false,
               false,
               false,
               false,
               false,
               false,
               false,
               false
              ]
             },
             {
              "title": "Metric: stable_radionuclides",
              "yaxis": {
               "range": [
                0,
                755
               ]
              },
              "yaxis_title": "Stable Radionuclides"
             }
            ],
            "label": "stable_radionuclides",
            "method": "update"
           },
           {
            "args": [
             {
              "visible": [
               false,
               false,
               false,
               false,
               false,
               false,
               false,
               false,
               false,
               false,
               false,
               false,
               true,
               true,
               true,
               true,
               false,
               false,
               false,
               false,
               false,
               false,
               false,
               false,
               false,
               false,
               false,
               false,
               false,
               false,
               false,
               false,
               false,
               false,
               false,
               false
              ]
             },
             {
              "title": "Metric: cs_137_emission",
              "yaxis": {
               "range": [
                0,
                2116
               ]
              },
              "yaxis_title": "Cs 137 Emission"
             }
            ],
            "label": "cs_137_emission",
            "method": "update"
           },
           {
            "args": [
             {
              "visible": [
               false,
               false,
               false,
               false,
               false,
               false,
               false,
               false,
               false,
               false,
               false,
               false,
               false,
               false,
               false,
               false,
               true,
               true,
               true,
               true,
               false,
               false,
               false,
               false,
               false,
               false,
               false,
               false,
               false,
               false,
               false,
               false,
               false,
               false,
               false,
               false
              ]
             },
             {
              "title": "Metric: co_60_ emission",
              "yaxis": {
               "range": [
                0,
                3640
               ]
              },
              "yaxis_title": "Co 60  Emission"
             }
            ],
            "label": "co_60_ emission",
            "method": "update"
           },
           {
            "args": [
             {
              "visible": [
               false,
               false,
               false,
               false,
               false,
               false,
               false,
               false,
               false,
               false,
               false,
               false,
               false,
               false,
               false,
               false,
               false,
               false,
               false,
               false,
               true,
               true,
               true,
               true,
               false,
               false,
               false,
               false,
               false,
               false,
               false,
               false,
               false,
               false,
               false,
               false
              ]
             },
             {
              "title": "Metric: cs_137_dump",
              "yaxis": {
               "range": [
                0,
                20249
               ]
              },
              "yaxis_title": "Cs 137 Dump"
             }
            ],
            "label": "cs_137_dump",
            "method": "update"
           },
           {
            "args": [
             {
              "visible": [
               false,
               false,
               false,
               false,
               false,
               false,
               false,
               false,
               false,
               false,
               false,
               false,
               false,
               false,
               false,
               false,
               false,
               false,
               false,
               false,
               false,
               false,
               false,
               false,
               true,
               true,
               true,
               true,
               false,
               false,
               false,
               false,
               false,
               false,
               false,
               false
              ]
             },
             {
              "title": "Metric: co_60_dump",
              "yaxis": {
               "range": [
                0,
                9001
               ]
              },
              "yaxis_title": "Co 60 Dump"
             }
            ],
            "label": "co_60_dump",
            "method": "update"
           },
           {
            "args": [
             {
              "visible": [
               false,
               false,
               false,
               false,
               false,
               false,
               false,
               false,
               false,
               false,
               false,
               false,
               false,
               false,
               false,
               false,
               false,
               false,
               false,
               false,
               false,
               false,
               false,
               false,
               false,
               false,
               false,
               false,
               true,
               true,
               true,
               true,
               false,
               false,
               false,
               false
              ]
             },
             {
              "title": "Metric: index_radioactive_releas",
              "yaxis": {
               "range": [
                0,
                6
               ]
              },
              "yaxis_title": "Index Radioactive Releas"
             }
            ],
            "label": "index_radioactive_releas",
            "method": "update"
           },
           {
            "args": [
             {
              "visible": [
               false,
               false,
               false,
               false,
               false,
               false,
               false,
               false,
               false,
               false,
               false,
               false,
               false,
               false,
               false,
               false,
               false,
               false,
               false,
               false,
               false,
               false,
               false,
               false,
               false,
               false,
               false,
               false,
               false,
               false,
               false,
               false,
               true,
               true,
               true,
               true
              ]
             },
             {
              "title": "Metric: index_dump",
              "yaxis": {
               "range": [
                0,
                5
               ]
              },
              "yaxis_title": "Index Dump"
             }
            ],
            "label": "index_dump",
            "method": "update"
           }
          ],
          "type": "dropdown",
          "x": 1,
          "xanchor": "right",
          "y": 1.2
         }
        ],
        "width": 1000,
        "xaxis": {
         "domain": [
          0,
          0.94
         ],
         "showgrid": true,
         "showline": true,
         "tickangle": -45,
         "title": {
          "text": "Date"
         }
        },
        "yaxis": {
         "range": [
          0,
          6
         ],
         "title": {
          "text": "Release Index"
         }
        }
       }
      }
     },
     "metadata": {},
     "output_type": "display_data"
    }
   ],
   "source": [
    "import pandas as pd\n",
    "import plotly.graph_objects as go\n",
    "\n",
    "stations_en_list = sorted(dataset_df[\"station_en\"].unique())\n",
    "\n",
    "\n",
    "# Максимальні значення для масштабування по y\n",
    "max_values = {\n",
    "    metric: round(dataset_df[metric].max() + 1)\n",
    "    if pd.notnull(dataset_df[metric].max())\n",
    "    else 1\n",
    "    for metric in metrics\n",
    "}\n",
    "\n",
    "fig = go.Figure()\n",
    "traces = []\n",
    "\n",
    "# Створення всіх графіків\n",
    "for metric in metrics:\n",
    "    for station in stations_en_list:\n",
    "        df_station = dataset_df[dataset_df[\"station_en\"] == station]\n",
    "        trace = go.Scatter(\n",
    "            x=df_station[\"date\"],\n",
    "            y=df_station[metric],\n",
    "            name=station,\n",
    "            visible=(metric == \"index_radioactive_releas\"),\n",
    "            legendgroup=station,\n",
    "        )\n",
    "        fig.add_trace(trace)\n",
    "        traces.append((metric, station, trace))\n",
    "\n",
    "# Кнопки для перемикання метрик\n",
    "buttons = []\n",
    "for metric in metrics:\n",
    "    visibility = [(m == metric) for (m, _, _) in traces]\n",
    "    buttons.append(\n",
    "        dict(\n",
    "            label=metric,\n",
    "            method=\"update\",\n",
    "            args=[\n",
    "                {\"visible\": visibility},\n",
    "                {\n",
    "                    \"title\": f\"Metric: {metric}\",\n",
    "                    \"yaxis\": {\"range\": [0, max_values[metric]]},\n",
    "                    \"yaxis_title\": metric.replace(\"_\", \" \").title(),\n",
    "                },\n",
    "            ],\n",
    "        )\n",
    "    )\n",
    "\n",
    "# Оновлення макету\n",
    "fig.update_layout(\n",
    "    updatemenus=[\n",
    "        dict(\n",
    "            type=\"dropdown\",\n",
    "            active=metrics.index(\"index_radioactive_releas\"),\n",
    "            buttons=buttons,\n",
    "            xanchor=\"right\",\n",
    "            x=1,\n",
    "            y=1.2,\n",
    "        )\n",
    "    ],\n",
    "    title=\"Metric: index_radioactive_releas\",\n",
    "    xaxis_title=\"Date\",\n",
    "    xaxis=dict(tickangle=-45, showgrid=True, showline=True, domain=[0, 0.94]),\n",
    "    yaxis_title=\"Release Index\",\n",
    "    yaxis=dict(\n",
    "        range=[0, max_values[\"index_radioactive_releas\"]],\n",
    "    ),\n",
    "    template=\"plotly_dark\",\n",
    "    width=1000,\n",
    "    height=600,\n",
    "    legend=dict(\n",
    "        title=\"Station\",\n",
    "        orientation=\"v\",\n",
    "        x=1.02,\n",
    "        y=1,\n",
    "        xanchor=\"left\",\n",
    "        yanchor=\"top\",\n",
    "        bgcolor=\"rgba(0,0,0,0)\",\n",
    "        borderwidth=1,\n",
    "        font=dict(size=12, color=\"white\"),\n",
    "        itemwidth=40,\n",
    "    ),\n",
    "    margin=dict(r=200),\n",
    ")\n",
    "\n",
    "fig.show()\n"
   ]
  },
  {
   "cell_type": "markdown",
   "metadata": {
    "id": "kQ2or0LEYPQx"
   },
   "source": [
    "### Висновки\n",
    "1. В Україні є чотири Атомні електростанції.\n",
    "2. В другій половині 2021 року на **ЮУАЕС** сталася ситуація, що причинила підвищення сумарних викидів в атмосферу більше ніж у 30 разів.\n",
    "3. В першому кварталі 2022 року ([22 січня 2022 року о 14:08](https://uk.wikipedia.org/wiki/%D0%9F%D1%96%D0%B2%D0%B4%D0%B5%D0%BD%D0%BD%D0%BE%D1%83%D0%BA%D1%80%D0%B0%D1%97%D0%BD%D1%81%D1%8C%D0%BA%D0%B0_%D0%90%D0%95%D0%A1)) **ЮУАЕС** припинила роботу, що співпадає з відкритими даними на [Вікіпедії](https://uk.wikipedia.org/wiki/%D0%9F%D1%96%D0%B2%D0%B4%D0%B5%D0%BD%D0%BD%D0%BE%D1%83%D0%BA%D1%80%D0%B0%D1%97%D0%BD%D1%81%D1%8C%D0%BA%D0%B0_%D0%90%D0%95%D0%A1). Після відключення дані про викиди станції не надходили.\n",
    "4. З четвертого кварталу 2022 року дані про викиди **ЗАЕС** не надходять через війсьові злочини рф.\n",
    "5. На сьогоднішній день у штатному режимі працюють станції **РАЕС** та **ХАЕС**."
   ]
  }
 ],
 "metadata": {
  "colab": {
   "provenance": []
  },
  "kernelspec": {
   "display_name": "ukrainian-npps-OxTZId6f-py3.12",
   "language": "python",
   "name": "python3"
  },
  "language_info": {
   "codemirror_mode": {
    "name": "ipython",
    "version": 3
   },
   "file_extension": ".py",
   "mimetype": "text/x-python",
   "name": "python",
   "nbconvert_exporter": "python",
   "pygments_lexer": "ipython3",
   "version": "3.12.8"
  }
 },
 "nbformat": 4,
 "nbformat_minor": 0
}
